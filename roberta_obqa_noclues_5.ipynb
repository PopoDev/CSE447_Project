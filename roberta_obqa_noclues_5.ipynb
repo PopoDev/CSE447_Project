{
 "cells": [
  {
   "cell_type": "code",
   "execution_count": 1,
   "id": "424be4c6",
   "metadata": {
    "_cell_guid": "b1076dfc-b9ad-4769-8c92-a6c4dae69d19",
    "_uuid": "8f2839f25d086af736a60e9eeb907d3b93b6e0e5",
    "execution": {
     "iopub.execute_input": "2024-02-19T05:33:24.474777Z",
     "iopub.status.busy": "2024-02-19T05:33:24.473852Z",
     "iopub.status.idle": "2024-02-19T05:33:25.363833Z",
     "shell.execute_reply": "2024-02-19T05:33:25.363099Z"
    },
    "papermill": {
     "duration": 0.89919,
     "end_time": "2024-02-19T05:33:25.366155",
     "exception": false,
     "start_time": "2024-02-19T05:33:24.466965",
     "status": "completed"
    },
    "tags": []
   },
   "outputs": [],
   "source": [
    "# This Python 3 environment comes with many helpful analytics libraries installed\n",
    "# It is defined by the kaggle/python Docker image: https://github.com/kaggle/docker-python\n",
    "# For example, here's several helpful packages to load\n",
    "\n",
    "import numpy as np # linear algebra\n",
    "import pandas as pd # data processing, CSV file I/O (e.g. pd.read_csv)\n",
    "\n",
    "# Input data files are available in the read-only \"../input/\" directory\n",
    "# For example, running this (by clicking run or pressing Shift+Enter) will list all files under the input directory\n",
    "\n",
    "import os\n",
    "for dirname, _, filenames in os.walk('/kaggle/input'):\n",
    "    for filename in filenames:\n",
    "        print(os.path.join(dirname, filename))\n",
    "\n",
    "# You can write up to 20GB to the current directory (/kaggle/working/) that gets preserved as output when you create a version using \"Save & Run All\" \n",
    "# You can also write temporary files to /kaggle/temp/, but they won't be saved outside of the current session"
   ]
  },
  {
   "cell_type": "code",
   "execution_count": 2,
   "id": "17a924f3",
   "metadata": {
    "execution": {
     "iopub.execute_input": "2024-02-19T05:33:25.377945Z",
     "iopub.status.busy": "2024-02-19T05:33:25.377541Z",
     "iopub.status.idle": "2024-02-19T05:33:28.148614Z",
     "shell.execute_reply": "2024-02-19T05:33:28.147418Z"
    },
    "papermill": {
     "duration": 2.779725,
     "end_time": "2024-02-19T05:33:28.151277",
     "exception": false,
     "start_time": "2024-02-19T05:33:25.371552",
     "status": "completed"
    },
    "tags": []
   },
   "outputs": [
    {
     "name": "stdout",
     "output_type": "stream",
     "text": [
      "Cloning into 'CSE447_Project'...\r\n",
      "remote: Enumerating objects: 178, done.\u001b[K\r\n",
      "remote: Counting objects: 100% (178/178), done.\u001b[K\r\n",
      "remote: Compressing objects: 100% (129/129), done.\u001b[K\r\n",
      "remote: Total 178 (delta 90), reused 126 (delta 42), pack-reused 0\u001b[K\r\n",
      "Receiving objects: 100% (178/178), 10.20 MiB | 13.91 MiB/s, done.\r\n",
      "Resolving deltas: 100% (90/90), done.\r\n"
     ]
    }
   ],
   "source": [
    "!git clone https://github.com/PopoDev/CSE447_Project.git"
   ]
  },
  {
   "cell_type": "code",
   "execution_count": 3,
   "id": "89cd2d1b",
   "metadata": {
    "execution": {
     "iopub.execute_input": "2024-02-19T05:33:28.165058Z",
     "iopub.status.busy": "2024-02-19T05:33:28.164335Z",
     "iopub.status.idle": "2024-02-19T05:33:29.138722Z",
     "shell.execute_reply": "2024-02-19T05:33:29.137735Z"
    },
    "papermill": {
     "duration": 0.983684,
     "end_time": "2024-02-19T05:33:29.140932",
     "exception": false,
     "start_time": "2024-02-19T05:33:28.157248",
     "status": "completed"
    },
    "tags": []
   },
   "outputs": [
    {
     "name": "stdout",
     "output_type": "stream",
     "text": [
      "\u001b[0m\u001b[01;34mCSE447_Project\u001b[0m/  __notebook__.ipynb\r\n"
     ]
    }
   ],
   "source": [
    "ls"
   ]
  },
  {
   "cell_type": "code",
   "execution_count": 4,
   "id": "3546b095",
   "metadata": {
    "execution": {
     "iopub.execute_input": "2024-02-19T05:33:29.153821Z",
     "iopub.status.busy": "2024-02-19T05:33:29.153533Z",
     "iopub.status.idle": "2024-02-19T05:33:29.159331Z",
     "shell.execute_reply": "2024-02-19T05:33:29.158500Z"
    },
    "papermill": {
     "duration": 0.014507,
     "end_time": "2024-02-19T05:33:29.161334",
     "exception": false,
     "start_time": "2024-02-19T05:33:29.146827",
     "status": "completed"
    },
    "tags": []
   },
   "outputs": [
    {
     "name": "stdout",
     "output_type": "stream",
     "text": [
      "/kaggle/working/CSE447_Project\n"
     ]
    }
   ],
   "source": [
    "cd CSE447_Project/"
   ]
  },
  {
   "cell_type": "code",
   "execution_count": 5,
   "id": "805971be",
   "metadata": {
    "execution": {
     "iopub.execute_input": "2024-02-19T05:33:29.173490Z",
     "iopub.status.busy": "2024-02-19T05:33:29.173248Z",
     "iopub.status.idle": "2024-02-19T05:33:30.301274Z",
     "shell.execute_reply": "2024-02-19T05:33:30.300299Z"
    },
    "papermill": {
     "duration": 1.136786,
     "end_time": "2024-02-19T05:33:30.303637",
     "exception": false,
     "start_time": "2024-02-19T05:33:29.166851",
     "status": "completed"
    },
    "tags": []
   },
   "outputs": [
    {
     "name": "stdout",
     "output_type": "stream",
     "text": [
      "Already up to date.\r\n"
     ]
    }
   ],
   "source": [
    "!git pull"
   ]
  },
  {
   "cell_type": "markdown",
   "id": "a60a520b",
   "metadata": {
    "papermill": {
     "duration": 0.005514,
     "end_time": "2024-02-19T05:33:30.314976",
     "exception": false,
     "start_time": "2024-02-19T05:33:30.309462",
     "status": "completed"
    },
    "tags": []
   },
   "source": [
    "# Student"
   ]
  },
  {
   "cell_type": "code",
   "execution_count": 6,
   "id": "941645a2",
   "metadata": {
    "execution": {
     "iopub.execute_input": "2024-02-19T05:33:30.327746Z",
     "iopub.status.busy": "2024-02-19T05:33:30.327433Z",
     "iopub.status.idle": "2024-02-19T05:33:30.333168Z",
     "shell.execute_reply": "2024-02-19T05:33:30.332344Z"
    },
    "papermill": {
     "duration": 0.014712,
     "end_time": "2024-02-19T05:33:30.335259",
     "exception": false,
     "start_time": "2024-02-19T05:33:30.320547",
     "status": "completed"
    },
    "tags": []
   },
   "outputs": [
    {
     "name": "stdout",
     "output_type": "stream",
     "text": [
      "/kaggle/working/CSE447_Project/Student\n"
     ]
    }
   ],
   "source": [
    "cd /kaggle/working/CSE447_Project/Student"
   ]
  },
  {
   "cell_type": "code",
   "execution_count": 7,
   "id": "1ac764ba",
   "metadata": {
    "execution": {
     "iopub.execute_input": "2024-02-19T05:33:30.347530Z",
     "iopub.status.busy": "2024-02-19T05:33:30.347266Z",
     "iopub.status.idle": "2024-02-19T05:33:31.310042Z",
     "shell.execute_reply": "2024-02-19T05:33:31.309110Z"
    },
    "papermill": {
     "duration": 0.971409,
     "end_time": "2024-02-19T05:33:31.312366",
     "exception": false,
     "start_time": "2024-02-19T05:33:30.340957",
     "status": "completed"
    },
    "tags": []
   },
   "outputs": [
    {
     "name": "stdout",
     "output_type": "stream",
     "text": [
      "arguments.py  \u001b[0m\u001b[01;34mdata\u001b[0m/  \u001b[01;34mdataloader\u001b[0m/  \u001b[01;34mmodel\u001b[0m/  requirements.txt  run.py  train.py\r\n"
     ]
    }
   ],
   "source": [
    "ls"
   ]
  },
  {
   "cell_type": "code",
   "execution_count": 8,
   "id": "9e5ac395",
   "metadata": {
    "execution": {
     "iopub.execute_input": "2024-02-19T05:33:31.326763Z",
     "iopub.status.busy": "2024-02-19T05:33:31.326004Z",
     "iopub.status.idle": "2024-02-19T05:33:45.672079Z",
     "shell.execute_reply": "2024-02-19T05:33:45.670920Z"
    },
    "papermill": {
     "duration": 14.356389,
     "end_time": "2024-02-19T05:33:45.674744",
     "exception": false,
     "start_time": "2024-02-19T05:33:31.318355",
     "status": "completed"
    },
    "tags": []
   },
   "outputs": [
    {
     "name": "stdout",
     "output_type": "stream",
     "text": [
      "Collecting sentence-transformers (from -r requirements.txt (line 1))\r\n",
      "  Downloading sentence_transformers-2.3.1-py3-none-any.whl.metadata (11 kB)\r\n",
      "Requirement already satisfied: transformers<5.0.0,>=4.32.0 in /opt/conda/lib/python3.10/site-packages (from sentence-transformers->-r requirements.txt (line 1)) (4.37.0)\r\n",
      "Requirement already satisfied: tqdm in /opt/conda/lib/python3.10/site-packages (from sentence-transformers->-r requirements.txt (line 1)) (4.66.1)\r\n",
      "Requirement already satisfied: torch>=1.11.0 in /opt/conda/lib/python3.10/site-packages (from sentence-transformers->-r requirements.txt (line 1)) (2.1.2)\r\n",
      "Requirement already satisfied: numpy in /opt/conda/lib/python3.10/site-packages (from sentence-transformers->-r requirements.txt (line 1)) (1.24.4)\r\n",
      "Requirement already satisfied: scikit-learn in /opt/conda/lib/python3.10/site-packages (from sentence-transformers->-r requirements.txt (line 1)) (1.2.2)\r\n",
      "Requirement already satisfied: scipy in /opt/conda/lib/python3.10/site-packages (from sentence-transformers->-r requirements.txt (line 1)) (1.11.4)\r\n",
      "Requirement already satisfied: nltk in /opt/conda/lib/python3.10/site-packages (from sentence-transformers->-r requirements.txt (line 1)) (3.2.4)\r\n",
      "Requirement already satisfied: sentencepiece in /opt/conda/lib/python3.10/site-packages (from sentence-transformers->-r requirements.txt (line 1)) (0.1.99)\r\n",
      "Requirement already satisfied: huggingface-hub>=0.15.1 in /opt/conda/lib/python3.10/site-packages (from sentence-transformers->-r requirements.txt (line 1)) (0.20.3)\r\n",
      "Requirement already satisfied: Pillow in /opt/conda/lib/python3.10/site-packages (from sentence-transformers->-r requirements.txt (line 1)) (9.5.0)\r\n",
      "Requirement already satisfied: filelock in /opt/conda/lib/python3.10/site-packages (from huggingface-hub>=0.15.1->sentence-transformers->-r requirements.txt (line 1)) (3.13.1)\r\n",
      "Requirement already satisfied: fsspec>=2023.5.0 in /opt/conda/lib/python3.10/site-packages (from huggingface-hub>=0.15.1->sentence-transformers->-r requirements.txt (line 1)) (2023.12.2)\r\n",
      "Requirement already satisfied: requests in /opt/conda/lib/python3.10/site-packages (from huggingface-hub>=0.15.1->sentence-transformers->-r requirements.txt (line 1)) (2.31.0)\r\n",
      "Requirement already satisfied: pyyaml>=5.1 in /opt/conda/lib/python3.10/site-packages (from huggingface-hub>=0.15.1->sentence-transformers->-r requirements.txt (line 1)) (6.0.1)\r\n",
      "Requirement already satisfied: typing-extensions>=3.7.4.3 in /opt/conda/lib/python3.10/site-packages (from huggingface-hub>=0.15.1->sentence-transformers->-r requirements.txt (line 1)) (4.9.0)\r\n",
      "Requirement already satisfied: packaging>=20.9 in /opt/conda/lib/python3.10/site-packages (from huggingface-hub>=0.15.1->sentence-transformers->-r requirements.txt (line 1)) (21.3)\r\n",
      "Requirement already satisfied: sympy in /opt/conda/lib/python3.10/site-packages (from torch>=1.11.0->sentence-transformers->-r requirements.txt (line 1)) (1.12)\r\n",
      "Requirement already satisfied: networkx in /opt/conda/lib/python3.10/site-packages (from torch>=1.11.0->sentence-transformers->-r requirements.txt (line 1)) (3.2.1)\r\n",
      "Requirement already satisfied: jinja2 in /opt/conda/lib/python3.10/site-packages (from torch>=1.11.0->sentence-transformers->-r requirements.txt (line 1)) (3.1.2)\r\n",
      "Requirement already satisfied: regex!=2019.12.17 in /opt/conda/lib/python3.10/site-packages (from transformers<5.0.0,>=4.32.0->sentence-transformers->-r requirements.txt (line 1)) (2023.12.25)\r\n",
      "Requirement already satisfied: tokenizers<0.19,>=0.14 in /opt/conda/lib/python3.10/site-packages (from transformers<5.0.0,>=4.32.0->sentence-transformers->-r requirements.txt (line 1)) (0.15.1)\r\n",
      "Requirement already satisfied: safetensors>=0.3.1 in /opt/conda/lib/python3.10/site-packages (from transformers<5.0.0,>=4.32.0->sentence-transformers->-r requirements.txt (line 1)) (0.4.2)\r\n",
      "Requirement already satisfied: six in /opt/conda/lib/python3.10/site-packages (from nltk->sentence-transformers->-r requirements.txt (line 1)) (1.16.0)\r\n",
      "Requirement already satisfied: joblib>=1.1.1 in /opt/conda/lib/python3.10/site-packages (from scikit-learn->sentence-transformers->-r requirements.txt (line 1)) (1.3.2)\r\n",
      "Requirement already satisfied: threadpoolctl>=2.0.0 in /opt/conda/lib/python3.10/site-packages (from scikit-learn->sentence-transformers->-r requirements.txt (line 1)) (3.2.0)\r\n",
      "Requirement already satisfied: pyparsing!=3.0.5,>=2.0.2 in /opt/conda/lib/python3.10/site-packages (from packaging>=20.9->huggingface-hub>=0.15.1->sentence-transformers->-r requirements.txt (line 1)) (3.1.1)\r\n",
      "Requirement already satisfied: MarkupSafe>=2.0 in /opt/conda/lib/python3.10/site-packages (from jinja2->torch>=1.11.0->sentence-transformers->-r requirements.txt (line 1)) (2.1.3)\r\n",
      "Requirement already satisfied: charset-normalizer<4,>=2 in /opt/conda/lib/python3.10/site-packages (from requests->huggingface-hub>=0.15.1->sentence-transformers->-r requirements.txt (line 1)) (3.3.2)\r\n",
      "Requirement already satisfied: idna<4,>=2.5 in /opt/conda/lib/python3.10/site-packages (from requests->huggingface-hub>=0.15.1->sentence-transformers->-r requirements.txt (line 1)) (3.6)\r\n",
      "Requirement already satisfied: urllib3<3,>=1.21.1 in /opt/conda/lib/python3.10/site-packages (from requests->huggingface-hub>=0.15.1->sentence-transformers->-r requirements.txt (line 1)) (1.26.18)\r\n",
      "Requirement already satisfied: certifi>=2017.4.17 in /opt/conda/lib/python3.10/site-packages (from requests->huggingface-hub>=0.15.1->sentence-transformers->-r requirements.txt (line 1)) (2023.11.17)\r\n",
      "Requirement already satisfied: mpmath>=0.19 in /opt/conda/lib/python3.10/site-packages (from sympy->torch>=1.11.0->sentence-transformers->-r requirements.txt (line 1)) (1.3.0)\r\n",
      "Downloading sentence_transformers-2.3.1-py3-none-any.whl (132 kB)\r\n",
      "\u001b[2K   \u001b[90m━━━━━━━━━━━━━━━━━━━━━━━━━━━━━━━━━━━━━━━━\u001b[0m \u001b[32m132.8/132.8 kB\u001b[0m \u001b[31m1.4 MB/s\u001b[0m eta \u001b[36m0:00:00\u001b[0m\r\n",
      "\u001b[?25hInstalling collected packages: sentence-transformers\r\n",
      "Successfully installed sentence-transformers-2.3.1\r\n"
     ]
    }
   ],
   "source": [
    "!pip install -r requirements.txt"
   ]
  },
  {
   "cell_type": "code",
   "execution_count": 9,
   "id": "b6190df0",
   "metadata": {
    "execution": {
     "iopub.execute_input": "2024-02-19T05:33:45.691659Z",
     "iopub.status.busy": "2024-02-19T05:33:45.690868Z",
     "iopub.status.idle": "2024-02-19T05:33:51.288238Z",
     "shell.execute_reply": "2024-02-19T05:33:51.286979Z"
    },
    "papermill": {
     "duration": 5.608296,
     "end_time": "2024-02-19T05:33:51.290565",
     "exception": false,
     "start_time": "2024-02-19T05:33:45.682269",
     "status": "completed"
    },
    "tags": []
   },
   "outputs": [
    {
     "name": "stdout",
     "output_type": "stream",
     "text": [
      "Mon Feb 19 05:33:51 2024       \r\n",
      "+---------------------------------------------------------------------------------------+\r\n",
      "| NVIDIA-SMI 535.129.03             Driver Version: 535.129.03   CUDA Version: 12.2     |\r\n",
      "|-----------------------------------------+----------------------+----------------------+\r\n",
      "| GPU  Name                 Persistence-M | Bus-Id        Disp.A | Volatile Uncorr. ECC |\r\n",
      "| Fan  Temp   Perf          Pwr:Usage/Cap |         Memory-Usage | GPU-Util  Compute M. |\r\n",
      "|                                         |                      |               MIG M. |\r\n",
      "|=========================================+======================+======================|\r\n",
      "|   0  Tesla T4                       Off | 00000000:00:04.0 Off |                    0 |\r\n",
      "| N/A   36C    P8               9W /  70W |      0MiB / 15360MiB |      0%      Default |\r\n",
      "|                                         |                      |                  N/A |\r\n",
      "+-----------------------------------------+----------------------+----------------------+\r\n",
      "|   1  Tesla T4                       Off | 00000000:00:05.0 Off |                    0 |\r\n",
      "| N/A   35C    P8               9W /  70W |      0MiB / 15360MiB |      0%      Default |\r\n",
      "|                                         |                      |                  N/A |\r\n",
      "+-----------------------------------------+----------------------+----------------------+\r\n",
      "                                                                                         \r\n",
      "+---------------------------------------------------------------------------------------+\r\n",
      "| Processes:                                                                            |\r\n",
      "|  GPU   GI   CI        PID   Type   Process name                            GPU Memory |\r\n",
      "|        ID   ID                                                             Usage      |\r\n",
      "|=======================================================================================|\r\n",
      "|  No running processes found                                                           |\r\n",
      "+---------------------------------------------------------------------------------------+\r\n"
     ]
    }
   ],
   "source": [
    "import gc\n",
    "import torch\n",
    "\n",
    "model = None\n",
    "gc.collect()\n",
    "torch.cuda.empty_cache()\n",
    "!nvidia-smi"
   ]
  },
  {
   "cell_type": "code",
   "execution_count": 10,
   "id": "43f0c876",
   "metadata": {
    "execution": {
     "iopub.execute_input": "2024-02-19T05:33:51.307412Z",
     "iopub.status.busy": "2024-02-19T05:33:51.306739Z",
     "iopub.status.idle": "2024-02-19T06:55:24.734251Z",
     "shell.execute_reply": "2024-02-19T06:55:24.733058Z"
    },
    "papermill": {
     "duration": 4893.43845,
     "end_time": "2024-02-19T06:55:24.736673",
     "exception": false,
     "start_time": "2024-02-19T05:33:51.298223",
     "status": "completed"
    },
    "tags": []
   },
   "outputs": [
    {
     "name": "stdout",
     "output_type": "stream",
     "text": [
      "2024-02-19 05:34:01.292256: E external/local_xla/xla/stream_executor/cuda/cuda_dnn.cc:9261] Unable to register cuDNN factory: Attempting to register factory for plugin cuDNN when one has already been registered\r\n",
      "2024-02-19 05:34:01.292366: E external/local_xla/xla/stream_executor/cuda/cuda_fft.cc:607] Unable to register cuFFT factory: Attempting to register factory for plugin cuFFT when one has already been registered\r\n",
      "2024-02-19 05:34:01.460372: E external/local_xla/xla/stream_executor/cuda/cuda_blas.cc:1515] Unable to register cuBLAS factory: Attempting to register factory for plugin cuBLAS when one has already been registered\r\n",
      "modules.json: 100%|████████████████████████████| 349/349 [00:00<00:00, 1.46MB/s]\r\n",
      "config_sentence_transformers.json: 100%|████████| 116/116 [00:00<00:00, 683kB/s]\r\n",
      "README.md: 100%|███████████████████████████| 10.6k/10.6k [00:00<00:00, 39.9MB/s]\r\n",
      "sentence_bert_config.json: 100%|██████████████| 53.0/53.0 [00:00<00:00, 306kB/s]\r\n",
      "config.json: 100%|█████████████████████████████| 571/571 [00:00<00:00, 3.51MB/s]\r\n",
      "pytorch_model.bin: 100%|██████████████████████| 438M/438M [00:02<00:00, 204MB/s]\r\n",
      "/opt/conda/lib/python3.10/site-packages/torch/_utils.py:831: UserWarning: TypedStorage is deprecated. It will be removed in the future and UntypedStorage will be the only storage class. This should only matter to you if you are using storages directly.  To access UntypedStorage directly, use tensor.untyped_storage() instead of tensor.storage()\r\n",
      "  return self.fget.__get__(instance, owner)()\r\n",
      "tokenizer_config.json: 100%|███████████████████| 363/363 [00:00<00:00, 2.06MB/s]\r\n",
      "vocab.txt: 100%|█████████████████████████████| 232k/232k [00:00<00:00, 7.62MB/s]\r\n",
      "tokenizer.json: 100%|████████████████████████| 466k/466k [00:00<00:00, 26.8MB/s]\r\n",
      "special_tokens_map.json: 100%|█████████████████| 239/239 [00:00<00:00, 1.34MB/s]\r\n",
      "1_Pooling/config.json: 100%|███████████████████| 190/190 [00:00<00:00, 1.05MB/s]\r\n",
      "SentenceBERT Loaded 1326 sentences from ./data/openbook.txt\r\n",
      "SentenceBERT Example sentences: ['A bee is a pollinating animal', 'A bird is a pollinating animal', 'An electrical conductor is a vehicle for the flow of electricity']\r\n",
      "Batches: 100%|████████████████████████████████████| 1/1 [00:00<00:00,  1.01it/s]\r\n",
      "Batches: 100%|██████████████████████████████████| 42/42 [00:01<00:00, 36.73it/s]\r\n",
      "Most similar sentences to 'A dog is an animal': ['an animal requires shelter', 'an animal requires energy to move', 'an animal requires air for survival']\r\n",
      "config.json: 100%|█████████████████████████████| 481/481 [00:00<00:00, 2.83MB/s]\r\n",
      "vocab.json: 100%|████████████████████████████| 899k/899k [00:00<00:00, 19.3MB/s]\r\n",
      "merges.txt: 100%|████████████████████████████| 456k/456k [00:00<00:00, 38.5MB/s]\r\n",
      "tokenizer.json: 100%|██████████████████████| 1.36M/1.36M [00:00<00:00, 24.5MB/s]\r\n",
      "SentenceBERT Loaded 1326 sentences from ./data/openbook.txt\r\n",
      "SentenceBERT Example sentences: ['A bee is a pollinating animal', 'A bird is a pollinating animal', 'An electrical conductor is a vehicle for the flow of electricity']\r\n",
      "model.safetensors: 100%|██████████████████████| 499M/499M [00:02<00:00, 195MB/s]\r\n",
      "Some weights of RobertaForMultipleChoice were not initialized from the model checkpoint at roberta-base and are newly initialized: ['classifier.bias', 'classifier.weight', 'roberta.pooler.dense.bias', 'roberta.pooler.dense.weight']\r\n",
      "You should probably TRAIN this model on a down-stream task to be able to use it for predictions and inference.\r\n",
      "<bound method Module.parameters of RobertaPromptForMultipleChoice(\r\n",
      "  (model): RobertaForMultipleChoice(\r\n",
      "    (roberta): RobertaModel(\r\n",
      "      (embeddings): RobertaEmbeddings(\r\n",
      "        (word_embeddings): Embedding(50265, 768, padding_idx=1)\r\n",
      "        (position_embeddings): Embedding(514, 768, padding_idx=1)\r\n",
      "        (token_type_embeddings): Embedding(1, 768)\r\n",
      "        (LayerNorm): LayerNorm((768,), eps=1e-05, elementwise_affine=True)\r\n",
      "        (dropout): Dropout(p=0.1, inplace=False)\r\n",
      "      )\r\n",
      "      (encoder): RobertaEncoder(\r\n",
      "        (layer): ModuleList(\r\n",
      "          (0-11): 12 x RobertaLayer(\r\n",
      "            (attention): RobertaAttention(\r\n",
      "              (self): RobertaSelfAttention(\r\n",
      "                (query): Linear(in_features=768, out_features=768, bias=True)\r\n",
      "                (key): Linear(in_features=768, out_features=768, bias=True)\r\n",
      "                (value): Linear(in_features=768, out_features=768, bias=True)\r\n",
      "                (dropout): Dropout(p=0.1, inplace=False)\r\n",
      "              )\r\n",
      "              (output): RobertaSelfOutput(\r\n",
      "                (dense): Linear(in_features=768, out_features=768, bias=True)\r\n",
      "                (LayerNorm): LayerNorm((768,), eps=1e-05, elementwise_affine=True)\r\n",
      "                (dropout): Dropout(p=0.1, inplace=False)\r\n",
      "              )\r\n",
      "            )\r\n",
      "            (intermediate): RobertaIntermediate(\r\n",
      "              (dense): Linear(in_features=768, out_features=3072, bias=True)\r\n",
      "              (intermediate_act_fn): GELUActivation()\r\n",
      "            )\r\n",
      "            (output): RobertaOutput(\r\n",
      "              (dense): Linear(in_features=3072, out_features=768, bias=True)\r\n",
      "              (LayerNorm): LayerNorm((768,), eps=1e-05, elementwise_affine=True)\r\n",
      "              (dropout): Dropout(p=0.1, inplace=False)\r\n",
      "            )\r\n",
      "          )\r\n",
      "        )\r\n",
      "      )\r\n",
      "      (pooler): RobertaPooler(\r\n",
      "        (dense): Linear(in_features=768, out_features=768, bias=True)\r\n",
      "        (activation): Tanh()\r\n",
      "      )\r\n",
      "    )\r\n",
      "    (dropout): Dropout(p=0.1, inplace=False)\r\n",
      "    (classifier): Linear(in_features=768, out_features=1, bias=True)\r\n",
      "  )\r\n",
      ")>\r\n",
      "Downloading builder script: 7.05kB [00:00, 13.0MB/s]                            \r\n",
      "Downloading metadata: 4.22kB [00:00, 11.2MB/s]                                  \r\n",
      "Downloading and preparing dataset openbookqa/main (download: 1.38 MiB, generated: 1.38 MiB, post-processed: Unknown size, total: 2.75 MiB) to /root/.cache/huggingface/datasets/openbookqa/main/1.0.0/b179237b24fc69341d5f165e9248940a2ffbe44a24fa25c3ea34f88bb4f404b7...\r\n",
      "Downloading data: 100%|████████████████████| 1.45M/1.45M [00:00<00:00, 5.84MB/s]\r\n",
      "Dataset openbookqa downloaded and prepared to /root/.cache/huggingface/datasets/openbookqa/main/1.0.0/b179237b24fc69341d5f165e9248940a2ffbe44a24fa25c3ea34f88bb4f404b7. Subsequent calls will reuse this data.\r\n",
      "100%|████████████████████████████████████████████| 3/3 [00:00<00:00, 326.56it/s]\r\n",
      "Train data sample: {'id': '7-980', 'question_stem': 'The sun is responsible for', 'choices': {'text': ['puppies learning new tricks', 'children growing up and getting old', 'flowers wilting in a vase', 'plants sprouting, blooming and wilting'], 'label': ['puppies learning new tricks', 'children growing up and getting old', 'flowers wilting in a vase', 'plants sprouting, blooming and wilting']}, 'answerKey': 'D'}\r\n",
      "Train dataset sample: {'input_ids': tensor([[   0,  133, 3778,  ...,    1,    1,    1],\r\n",
      "        [   0,  133, 3778,  ...,    1,    1,    1],\r\n",
      "        [   0,  133, 3778,  ...,    1,    1,    1],\r\n",
      "        [   0,  133, 3778,  ...,    1,    1,    1]]), 'attention_mask': tensor([[1, 1, 1,  ..., 0, 0, 0],\r\n",
      "        [1, 1, 1,  ..., 0, 0, 0],\r\n",
      "        [1, 1, 1,  ..., 0, 0, 0],\r\n",
      "        [1, 1, 1,  ..., 0, 0, 0]]), 'labels': tensor(3)}\r\n",
      "  0%|                                                  | 0/3100 [00:00<?, ?it/s]/opt/conda/lib/python3.10/site-packages/torch/nn/parallel/_functions.py:68: UserWarning: Was asked to gather along dimension 0, but all input tensors were scalars; will instead unsqueeze and return a vector.\r\n",
      "  warnings.warn('Was asked to gather along dimension 0, but all '\r\n",
      "{'loss': 1.246, 'learning_rate': 4.1935483870967746e-05, 'epoch': 0.81}\r\n",
      " 16%|██████▏                               | 500/3100 [12:56<1:07:49,  1.57s/it]/opt/conda/lib/python3.10/site-packages/torch/nn/parallel/_functions.py:68: UserWarning: Was asked to gather along dimension 0, but all input tensors were scalars; will instead unsqueeze and return a vector.\r\n",
      "  warnings.warn('Was asked to gather along dimension 0, but all '\r\n",
      "{'loss': 1.0402, 'learning_rate': 3.387096774193548e-05, 'epoch': 1.61}\r\n",
      " 32%|████████████▌                          | 1000/3100 [25:59<54:39,  1.56s/it]/opt/conda/lib/python3.10/site-packages/torch/nn/parallel/_functions.py:68: UserWarning: Was asked to gather along dimension 0, but all input tensors were scalars; will instead unsqueeze and return a vector.\r\n",
      "  warnings.warn('Was asked to gather along dimension 0, but all '\r\n",
      "{'loss': 0.768, 'learning_rate': 2.5806451612903226e-05, 'epoch': 2.42}\r\n",
      " 48%|██████████████████▊                    | 1500/3100 [39:03<41:40,  1.56s/it]/opt/conda/lib/python3.10/site-packages/torch/nn/parallel/_functions.py:68: UserWarning: Was asked to gather along dimension 0, but all input tensors were scalars; will instead unsqueeze and return a vector.\r\n",
      "  warnings.warn('Was asked to gather along dimension 0, but all '\r\n",
      "{'loss': 0.548, 'learning_rate': 1.774193548387097e-05, 'epoch': 3.23}\r\n",
      " 65%|█████████████████████████▏             | 2000/3100 [52:06<28:38,  1.56s/it]/opt/conda/lib/python3.10/site-packages/torch/nn/parallel/_functions.py:68: UserWarning: Was asked to gather along dimension 0, but all input tensors were scalars; will instead unsqueeze and return a vector.\r\n",
      "  warnings.warn('Was asked to gather along dimension 0, but all '\r\n",
      "{'loss': 0.3767, 'learning_rate': 9.67741935483871e-06, 'epoch': 4.03}\r\n",
      " 81%|█████████████████████████████▊       | 2500/3100 [1:05:09<15:37,  1.56s/it]/opt/conda/lib/python3.10/site-packages/torch/nn/parallel/_functions.py:68: UserWarning: Was asked to gather along dimension 0, but all input tensors were scalars; will instead unsqueeze and return a vector.\r\n",
      "  warnings.warn('Was asked to gather along dimension 0, but all '\r\n",
      "{'loss': 0.2489, 'learning_rate': 1.6129032258064516e-06, 'epoch': 4.84}\r\n",
      " 97%|███████████████████████████████████▊ | 3000/3100 [1:18:13<02:36,  1.56s/it]/opt/conda/lib/python3.10/site-packages/torch/nn/parallel/_functions.py:68: UserWarning: Was asked to gather along dimension 0, but all input tensors were scalars; will instead unsqueeze and return a vector.\r\n",
      "  warnings.warn('Was asked to gather along dimension 0, but all '\r\n",
      "{'train_runtime': 4851.9952, 'train_samples_per_second': 5.108, 'train_steps_per_second': 0.639, 'train_loss': 0.6892686671595419, 'epoch': 5.0}\r\n",
      "100%|█████████████████████████████████████| 3100/3100 [1:20:51<00:00,  1.57s/it]\r\n",
      "Traceback (most recent call last):\r\n",
      "  File \"/kaggle/working/CSE447_Project/Student/train.py\", line 33, in <module>\r\n",
      "    main()\r\n",
      "  File \"/kaggle/working/CSE447_Project/Student/train.py\", line 28, in main\r\n",
      "    trainer.eval()\r\n",
      "AttributeError: 'Trainer' object has no attribute 'eval'\r\n"
     ]
    }
   ],
   "source": [
    "!CUDA_VISIBLE_DEVICES=0,1 python train.py --output_dir checkpoints/roberta_obqa_noclues_5 --num_train_epochs 5 --report_to=\"none\" --do_train --do_eval --per_device_train_batch_size 4"
   ]
  },
  {
   "cell_type": "markdown",
   "id": "a9b2d165",
   "metadata": {
    "papermill": {
     "duration": 0.261118,
     "end_time": "2024-02-19T06:55:25.256076",
     "exception": false,
     "start_time": "2024-02-19T06:55:24.994958",
     "status": "completed"
    },
    "tags": []
   },
   "source": [
    "# GenMC"
   ]
  },
  {
   "cell_type": "code",
   "execution_count": 11,
   "id": "11e2afe3",
   "metadata": {
    "execution": {
     "iopub.execute_input": "2024-02-19T06:55:25.765578Z",
     "iopub.status.busy": "2024-02-19T06:55:25.764862Z",
     "iopub.status.idle": "2024-02-19T06:55:25.770079Z",
     "shell.execute_reply": "2024-02-19T06:55:25.768950Z"
    },
    "papermill": {
     "duration": 0.262877,
     "end_time": "2024-02-19T06:55:25.772464",
     "exception": false,
     "start_time": "2024-02-19T06:55:25.509587",
     "status": "completed"
    },
    "tags": []
   },
   "outputs": [],
   "source": [
    "# cd /kaggle/working/CSE447_Project/GenMC"
   ]
  },
  {
   "cell_type": "code",
   "execution_count": 12,
   "id": "dfe89836",
   "metadata": {
    "execution": {
     "iopub.execute_input": "2024-02-19T06:55:26.291656Z",
     "iopub.status.busy": "2024-02-19T06:55:26.290802Z",
     "iopub.status.idle": "2024-02-19T06:55:26.295105Z",
     "shell.execute_reply": "2024-02-19T06:55:26.294129Z"
    },
    "papermill": {
     "duration": 0.266577,
     "end_time": "2024-02-19T06:55:26.297116",
     "exception": false,
     "start_time": "2024-02-19T06:55:26.030539",
     "status": "completed"
    },
    "tags": []
   },
   "outputs": [],
   "source": [
    "# !pip install -r requirements.txt"
   ]
  },
  {
   "cell_type": "code",
   "execution_count": 13,
   "id": "8d8ac178",
   "metadata": {
    "execution": {
     "iopub.execute_input": "2024-02-19T06:55:26.857762Z",
     "iopub.status.busy": "2024-02-19T06:55:26.856877Z",
     "iopub.status.idle": "2024-02-19T06:55:26.861188Z",
     "shell.execute_reply": "2024-02-19T06:55:26.860301Z"
    },
    "papermill": {
     "duration": 0.262455,
     "end_time": "2024-02-19T06:55:26.863142",
     "exception": false,
     "start_time": "2024-02-19T06:55:26.600687",
     "status": "completed"
    },
    "tags": []
   },
   "outputs": [],
   "source": [
    "# !python run_genmc.py --epoch_num 10 --model_path t5-base --choice_num 5"
   ]
  },
  {
   "cell_type": "code",
   "execution_count": null,
   "id": "0c1f19b2",
   "metadata": {
    "papermill": {
     "duration": 0.258773,
     "end_time": "2024-02-19T06:55:27.379772",
     "exception": false,
     "start_time": "2024-02-19T06:55:27.120999",
     "status": "completed"
    },
    "tags": []
   },
   "outputs": [],
   "source": []
  }
 ],
 "metadata": {
  "kaggle": {
   "accelerator": "nvidiaTeslaT4",
   "dataSources": [],
   "dockerImageVersionId": 30648,
   "isGpuEnabled": true,
   "isInternetEnabled": true,
   "language": "python",
   "sourceType": "notebook"
  },
  "kernelspec": {
   "display_name": "Python 3",
   "language": "python",
   "name": "python3"
  },
  "language_info": {
   "codemirror_mode": {
    "name": "ipython",
    "version": 3
   },
   "file_extension": ".py",
   "mimetype": "text/x-python",
   "name": "python",
   "nbconvert_exporter": "python",
   "pygments_lexer": "ipython3",
   "version": "3.10.13"
  },
  "papermill": {
   "default_parameters": {},
   "duration": 4927.023247,
   "end_time": "2024-02-19T06:55:28.405771",
   "environment_variables": {},
   "exception": null,
   "input_path": "__notebook__.ipynb",
   "output_path": "__notebook__.ipynb",
   "parameters": {},
   "start_time": "2024-02-19T05:33:21.382524",
   "version": "2.5.0"
  }
 },
 "nbformat": 4,
 "nbformat_minor": 5
}
