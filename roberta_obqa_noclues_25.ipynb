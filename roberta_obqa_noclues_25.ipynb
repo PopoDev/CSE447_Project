{
 "cells": [
  {
   "cell_type": "code",
   "execution_count": 1,
   "id": "0ed17908",
   "metadata": {
    "_cell_guid": "b1076dfc-b9ad-4769-8c92-a6c4dae69d19",
    "_uuid": "8f2839f25d086af736a60e9eeb907d3b93b6e0e5",
    "execution": {
     "iopub.execute_input": "2024-03-09T00:35:07.486224Z",
     "iopub.status.busy": "2024-03-09T00:35:07.485938Z",
     "iopub.status.idle": "2024-03-09T00:35:08.765553Z",
     "shell.execute_reply": "2024-03-09T00:35:08.764550Z"
    },
    "papermill": {
     "duration": 1.287044,
     "end_time": "2024-03-09T00:35:08.767560",
     "exception": false,
     "start_time": "2024-03-09T00:35:07.480516",
     "status": "completed"
    },
    "tags": []
   },
   "outputs": [
    {
     "name": "stdout",
     "output_type": "stream",
     "text": [
      "/kaggle/input/cse447-models/model.safetensors\n"
     ]
    }
   ],
   "source": [
    "# This Python 3 environment comes with many helpful analytics libraries installed\n",
    "# It is defined by the kaggle/python Docker image: https://github.com/kaggle/docker-python\n",
    "# For example, here's several helpful packages to load\n",
    "\n",
    "import numpy as np # linear algebra\n",
    "import pandas as pd # data processing, CSV file I/O (e.g. pd.read_csv)\n",
    "\n",
    "# Input data files are available in the read-only \"../input/\" directory\n",
    "# For example, running this (by clicking run or pressing Shift+Enter) will list all files under the input directory\n",
    "\n",
    "import os\n",
    "for dirname, _, filenames in os.walk('/kaggle/input'):\n",
    "    for filename in filenames:\n",
    "        print(os.path.join(dirname, filename))\n",
    "\n",
    "# You can write up to 20GB to the current directory (/kaggle/working/) that gets preserved as output when you create a version using \"Save & Run All\" \n",
    "# You can also write temporary files to /kaggle/temp/, but they won't be saved outside of the current session"
   ]
  },
  {
   "cell_type": "code",
   "execution_count": 2,
   "id": "76e4e8f4",
   "metadata": {
    "execution": {
     "iopub.execute_input": "2024-03-09T00:35:08.777208Z",
     "iopub.status.busy": "2024-03-09T00:35:08.776826Z",
     "iopub.status.idle": "2024-03-09T00:35:11.790505Z",
     "shell.execute_reply": "2024-03-09T00:35:11.789400Z"
    },
    "papermill": {
     "duration": 3.020807,
     "end_time": "2024-03-09T00:35:11.792747",
     "exception": false,
     "start_time": "2024-03-09T00:35:08.771940",
     "status": "completed"
    },
    "tags": []
   },
   "outputs": [
    {
     "name": "stdout",
     "output_type": "stream",
     "text": [
      "Cloning into 'CSE447_Project'...\r\n",
      "remote: Enumerating objects: 204, done.\u001b[K\r\n",
      "remote: Counting objects: 100% (204/204), done.\u001b[K\r\n",
      "remote: Compressing objects: 100% (150/150), done.\u001b[K\r\n",
      "remote: Total 204 (delta 107), reused 135 (delta 46), pack-reused 0\u001b[K\r\n",
      "Receiving objects: 100% (204/204), 10.21 MiB | 15.47 MiB/s, done.\r\n",
      "Resolving deltas: 100% (107/107), done.\r\n"
     ]
    }
   ],
   "source": [
    "!git clone https://github.com/PopoDev/CSE447_Project.git"
   ]
  },
  {
   "cell_type": "code",
   "execution_count": 3,
   "id": "ea20a9ae",
   "metadata": {
    "execution": {
     "iopub.execute_input": "2024-03-09T00:35:11.806498Z",
     "iopub.status.busy": "2024-03-09T00:35:11.805863Z",
     "iopub.status.idle": "2024-03-09T00:35:12.752644Z",
     "shell.execute_reply": "2024-03-09T00:35:12.751741Z"
    },
    "papermill": {
     "duration": 0.956241,
     "end_time": "2024-03-09T00:35:12.754964",
     "exception": false,
     "start_time": "2024-03-09T00:35:11.798723",
     "status": "completed"
    },
    "tags": []
   },
   "outputs": [
    {
     "name": "stdout",
     "output_type": "stream",
     "text": [
      "\u001b[0m\u001b[01;34mCSE447_Project\u001b[0m/  __notebook__.ipynb\r\n"
     ]
    }
   ],
   "source": [
    "ls"
   ]
  },
  {
   "cell_type": "code",
   "execution_count": 4,
   "id": "99e18802",
   "metadata": {
    "execution": {
     "iopub.execute_input": "2024-03-09T00:35:12.766988Z",
     "iopub.status.busy": "2024-03-09T00:35:12.766697Z",
     "iopub.status.idle": "2024-03-09T00:35:12.772541Z",
     "shell.execute_reply": "2024-03-09T00:35:12.771751Z"
    },
    "papermill": {
     "duration": 0.014002,
     "end_time": "2024-03-09T00:35:12.774521",
     "exception": false,
     "start_time": "2024-03-09T00:35:12.760519",
     "status": "completed"
    },
    "tags": []
   },
   "outputs": [
    {
     "name": "stdout",
     "output_type": "stream",
     "text": [
      "/kaggle/working/CSE447_Project\n"
     ]
    }
   ],
   "source": [
    "cd CSE447_Project/"
   ]
  },
  {
   "cell_type": "code",
   "execution_count": 5,
   "id": "e69341b7",
   "metadata": {
    "execution": {
     "iopub.execute_input": "2024-03-09T00:35:12.785722Z",
     "iopub.status.busy": "2024-03-09T00:35:12.785469Z",
     "iopub.status.idle": "2024-03-09T00:35:13.886899Z",
     "shell.execute_reply": "2024-03-09T00:35:13.885985Z"
    },
    "papermill": {
     "duration": 1.109434,
     "end_time": "2024-03-09T00:35:13.889106",
     "exception": false,
     "start_time": "2024-03-09T00:35:12.779672",
     "status": "completed"
    },
    "tags": []
   },
   "outputs": [
    {
     "name": "stdout",
     "output_type": "stream",
     "text": [
      "Already up to date.\r\n"
     ]
    }
   ],
   "source": [
    "!git pull"
   ]
  },
  {
   "cell_type": "markdown",
   "id": "73b45759",
   "metadata": {
    "papermill": {
     "duration": 0.005232,
     "end_time": "2024-03-09T00:35:13.899756",
     "exception": false,
     "start_time": "2024-03-09T00:35:13.894524",
     "status": "completed"
    },
    "tags": []
   },
   "source": [
    "# Student"
   ]
  },
  {
   "cell_type": "code",
   "execution_count": 6,
   "id": "ad5bfd95",
   "metadata": {
    "execution": {
     "iopub.execute_input": "2024-03-09T00:35:13.911830Z",
     "iopub.status.busy": "2024-03-09T00:35:13.911298Z",
     "iopub.status.idle": "2024-03-09T00:35:13.917116Z",
     "shell.execute_reply": "2024-03-09T00:35:13.916270Z"
    },
    "papermill": {
     "duration": 0.014021,
     "end_time": "2024-03-09T00:35:13.918963",
     "exception": false,
     "start_time": "2024-03-09T00:35:13.904942",
     "status": "completed"
    },
    "tags": []
   },
   "outputs": [
    {
     "name": "stdout",
     "output_type": "stream",
     "text": [
      "/kaggle/working/CSE447_Project/Student\n"
     ]
    }
   ],
   "source": [
    "cd /kaggle/working/CSE447_Project/Student"
   ]
  },
  {
   "cell_type": "code",
   "execution_count": 7,
   "id": "7c4072ea",
   "metadata": {
    "execution": {
     "iopub.execute_input": "2024-03-09T00:35:13.930403Z",
     "iopub.status.busy": "2024-03-09T00:35:13.930143Z",
     "iopub.status.idle": "2024-03-09T00:35:14.871985Z",
     "shell.execute_reply": "2024-03-09T00:35:14.871070Z"
    },
    "papermill": {
     "duration": 0.950003,
     "end_time": "2024-03-09T00:35:14.874177",
     "exception": false,
     "start_time": "2024-03-09T00:35:13.924174",
     "status": "completed"
    },
    "tags": []
   },
   "outputs": [
    {
     "name": "stdout",
     "output_type": "stream",
     "text": [
      "arguments.py  \u001b[0m\u001b[01;34mdata\u001b[0m/  \u001b[01;34mdataloader\u001b[0m/  \u001b[01;34mmodel\u001b[0m/  requirements.txt  run.py  train.py\r\n"
     ]
    }
   ],
   "source": [
    "ls"
   ]
  },
  {
   "cell_type": "code",
   "execution_count": 8,
   "id": "44ca6647",
   "metadata": {
    "execution": {
     "iopub.execute_input": "2024-03-09T00:35:14.887618Z",
     "iopub.status.busy": "2024-03-09T00:35:14.886720Z",
     "iopub.status.idle": "2024-03-09T00:35:57.005325Z",
     "shell.execute_reply": "2024-03-09T00:35:57.004332Z"
    },
    "papermill": {
     "duration": 42.127809,
     "end_time": "2024-03-09T00:35:57.007760",
     "exception": false,
     "start_time": "2024-03-09T00:35:14.879951",
     "status": "completed"
    },
    "tags": []
   },
   "outputs": [
    {
     "name": "stdout",
     "output_type": "stream",
     "text": [
      "Collecting sentence-transformers (from -r requirements.txt (line 1))\r\n",
      "  Downloading sentence_transformers-2.5.1-py3-none-any.whl.metadata (11 kB)\r\n",
      "Collecting evaluate (from -r requirements.txt (line 2))\r\n",
      "  Downloading evaluate-0.4.1-py3-none-any.whl.metadata (9.4 kB)\r\n",
      "Requirement already satisfied: transformers<5.0.0,>=4.32.0 in /opt/conda/lib/python3.10/site-packages (from sentence-transformers->-r requirements.txt (line 1)) (4.37.0)\r\n",
      "Requirement already satisfied: tqdm in /opt/conda/lib/python3.10/site-packages (from sentence-transformers->-r requirements.txt (line 1)) (4.66.1)\r\n",
      "Requirement already satisfied: torch>=1.11.0 in /opt/conda/lib/python3.10/site-packages (from sentence-transformers->-r requirements.txt (line 1)) (2.1.2)\r\n",
      "Requirement already satisfied: numpy in /opt/conda/lib/python3.10/site-packages (from sentence-transformers->-r requirements.txt (line 1)) (1.24.4)\r\n",
      "Requirement already satisfied: scikit-learn in /opt/conda/lib/python3.10/site-packages (from sentence-transformers->-r requirements.txt (line 1)) (1.2.2)\r\n",
      "Requirement already satisfied: scipy in /opt/conda/lib/python3.10/site-packages (from sentence-transformers->-r requirements.txt (line 1)) (1.11.4)\r\n",
      "Requirement already satisfied: huggingface-hub>=0.15.1 in /opt/conda/lib/python3.10/site-packages (from sentence-transformers->-r requirements.txt (line 1)) (0.20.3)\r\n",
      "Requirement already satisfied: Pillow in /opt/conda/lib/python3.10/site-packages (from sentence-transformers->-r requirements.txt (line 1)) (9.5.0)\r\n",
      "Requirement already satisfied: datasets>=2.0.0 in /opt/conda/lib/python3.10/site-packages (from evaluate->-r requirements.txt (line 2)) (2.1.0)\r\n",
      "Requirement already satisfied: dill in /opt/conda/lib/python3.10/site-packages (from evaluate->-r requirements.txt (line 2)) (0.3.7)\r\n",
      "Requirement already satisfied: pandas in /opt/conda/lib/python3.10/site-packages (from evaluate->-r requirements.txt (line 2)) (2.1.4)\r\n",
      "Requirement already satisfied: requests>=2.19.0 in /opt/conda/lib/python3.10/site-packages (from evaluate->-r requirements.txt (line 2)) (2.31.0)\r\n",
      "Requirement already satisfied: xxhash in /opt/conda/lib/python3.10/site-packages (from evaluate->-r requirements.txt (line 2)) (3.4.1)\r\n",
      "Requirement already satisfied: multiprocess in /opt/conda/lib/python3.10/site-packages (from evaluate->-r requirements.txt (line 2)) (0.70.15)\r\n",
      "Requirement already satisfied: fsspec>=2021.05.0 in /opt/conda/lib/python3.10/site-packages (from fsspec[http]>=2021.05.0->evaluate->-r requirements.txt (line 2)) (2023.12.2)\r\n",
      "Requirement already satisfied: packaging in /opt/conda/lib/python3.10/site-packages (from evaluate->-r requirements.txt (line 2)) (21.3)\r\n",
      "Requirement already satisfied: responses<0.19 in /opt/conda/lib/python3.10/site-packages (from evaluate->-r requirements.txt (line 2)) (0.18.0)\r\n",
      "Requirement already satisfied: pyarrow>=5.0.0 in /opt/conda/lib/python3.10/site-packages (from datasets>=2.0.0->evaluate->-r requirements.txt (line 2)) (11.0.0)\r\n",
      "Requirement already satisfied: aiohttp in /opt/conda/lib/python3.10/site-packages (from datasets>=2.0.0->evaluate->-r requirements.txt (line 2)) (3.9.1)\r\n",
      "Requirement already satisfied: filelock in /opt/conda/lib/python3.10/site-packages (from huggingface-hub>=0.15.1->sentence-transformers->-r requirements.txt (line 1)) (3.13.1)\r\n",
      "Requirement already satisfied: pyyaml>=5.1 in /opt/conda/lib/python3.10/site-packages (from huggingface-hub>=0.15.1->sentence-transformers->-r requirements.txt (line 1)) (6.0.1)\r\n",
      "Requirement already satisfied: typing-extensions>=3.7.4.3 in /opt/conda/lib/python3.10/site-packages (from huggingface-hub>=0.15.1->sentence-transformers->-r requirements.txt (line 1)) (4.9.0)\r\n",
      "Requirement already satisfied: pyparsing!=3.0.5,>=2.0.2 in /opt/conda/lib/python3.10/site-packages (from packaging->evaluate->-r requirements.txt (line 2)) (3.1.1)\r\n",
      "Requirement already satisfied: charset-normalizer<4,>=2 in /opt/conda/lib/python3.10/site-packages (from requests>=2.19.0->evaluate->-r requirements.txt (line 2)) (3.3.2)\r\n",
      "Requirement already satisfied: idna<4,>=2.5 in /opt/conda/lib/python3.10/site-packages (from requests>=2.19.0->evaluate->-r requirements.txt (line 2)) (3.6)\r\n",
      "Requirement already satisfied: urllib3<3,>=1.21.1 in /opt/conda/lib/python3.10/site-packages (from requests>=2.19.0->evaluate->-r requirements.txt (line 2)) (1.26.18)\r\n",
      "Requirement already satisfied: certifi>=2017.4.17 in /opt/conda/lib/python3.10/site-packages (from requests>=2.19.0->evaluate->-r requirements.txt (line 2)) (2023.11.17)\r\n",
      "Requirement already satisfied: sympy in /opt/conda/lib/python3.10/site-packages (from torch>=1.11.0->sentence-transformers->-r requirements.txt (line 1)) (1.12)\r\n",
      "Requirement already satisfied: networkx in /opt/conda/lib/python3.10/site-packages (from torch>=1.11.0->sentence-transformers->-r requirements.txt (line 1)) (3.2.1)\r\n",
      "Requirement already satisfied: jinja2 in /opt/conda/lib/python3.10/site-packages (from torch>=1.11.0->sentence-transformers->-r requirements.txt (line 1)) (3.1.2)\r\n",
      "Requirement already satisfied: regex!=2019.12.17 in /opt/conda/lib/python3.10/site-packages (from transformers<5.0.0,>=4.32.0->sentence-transformers->-r requirements.txt (line 1)) (2023.12.25)\r\n",
      "Requirement already satisfied: tokenizers<0.19,>=0.14 in /opt/conda/lib/python3.10/site-packages (from transformers<5.0.0,>=4.32.0->sentence-transformers->-r requirements.txt (line 1)) (0.15.1)\r\n",
      "Requirement already satisfied: safetensors>=0.3.1 in /opt/conda/lib/python3.10/site-packages (from transformers<5.0.0,>=4.32.0->sentence-transformers->-r requirements.txt (line 1)) (0.4.2)\r\n",
      "Requirement already satisfied: python-dateutil>=2.8.2 in /opt/conda/lib/python3.10/site-packages (from pandas->evaluate->-r requirements.txt (line 2)) (2.8.2)\r\n",
      "Requirement already satisfied: pytz>=2020.1 in /opt/conda/lib/python3.10/site-packages (from pandas->evaluate->-r requirements.txt (line 2)) (2023.3.post1)\r\n",
      "Requirement already satisfied: tzdata>=2022.1 in /opt/conda/lib/python3.10/site-packages (from pandas->evaluate->-r requirements.txt (line 2)) (2023.4)\r\n",
      "Requirement already satisfied: joblib>=1.1.1 in /opt/conda/lib/python3.10/site-packages (from scikit-learn->sentence-transformers->-r requirements.txt (line 1)) (1.3.2)\r\n",
      "Requirement already satisfied: threadpoolctl>=2.0.0 in /opt/conda/lib/python3.10/site-packages (from scikit-learn->sentence-transformers->-r requirements.txt (line 1)) (3.2.0)\r\n",
      "Requirement already satisfied: attrs>=17.3.0 in /opt/conda/lib/python3.10/site-packages (from aiohttp->datasets>=2.0.0->evaluate->-r requirements.txt (line 2)) (23.2.0)\r\n",
      "Requirement already satisfied: multidict<7.0,>=4.5 in /opt/conda/lib/python3.10/site-packages (from aiohttp->datasets>=2.0.0->evaluate->-r requirements.txt (line 2)) (6.0.4)\r\n",
      "Requirement already satisfied: yarl<2.0,>=1.0 in /opt/conda/lib/python3.10/site-packages (from aiohttp->datasets>=2.0.0->evaluate->-r requirements.txt (line 2)) (1.9.3)\r\n",
      "Requirement already satisfied: frozenlist>=1.1.1 in /opt/conda/lib/python3.10/site-packages (from aiohttp->datasets>=2.0.0->evaluate->-r requirements.txt (line 2)) (1.4.1)\r\n",
      "Requirement already satisfied: aiosignal>=1.1.2 in /opt/conda/lib/python3.10/site-packages (from aiohttp->datasets>=2.0.0->evaluate->-r requirements.txt (line 2)) (1.3.1)\r\n",
      "Requirement already satisfied: async-timeout<5.0,>=4.0 in /opt/conda/lib/python3.10/site-packages (from aiohttp->datasets>=2.0.0->evaluate->-r requirements.txt (line 2)) (4.0.3)\r\n",
      "Requirement already satisfied: six>=1.5 in /opt/conda/lib/python3.10/site-packages (from python-dateutil>=2.8.2->pandas->evaluate->-r requirements.txt (line 2)) (1.16.0)\r\n",
      "Requirement already satisfied: MarkupSafe>=2.0 in /opt/conda/lib/python3.10/site-packages (from jinja2->torch>=1.11.0->sentence-transformers->-r requirements.txt (line 1)) (2.1.3)\r\n",
      "Requirement already satisfied: mpmath>=0.19 in /opt/conda/lib/python3.10/site-packages (from sympy->torch>=1.11.0->sentence-transformers->-r requirements.txt (line 1)) (1.3.0)\r\n",
      "Downloading sentence_transformers-2.5.1-py3-none-any.whl (156 kB)\r\n",
      "\u001b[2K   \u001b[90m━━━━━━━━━━━━━━━━━━━━━━━━━━━━━━━━━━━━━━━━\u001b[0m \u001b[32m156.5/156.5 kB\u001b[0m \u001b[31m1.6 MB/s\u001b[0m eta \u001b[36m0:00:00\u001b[0m\r\n",
      "\u001b[?25hDownloading evaluate-0.4.1-py3-none-any.whl (84 kB)\r\n",
      "\u001b[2K   \u001b[90m━━━━━━━━━━━━━━━━━━━━━━━━━━━━━━━━━━━━━━━━\u001b[0m \u001b[32m84.1/84.1 kB\u001b[0m \u001b[31m3.1 MB/s\u001b[0m eta \u001b[36m0:00:00\u001b[0m\r\n",
      "\u001b[?25hInstalling collected packages: sentence-transformers, evaluate\r\n",
      "Successfully installed evaluate-0.4.1 sentence-transformers-2.5.1\r\n",
      "Requirement already satisfied: transformers in /opt/conda/lib/python3.10/site-packages (4.37.0)\r\n",
      "Collecting transformers\r\n",
      "  Downloading transformers-4.38.2-py3-none-any.whl.metadata (130 kB)\r\n",
      "\u001b[2K     \u001b[90m━━━━━━━━━━━━━━━━━━━━━━━━━━━━━━━━━━━━━━━\u001b[0m \u001b[32m130.7/130.7 kB\u001b[0m \u001b[31m1.3 MB/s\u001b[0m eta \u001b[36m0:00:00\u001b[0m\r\n",
      "\u001b[?25hRequirement already satisfied: filelock in /opt/conda/lib/python3.10/site-packages (from transformers) (3.13.1)\r\n",
      "Requirement already satisfied: huggingface-hub<1.0,>=0.19.3 in /opt/conda/lib/python3.10/site-packages (from transformers) (0.20.3)\r\n",
      "Requirement already satisfied: numpy>=1.17 in /opt/conda/lib/python3.10/site-packages (from transformers) (1.24.4)\r\n",
      "Requirement already satisfied: packaging>=20.0 in /opt/conda/lib/python3.10/site-packages (from transformers) (21.3)\r\n",
      "Requirement already satisfied: pyyaml>=5.1 in /opt/conda/lib/python3.10/site-packages (from transformers) (6.0.1)\r\n",
      "Requirement already satisfied: regex!=2019.12.17 in /opt/conda/lib/python3.10/site-packages (from transformers) (2023.12.25)\r\n",
      "Requirement already satisfied: requests in /opt/conda/lib/python3.10/site-packages (from transformers) (2.31.0)\r\n",
      "Requirement already satisfied: tokenizers<0.19,>=0.14 in /opt/conda/lib/python3.10/site-packages (from transformers) (0.15.1)\r\n",
      "Requirement already satisfied: safetensors>=0.4.1 in /opt/conda/lib/python3.10/site-packages (from transformers) (0.4.2)\r\n",
      "Requirement already satisfied: tqdm>=4.27 in /opt/conda/lib/python3.10/site-packages (from transformers) (4.66.1)\r\n",
      "Requirement already satisfied: fsspec>=2023.5.0 in /opt/conda/lib/python3.10/site-packages (from huggingface-hub<1.0,>=0.19.3->transformers) (2023.12.2)\r\n",
      "Requirement already satisfied: typing-extensions>=3.7.4.3 in /opt/conda/lib/python3.10/site-packages (from huggingface-hub<1.0,>=0.19.3->transformers) (4.9.0)\r\n",
      "Requirement already satisfied: pyparsing!=3.0.5,>=2.0.2 in /opt/conda/lib/python3.10/site-packages (from packaging>=20.0->transformers) (3.1.1)\r\n",
      "Requirement already satisfied: charset-normalizer<4,>=2 in /opt/conda/lib/python3.10/site-packages (from requests->transformers) (3.3.2)\r\n",
      "Requirement already satisfied: idna<4,>=2.5 in /opt/conda/lib/python3.10/site-packages (from requests->transformers) (3.6)\r\n",
      "Requirement already satisfied: urllib3<3,>=1.21.1 in /opt/conda/lib/python3.10/site-packages (from requests->transformers) (1.26.18)\r\n",
      "Requirement already satisfied: certifi>=2017.4.17 in /opt/conda/lib/python3.10/site-packages (from requests->transformers) (2023.11.17)\r\n",
      "Downloading transformers-4.38.2-py3-none-any.whl (8.5 MB)\r\n",
      "\u001b[2K   \u001b[90m━━━━━━━━━━━━━━━━━━━━━━━━━━━━━━━━━━━━━━━━\u001b[0m \u001b[32m8.5/8.5 MB\u001b[0m \u001b[31m30.9 MB/s\u001b[0m eta \u001b[36m0:00:00\u001b[0m\r\n",
      "\u001b[?25hInstalling collected packages: transformers\r\n",
      "  Attempting uninstall: transformers\r\n",
      "    Found existing installation: transformers 4.37.0\r\n",
      "    Uninstalling transformers-4.37.0:\r\n",
      "      Successfully uninstalled transformers-4.37.0\r\n",
      "Successfully installed transformers-4.38.2\r\n"
     ]
    }
   ],
   "source": [
    "!pip install -r requirements.txt\n",
    "!pip install transformers --upgrade"
   ]
  },
  {
   "cell_type": "code",
   "execution_count": 9,
   "id": "e5ad5887",
   "metadata": {
    "execution": {
     "iopub.execute_input": "2024-03-09T00:35:57.026831Z",
     "iopub.status.busy": "2024-03-09T00:35:57.026532Z",
     "iopub.status.idle": "2024-03-09T00:36:09.217173Z",
     "shell.execute_reply": "2024-03-09T00:36:09.216274Z"
    },
    "papermill": {
     "duration": 12.202855,
     "end_time": "2024-03-09T00:36:09.219603",
     "exception": false,
     "start_time": "2024-03-09T00:35:57.016748",
     "status": "completed"
    },
    "tags": []
   },
   "outputs": [
    {
     "name": "stdout",
     "output_type": "stream",
     "text": [
      "Requirement already satisfied: evaluate in /opt/conda/lib/python3.10/site-packages (0.4.1)\r\n",
      "Requirement already satisfied: datasets>=2.0.0 in /opt/conda/lib/python3.10/site-packages (from evaluate) (2.1.0)\r\n",
      "Requirement already satisfied: numpy>=1.17 in /opt/conda/lib/python3.10/site-packages (from evaluate) (1.24.4)\r\n",
      "Requirement already satisfied: dill in /opt/conda/lib/python3.10/site-packages (from evaluate) (0.3.7)\r\n",
      "Requirement already satisfied: pandas in /opt/conda/lib/python3.10/site-packages (from evaluate) (2.1.4)\r\n",
      "Requirement already satisfied: requests>=2.19.0 in /opt/conda/lib/python3.10/site-packages (from evaluate) (2.31.0)\r\n",
      "Requirement already satisfied: tqdm>=4.62.1 in /opt/conda/lib/python3.10/site-packages (from evaluate) (4.66.1)\r\n",
      "Requirement already satisfied: xxhash in /opt/conda/lib/python3.10/site-packages (from evaluate) (3.4.1)\r\n",
      "Requirement already satisfied: multiprocess in /opt/conda/lib/python3.10/site-packages (from evaluate) (0.70.15)\r\n",
      "Requirement already satisfied: fsspec>=2021.05.0 in /opt/conda/lib/python3.10/site-packages (from fsspec[http]>=2021.05.0->evaluate) (2023.12.2)\r\n",
      "Requirement already satisfied: huggingface-hub>=0.7.0 in /opt/conda/lib/python3.10/site-packages (from evaluate) (0.20.3)\r\n",
      "Requirement already satisfied: packaging in /opt/conda/lib/python3.10/site-packages (from evaluate) (21.3)\r\n",
      "Requirement already satisfied: responses<0.19 in /opt/conda/lib/python3.10/site-packages (from evaluate) (0.18.0)\r\n",
      "Requirement already satisfied: pyarrow>=5.0.0 in /opt/conda/lib/python3.10/site-packages (from datasets>=2.0.0->evaluate) (11.0.0)\r\n",
      "Requirement already satisfied: aiohttp in /opt/conda/lib/python3.10/site-packages (from datasets>=2.0.0->evaluate) (3.9.1)\r\n",
      "Requirement already satisfied: filelock in /opt/conda/lib/python3.10/site-packages (from huggingface-hub>=0.7.0->evaluate) (3.13.1)\r\n",
      "Requirement already satisfied: pyyaml>=5.1 in /opt/conda/lib/python3.10/site-packages (from huggingface-hub>=0.7.0->evaluate) (6.0.1)\r\n",
      "Requirement already satisfied: typing-extensions>=3.7.4.3 in /opt/conda/lib/python3.10/site-packages (from huggingface-hub>=0.7.0->evaluate) (4.9.0)\r\n",
      "Requirement already satisfied: pyparsing!=3.0.5,>=2.0.2 in /opt/conda/lib/python3.10/site-packages (from packaging->evaluate) (3.1.1)\r\n",
      "Requirement already satisfied: charset-normalizer<4,>=2 in /opt/conda/lib/python3.10/site-packages (from requests>=2.19.0->evaluate) (3.3.2)\r\n",
      "Requirement already satisfied: idna<4,>=2.5 in /opt/conda/lib/python3.10/site-packages (from requests>=2.19.0->evaluate) (3.6)\r\n",
      "Requirement already satisfied: urllib3<3,>=1.21.1 in /opt/conda/lib/python3.10/site-packages (from requests>=2.19.0->evaluate) (1.26.18)\r\n",
      "Requirement already satisfied: certifi>=2017.4.17 in /opt/conda/lib/python3.10/site-packages (from requests>=2.19.0->evaluate) (2023.11.17)\r\n",
      "Requirement already satisfied: python-dateutil>=2.8.2 in /opt/conda/lib/python3.10/site-packages (from pandas->evaluate) (2.8.2)\r\n",
      "Requirement already satisfied: pytz>=2020.1 in /opt/conda/lib/python3.10/site-packages (from pandas->evaluate) (2023.3.post1)\r\n",
      "Requirement already satisfied: tzdata>=2022.1 in /opt/conda/lib/python3.10/site-packages (from pandas->evaluate) (2023.4)\r\n",
      "Requirement already satisfied: attrs>=17.3.0 in /opt/conda/lib/python3.10/site-packages (from aiohttp->datasets>=2.0.0->evaluate) (23.2.0)\r\n",
      "Requirement already satisfied: multidict<7.0,>=4.5 in /opt/conda/lib/python3.10/site-packages (from aiohttp->datasets>=2.0.0->evaluate) (6.0.4)\r\n",
      "Requirement already satisfied: yarl<2.0,>=1.0 in /opt/conda/lib/python3.10/site-packages (from aiohttp->datasets>=2.0.0->evaluate) (1.9.3)\r\n",
      "Requirement already satisfied: frozenlist>=1.1.1 in /opt/conda/lib/python3.10/site-packages (from aiohttp->datasets>=2.0.0->evaluate) (1.4.1)\r\n",
      "Requirement already satisfied: aiosignal>=1.1.2 in /opt/conda/lib/python3.10/site-packages (from aiohttp->datasets>=2.0.0->evaluate) (1.3.1)\r\n",
      "Requirement already satisfied: async-timeout<5.0,>=4.0 in /opt/conda/lib/python3.10/site-packages (from aiohttp->datasets>=2.0.0->evaluate) (4.0.3)\r\n",
      "Requirement already satisfied: six>=1.5 in /opt/conda/lib/python3.10/site-packages (from python-dateutil>=2.8.2->pandas->evaluate) (1.16.0)\r\n"
     ]
    }
   ],
   "source": [
    "!pip install evaluate"
   ]
  },
  {
   "cell_type": "code",
   "execution_count": 10,
   "id": "a6a55e1f",
   "metadata": {
    "execution": {
     "iopub.execute_input": "2024-03-09T00:36:09.239935Z",
     "iopub.status.busy": "2024-03-09T00:36:09.239646Z",
     "iopub.status.idle": "2024-03-09T00:36:17.023794Z",
     "shell.execute_reply": "2024-03-09T00:36:17.022613Z"
    },
    "papermill": {
     "duration": 7.79689,
     "end_time": "2024-03-09T00:36:17.026143",
     "exception": false,
     "start_time": "2024-03-09T00:36:09.229253",
     "status": "completed"
    },
    "tags": []
   },
   "outputs": [
    {
     "name": "stdout",
     "output_type": "stream",
     "text": [
      "Sat Mar  9 00:36:16 2024       \r\n",
      "+---------------------------------------------------------------------------------------+\r\n",
      "| NVIDIA-SMI 535.129.03             Driver Version: 535.129.03   CUDA Version: 12.2     |\r\n",
      "|-----------------------------------------+----------------------+----------------------+\r\n",
      "| GPU  Name                 Persistence-M | Bus-Id        Disp.A | Volatile Uncorr. ECC |\r\n",
      "| Fan  Temp   Perf          Pwr:Usage/Cap |         Memory-Usage | GPU-Util  Compute M. |\r\n",
      "|                                         |                      |               MIG M. |\r\n",
      "|=========================================+======================+======================|\r\n",
      "|   0  Tesla T4                       Off | 00000000:00:04.0 Off |                    0 |\r\n",
      "| N/A   41C    P8              12W /  70W |      0MiB / 15360MiB |      0%      Default |\r\n",
      "|                                         |                      |                  N/A |\r\n",
      "+-----------------------------------------+----------------------+----------------------+\r\n",
      "|   1  Tesla T4                       Off | 00000000:00:05.0 Off |                    0 |\r\n",
      "| N/A   44C    P8              12W /  70W |      0MiB / 15360MiB |      0%      Default |\r\n",
      "|                                         |                      |                  N/A |\r\n",
      "+-----------------------------------------+----------------------+----------------------+\r\n",
      "                                                                                         \r\n",
      "+---------------------------------------------------------------------------------------+\r\n",
      "| Processes:                                                                            |\r\n",
      "|  GPU   GI   CI        PID   Type   Process name                            GPU Memory |\r\n",
      "|        ID   ID                                                             Usage      |\r\n",
      "|=======================================================================================|\r\n",
      "|  No running processes found                                                           |\r\n",
      "+---------------------------------------------------------------------------------------+\r\n"
     ]
    }
   ],
   "source": [
    "import gc\n",
    "import torch\n",
    "\n",
    "model = None\n",
    "gc.collect()\n",
    "torch.cuda.empty_cache()\n",
    "!nvidia-smi"
   ]
  },
  {
   "cell_type": "code",
   "execution_count": 11,
   "id": "c9a122e2",
   "metadata": {
    "execution": {
     "iopub.execute_input": "2024-03-09T00:36:17.047119Z",
     "iopub.status.busy": "2024-03-09T00:36:17.046418Z",
     "iopub.status.idle": "2024-03-09T00:37:05.194324Z",
     "shell.execute_reply": "2024-03-09T00:37:05.193213Z"
    },
    "papermill": {
     "duration": 48.160843,
     "end_time": "2024-03-09T00:37:05.196504",
     "exception": false,
     "start_time": "2024-03-09T00:36:17.035661",
     "status": "completed"
    },
    "tags": []
   },
   "outputs": [
    {
     "name": "stdout",
     "output_type": "stream",
     "text": [
      "2024-03-09 00:36:27.150208: E external/local_xla/xla/stream_executor/cuda/cuda_dnn.cc:9261] Unable to register cuDNN factory: Attempting to register factory for plugin cuDNN when one has already been registered\r\n",
      "2024-03-09 00:36:27.150311: E external/local_xla/xla/stream_executor/cuda/cuda_fft.cc:607] Unable to register cuFFT factory: Attempting to register factory for plugin cuFFT when one has already been registered\r\n",
      "2024-03-09 00:36:27.411101: E external/local_xla/xla/stream_executor/cuda/cuda_blas.cc:1515] Unable to register cuBLAS factory: Attempting to register factory for plugin cuBLAS when one has already been registered\r\n",
      "modules.json: 100%|████████████████████████████| 349/349 [00:00<00:00, 1.67MB/s]\r\n",
      "config_sentence_transformers.json: 100%|████████| 116/116 [00:00<00:00, 783kB/s]\r\n",
      "README.md: 100%|███████████████████████████| 10.6k/10.6k [00:00<00:00, 43.9MB/s]\r\n",
      "sentence_bert_config.json: 100%|██████████████| 53.0/53.0 [00:00<00:00, 446kB/s]\r\n",
      "config.json: 100%|█████████████████████████████| 571/571 [00:00<00:00, 4.53MB/s]\r\n",
      "pytorch_model.bin: 100%|██████████████████████| 438M/438M [00:02<00:00, 195MB/s]\r\n",
      "/opt/conda/lib/python3.10/site-packages/torch/_utils.py:831: UserWarning: TypedStorage is deprecated. It will be removed in the future and UntypedStorage will be the only storage class. This should only matter to you if you are using storages directly.  To access UntypedStorage directly, use tensor.untyped_storage() instead of tensor.storage()\r\n",
      "  return self.fget.__get__(instance, owner)()\r\n",
      "tokenizer_config.json: 100%|███████████████████| 363/363 [00:00<00:00, 2.14MB/s]\r\n",
      "vocab.txt: 100%|█████████████████████████████| 232k/232k [00:00<00:00, 1.45MB/s]\r\n",
      "tokenizer.json: 100%|████████████████████████| 466k/466k [00:00<00:00, 17.0MB/s]\r\n",
      "special_tokens_map.json: 100%|█████████████████| 239/239 [00:00<00:00, 1.71MB/s]\r\n",
      "1_Pooling/config.json: 100%|███████████████████| 190/190 [00:00<00:00, 1.41MB/s]\r\n",
      "SentenceBERT Loaded 1326 sentences from ./data/openbook.txt\r\n",
      "SentenceBERT Example sentences: ['A bee is a pollinating animal', 'A bird is a pollinating animal', 'An electrical conductor is a vehicle for the flow of electricity']\r\n",
      "Batches: 100%|████████████████████████████████████| 1/1 [00:01<00:00,  1.28s/it]\r\n",
      "Batches: 100%|██████████████████████████████████| 42/42 [00:01<00:00, 34.63it/s]\r\n",
      "Most similar sentences to 'A dog is an animal': ['an animal requires shelter', 'an animal requires energy to move', 'an animal requires air for survival']\r\n",
      "tokenizer_config.json: 100%|██████████████████| 25.0/25.0 [00:00<00:00, 104kB/s]\r\n",
      "config.json: 100%|█████████████████████████████| 481/481 [00:00<00:00, 2.83MB/s]\r\n",
      "vocab.json: 100%|████████████████████████████| 899k/899k [00:00<00:00, 42.5MB/s]\r\n",
      "merges.txt: 100%|████████████████████████████| 456k/456k [00:00<00:00, 5.52MB/s]\r\n",
      "tokenizer.json: 100%|██████████████████████| 1.36M/1.36M [00:00<00:00, 27.9MB/s]\r\n",
      "SentenceBERT Loaded 1326 sentences from ./data/openbook.txt\r\n",
      "SentenceBERT Example sentences: ['A bee is a pollinating animal', 'A bird is a pollinating animal', 'An electrical conductor is a vehicle for the flow of electricity']\r\n",
      "model.safetensors: 100%|██████████████████████| 499M/499M [00:02<00:00, 192MB/s]\r\n",
      "Some weights of RobertaForMultipleChoice were not initialized from the model checkpoint at roberta-base and are newly initialized: ['classifier.bias', 'classifier.weight', 'roberta.pooler.dense.bias', 'roberta.pooler.dense.weight']\r\n",
      "You should probably TRAIN this model on a down-stream task to be able to use it for predictions and inference.\r\n",
      "<bound method Module.parameters of RobertaPromptForMultipleChoice(\r\n",
      "  (model): RobertaForMultipleChoice(\r\n",
      "    (roberta): RobertaModel(\r\n",
      "      (embeddings): RobertaEmbeddings(\r\n",
      "        (word_embeddings): Embedding(50265, 768, padding_idx=1)\r\n",
      "        (position_embeddings): Embedding(514, 768, padding_idx=1)\r\n",
      "        (token_type_embeddings): Embedding(1, 768)\r\n",
      "        (LayerNorm): LayerNorm((768,), eps=1e-05, elementwise_affine=True)\r\n",
      "        (dropout): Dropout(p=0.1, inplace=False)\r\n",
      "      )\r\n",
      "      (encoder): RobertaEncoder(\r\n",
      "        (layer): ModuleList(\r\n",
      "          (0-11): 12 x RobertaLayer(\r\n",
      "            (attention): RobertaAttention(\r\n",
      "              (self): RobertaSelfAttention(\r\n",
      "                (query): Linear(in_features=768, out_features=768, bias=True)\r\n",
      "                (key): Linear(in_features=768, out_features=768, bias=True)\r\n",
      "                (value): Linear(in_features=768, out_features=768, bias=True)\r\n",
      "                (dropout): Dropout(p=0.1, inplace=False)\r\n",
      "              )\r\n",
      "              (output): RobertaSelfOutput(\r\n",
      "                (dense): Linear(in_features=768, out_features=768, bias=True)\r\n",
      "                (LayerNorm): LayerNorm((768,), eps=1e-05, elementwise_affine=True)\r\n",
      "                (dropout): Dropout(p=0.1, inplace=False)\r\n",
      "              )\r\n",
      "            )\r\n",
      "            (intermediate): RobertaIntermediate(\r\n",
      "              (dense): Linear(in_features=768, out_features=3072, bias=True)\r\n",
      "              (intermediate_act_fn): GELUActivation()\r\n",
      "            )\r\n",
      "            (output): RobertaOutput(\r\n",
      "              (dense): Linear(in_features=3072, out_features=768, bias=True)\r\n",
      "              (LayerNorm): LayerNorm((768,), eps=1e-05, elementwise_affine=True)\r\n",
      "              (dropout): Dropout(p=0.1, inplace=False)\r\n",
      "            )\r\n",
      "          )\r\n",
      "        )\r\n",
      "      )\r\n",
      "      (pooler): RobertaPooler(\r\n",
      "        (dense): Linear(in_features=768, out_features=768, bias=True)\r\n",
      "        (activation): Tanh()\r\n",
      "      )\r\n",
      "    )\r\n",
      "    (dropout): Dropout(p=0.1, inplace=False)\r\n",
      "    (classifier): Linear(in_features=768, out_features=1, bias=True)\r\n",
      "  )\r\n",
      ")>\r\n",
      "Downloading builder script: 7.05kB [00:00, 17.0MB/s]                            \r\n",
      "Downloading metadata: 4.22kB [00:00, 15.3MB/s]                                  \r\n",
      "Downloading and preparing dataset openbookqa/main (download: 1.38 MiB, generated: 1.38 MiB, post-processed: Unknown size, total: 2.75 MiB) to /root/.cache/huggingface/datasets/openbookqa/main/1.0.0/b179237b24fc69341d5f165e9248940a2ffbe44a24fa25c3ea34f88bb4f404b7...\r\n",
      "Downloading data: 100%|████████████████████| 1.45M/1.45M [00:00<00:00, 5.76MB/s]\r\n",
      "Dataset openbookqa downloaded and prepared to /root/.cache/huggingface/datasets/openbookqa/main/1.0.0/b179237b24fc69341d5f165e9248940a2ffbe44a24fa25c3ea34f88bb4f404b7. Subsequent calls will reuse this data.\r\n",
      "100%|████████████████████████████████████████████| 3/3 [00:00<00:00, 309.02it/s]\r\n",
      "Train data sample: {'id': '7-980', 'question_stem': 'The sun is responsible for', 'choices': {'text': ['puppies learning new tricks', 'children growing up and getting old', 'flowers wilting in a vase', 'plants sprouting, blooming and wilting'], 'label': ['puppies learning new tricks', 'children growing up and getting old', 'flowers wilting in a vase', 'plants sprouting, blooming and wilting']}, 'answerKey': 'D'}\r\n",
      "Train dataset sample: {'input_ids': tensor([[   0,  133, 3778,  ...,    1,    1,    1],\r\n",
      "        [   0,  133, 3778,  ...,    1,    1,    1],\r\n",
      "        [   0,  133, 3778,  ...,    1,    1,    1],\r\n",
      "        [   0,  133, 3778,  ...,    1,    1,    1]]), 'attention_mask': tensor([[1, 1, 1,  ..., 0, 0, 0],\r\n",
      "        [1, 1, 1,  ..., 0, 0, 0],\r\n",
      "        [1, 1, 1,  ..., 0, 0, 0],\r\n",
      "        [1, 1, 1,  ..., 0, 0, 0]]), 'labels': tensor(3)}\r\n",
      "Traceback (most recent call last):\r\n",
      "  File \"/kaggle/working/CSE447_Project/Student/train.py\", line 51, in <module>\r\n",
      "    main()\r\n",
      "  File \"/kaggle/working/CSE447_Project/Student/train.py\", line 22, in main\r\n",
      "    trainer = Trainer(\r\n",
      "TypeError: Trainer.__init__() got an unexpected keyword argument 'evaluation_strategy'\r\n"
     ]
    }
   ],
   "source": [
    "!CUDA_VISIBLE_DEVICES=0,1 python train.py --output_dir checkpoints/roberta_obqa_noclues_25 --num_train_epochs 25 --report_to=\"none\" --do_train --do_eval --per_device_train_batch_size 4"
   ]
  },
  {
   "cell_type": "code",
   "execution_count": null,
   "id": "800b7481",
   "metadata": {
    "papermill": {
     "duration": 0.01686,
     "end_time": "2024-03-09T00:37:05.230832",
     "exception": false,
     "start_time": "2024-03-09T00:37:05.213972",
     "status": "completed"
    },
    "tags": []
   },
   "outputs": [],
   "source": []
  }
 ],
 "metadata": {
  "kaggle": {
   "accelerator": "nvidiaTeslaT4",
   "dataSources": [
    {
     "datasetId": 4529429,
     "sourceId": 7747977,
     "sourceType": "datasetVersion"
    }
   ],
   "dockerImageVersionId": 30648,
   "isGpuEnabled": true,
   "isInternetEnabled": true,
   "language": "python",
   "sourceType": "notebook"
  },
  "kernelspec": {
   "display_name": "Python 3",
   "language": "python",
   "name": "python3"
  },
  "language_info": {
   "codemirror_mode": {
    "name": "ipython",
    "version": 3
   },
   "file_extension": ".py",
   "mimetype": "text/x-python",
   "name": "python",
   "nbconvert_exporter": "python",
   "pygments_lexer": "ipython3",
   "version": "3.10.13"
  },
  "papermill": {
   "default_parameters": {},
   "duration": 122.392039,
   "end_time": "2024-03-09T00:37:05.967180",
   "environment_variables": {},
   "exception": null,
   "input_path": "__notebook__.ipynb",
   "output_path": "__notebook__.ipynb",
   "parameters": {},
   "start_time": "2024-03-09T00:35:03.575141",
   "version": "2.5.0"
  }
 },
 "nbformat": 4,
 "nbformat_minor": 5
}
