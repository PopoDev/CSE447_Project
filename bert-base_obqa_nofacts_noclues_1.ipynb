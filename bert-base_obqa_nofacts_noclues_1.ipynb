{
 "cells": [
  {
   "cell_type": "code",
   "execution_count": 1,
   "id": "14f4be59",
   "metadata": {
    "_cell_guid": "b1076dfc-b9ad-4769-8c92-a6c4dae69d19",
    "_uuid": "8f2839f25d086af736a60e9eeb907d3b93b6e0e5",
    "execution": {
     "iopub.execute_input": "2024-03-11T06:34:53.628268Z",
     "iopub.status.busy": "2024-03-11T06:34:53.628008Z",
     "iopub.status.idle": "2024-03-11T06:34:54.329099Z",
     "shell.execute_reply": "2024-03-11T06:34:54.328155Z"
    },
    "papermill": {
     "duration": 0.708507,
     "end_time": "2024-03-11T06:34:54.331401",
     "exception": false,
     "start_time": "2024-03-11T06:34:53.622894",
     "status": "completed"
    },
    "tags": []
   },
   "outputs": [
    {
     "name": "stdout",
     "output_type": "stream",
     "text": [
      "/kaggle/input/cse447-models/model.safetensors\n"
     ]
    }
   ],
   "source": [
    "# This Python 3 environment comes with many helpful analytics libraries installed\n",
    "# It is defined by the kaggle/python Docker image: https://github.com/kaggle/docker-python\n",
    "# For example, here's several helpful packages to load\n",
    "\n",
    "import numpy as np # linear algebra\n",
    "import pandas as pd # data processing, CSV file I/O (e.g. pd.read_csv)\n",
    "\n",
    "# Input data files are available in the read-only \"../input/\" directory\n",
    "# For example, running this (by clicking run or pressing Shift+Enter) will list all files under the input directory\n",
    "\n",
    "import os\n",
    "for dirname, _, filenames in os.walk('/kaggle/input'):\n",
    "    for filename in filenames:\n",
    "        print(os.path.join(dirname, filename))\n",
    "\n",
    "# You can write up to 20GB to the current directory (/kaggle/working/) that gets preserved as output when you create a version using \"Save & Run All\" \n",
    "# You can also write temporary files to /kaggle/temp/, but they won't be saved outside of the current session"
   ]
  },
  {
   "cell_type": "code",
   "execution_count": 2,
   "id": "d7fe5989",
   "metadata": {
    "execution": {
     "iopub.execute_input": "2024-03-11T06:34:54.340978Z",
     "iopub.status.busy": "2024-03-11T06:34:54.340562Z",
     "iopub.status.idle": "2024-03-11T06:34:56.831600Z",
     "shell.execute_reply": "2024-03-11T06:34:56.830503Z"
    },
    "papermill": {
     "duration": 2.498438,
     "end_time": "2024-03-11T06:34:56.834032",
     "exception": false,
     "start_time": "2024-03-11T06:34:54.335594",
     "status": "completed"
    },
    "tags": []
   },
   "outputs": [
    {
     "name": "stdout",
     "output_type": "stream",
     "text": [
      "Cloning into 'CSE447_Project'...\r\n",
      "remote: Enumerating objects: 358, done.\u001b[K\r\n",
      "remote: Counting objects: 100% (97/97), done.\u001b[K\r\n",
      "remote: Compressing objects: 100% (56/56), done.\u001b[K\r\n",
      "remote: Total 358 (delta 56), reused 73 (delta 39), pack-reused 261\u001b[K\r\n",
      "Receiving objects: 100% (358/358), 11.19 MiB | 17.26 MiB/s, done.\r\n",
      "Resolving deltas: 100% (202/202), done.\r\n"
     ]
    }
   ],
   "source": [
    "!git clone https://github.com/PopoDev/CSE447_Project.git"
   ]
  },
  {
   "cell_type": "code",
   "execution_count": 3,
   "id": "ffdaf218",
   "metadata": {
    "execution": {
     "iopub.execute_input": "2024-03-11T06:34:56.844941Z",
     "iopub.status.busy": "2024-03-11T06:34:56.844626Z",
     "iopub.status.idle": "2024-03-11T06:34:57.793139Z",
     "shell.execute_reply": "2024-03-11T06:34:57.792223Z"
    },
    "papermill": {
     "duration": 0.956479,
     "end_time": "2024-03-11T06:34:57.795337",
     "exception": false,
     "start_time": "2024-03-11T06:34:56.838858",
     "status": "completed"
    },
    "tags": []
   },
   "outputs": [
    {
     "name": "stdout",
     "output_type": "stream",
     "text": [
      "\u001b[0m\u001b[01;34mCSE447_Project\u001b[0m/  __notebook__.ipynb\r\n"
     ]
    }
   ],
   "source": [
    "ls"
   ]
  },
  {
   "cell_type": "code",
   "execution_count": 4,
   "id": "3d03be59",
   "metadata": {
    "execution": {
     "iopub.execute_input": "2024-03-11T06:34:57.807489Z",
     "iopub.status.busy": "2024-03-11T06:34:57.807189Z",
     "iopub.status.idle": "2024-03-11T06:34:57.813497Z",
     "shell.execute_reply": "2024-03-11T06:34:57.812545Z"
    },
    "papermill": {
     "duration": 0.014623,
     "end_time": "2024-03-11T06:34:57.815453",
     "exception": false,
     "start_time": "2024-03-11T06:34:57.800830",
     "status": "completed"
    },
    "tags": []
   },
   "outputs": [
    {
     "name": "stdout",
     "output_type": "stream",
     "text": [
      "/kaggle/working/CSE447_Project\n"
     ]
    }
   ],
   "source": [
    "cd CSE447_Project/"
   ]
  },
  {
   "cell_type": "code",
   "execution_count": 5,
   "id": "41d718c9",
   "metadata": {
    "execution": {
     "iopub.execute_input": "2024-03-11T06:34:57.826446Z",
     "iopub.status.busy": "2024-03-11T06:34:57.825632Z",
     "iopub.status.idle": "2024-03-11T06:34:58.980795Z",
     "shell.execute_reply": "2024-03-11T06:34:58.979502Z"
    },
    "papermill": {
     "duration": 1.163297,
     "end_time": "2024-03-11T06:34:58.983417",
     "exception": false,
     "start_time": "2024-03-11T06:34:57.820120",
     "status": "completed"
    },
    "tags": []
   },
   "outputs": [
    {
     "name": "stdout",
     "output_type": "stream",
     "text": [
      "Already up to date.\r\n"
     ]
    }
   ],
   "source": [
    "!git pull"
   ]
  },
  {
   "cell_type": "markdown",
   "id": "cc6c4116",
   "metadata": {
    "papermill": {
     "duration": 0.004948,
     "end_time": "2024-03-11T06:34:58.993384",
     "exception": false,
     "start_time": "2024-03-11T06:34:58.988436",
     "status": "completed"
    },
    "tags": []
   },
   "source": [
    "# Student"
   ]
  },
  {
   "cell_type": "code",
   "execution_count": 6,
   "id": "4cc4c783",
   "metadata": {
    "execution": {
     "iopub.execute_input": "2024-03-11T06:34:59.004726Z",
     "iopub.status.busy": "2024-03-11T06:34:59.004394Z",
     "iopub.status.idle": "2024-03-11T06:34:59.010997Z",
     "shell.execute_reply": "2024-03-11T06:34:59.009926Z"
    },
    "papermill": {
     "duration": 0.01511,
     "end_time": "2024-03-11T06:34:59.013405",
     "exception": false,
     "start_time": "2024-03-11T06:34:58.998295",
     "status": "completed"
    },
    "tags": []
   },
   "outputs": [
    {
     "name": "stdout",
     "output_type": "stream",
     "text": [
      "/kaggle/working/CSE447_Project/Student\n"
     ]
    }
   ],
   "source": [
    "cd /kaggle/working/CSE447_Project/Student"
   ]
  },
  {
   "cell_type": "code",
   "execution_count": 7,
   "id": "47c87286",
   "metadata": {
    "execution": {
     "iopub.execute_input": "2024-03-11T06:34:59.028400Z",
     "iopub.status.busy": "2024-03-11T06:34:59.028124Z",
     "iopub.status.idle": "2024-03-11T06:34:59.972751Z",
     "shell.execute_reply": "2024-03-11T06:34:59.971816Z"
    },
    "papermill": {
     "duration": 0.95457,
     "end_time": "2024-03-11T06:34:59.974973",
     "exception": false,
     "start_time": "2024-03-11T06:34:59.020403",
     "status": "completed"
    },
    "tags": []
   },
   "outputs": [
    {
     "name": "stdout",
     "output_type": "stream",
     "text": [
      "arguments.py  \u001b[0m\u001b[01;34mdataloader\u001b[0m/  requirements.txt  run_sbert.py  \u001b[01;34mutils\u001b[0m/\r\n",
      "\u001b[01;34mdata\u001b[0m/         \u001b[01;34mmodel\u001b[0m/       run.py            train.py\r\n"
     ]
    }
   ],
   "source": [
    "ls"
   ]
  },
  {
   "cell_type": "code",
   "execution_count": 8,
   "id": "06f3ecdb",
   "metadata": {
    "execution": {
     "iopub.execute_input": "2024-03-11T06:34:59.986607Z",
     "iopub.status.busy": "2024-03-11T06:34:59.986317Z",
     "iopub.status.idle": "2024-03-11T06:35:14.182850Z",
     "shell.execute_reply": "2024-03-11T06:35:14.181913Z"
    },
    "papermill": {
     "duration": 14.204979,
     "end_time": "2024-03-11T06:35:14.185210",
     "exception": false,
     "start_time": "2024-03-11T06:34:59.980231",
     "status": "completed"
    },
    "tags": []
   },
   "outputs": [
    {
     "name": "stdout",
     "output_type": "stream",
     "text": [
      "Collecting sentence-transformers (from -r requirements.txt (line 1))\r\n",
      "  Downloading sentence_transformers-2.5.1-py3-none-any.whl.metadata (11 kB)\r\n",
      "Collecting evaluate (from -r requirements.txt (line 2))\r\n",
      "  Downloading evaluate-0.4.1-py3-none-any.whl.metadata (9.4 kB)\r\n",
      "Requirement already satisfied: transformers<5.0.0,>=4.32.0 in /opt/conda/lib/python3.10/site-packages (from sentence-transformers->-r requirements.txt (line 1)) (4.37.0)\r\n",
      "Requirement already satisfied: tqdm in /opt/conda/lib/python3.10/site-packages (from sentence-transformers->-r requirements.txt (line 1)) (4.66.1)\r\n",
      "Requirement already satisfied: torch>=1.11.0 in /opt/conda/lib/python3.10/site-packages (from sentence-transformers->-r requirements.txt (line 1)) (2.1.2)\r\n",
      "Requirement already satisfied: numpy in /opt/conda/lib/python3.10/site-packages (from sentence-transformers->-r requirements.txt (line 1)) (1.24.4)\r\n",
      "Requirement already satisfied: scikit-learn in /opt/conda/lib/python3.10/site-packages (from sentence-transformers->-r requirements.txt (line 1)) (1.2.2)\r\n",
      "Requirement already satisfied: scipy in /opt/conda/lib/python3.10/site-packages (from sentence-transformers->-r requirements.txt (line 1)) (1.11.4)\r\n",
      "Requirement already satisfied: huggingface-hub>=0.15.1 in /opt/conda/lib/python3.10/site-packages (from sentence-transformers->-r requirements.txt (line 1)) (0.20.3)\r\n",
      "Requirement already satisfied: Pillow in /opt/conda/lib/python3.10/site-packages (from sentence-transformers->-r requirements.txt (line 1)) (9.5.0)\r\n",
      "Requirement already satisfied: datasets>=2.0.0 in /opt/conda/lib/python3.10/site-packages (from evaluate->-r requirements.txt (line 2)) (2.1.0)\r\n",
      "Requirement already satisfied: dill in /opt/conda/lib/python3.10/site-packages (from evaluate->-r requirements.txt (line 2)) (0.3.7)\r\n",
      "Requirement already satisfied: pandas in /opt/conda/lib/python3.10/site-packages (from evaluate->-r requirements.txt (line 2)) (2.1.4)\r\n",
      "Requirement already satisfied: requests>=2.19.0 in /opt/conda/lib/python3.10/site-packages (from evaluate->-r requirements.txt (line 2)) (2.31.0)\r\n",
      "Requirement already satisfied: xxhash in /opt/conda/lib/python3.10/site-packages (from evaluate->-r requirements.txt (line 2)) (3.4.1)\r\n",
      "Requirement already satisfied: multiprocess in /opt/conda/lib/python3.10/site-packages (from evaluate->-r requirements.txt (line 2)) (0.70.15)\r\n",
      "Requirement already satisfied: fsspec>=2021.05.0 in /opt/conda/lib/python3.10/site-packages (from fsspec[http]>=2021.05.0->evaluate->-r requirements.txt (line 2)) (2023.12.2)\r\n",
      "Requirement already satisfied: packaging in /opt/conda/lib/python3.10/site-packages (from evaluate->-r requirements.txt (line 2)) (21.3)\r\n",
      "Requirement already satisfied: responses<0.19 in /opt/conda/lib/python3.10/site-packages (from evaluate->-r requirements.txt (line 2)) (0.18.0)\r\n",
      "Requirement already satisfied: pyarrow>=5.0.0 in /opt/conda/lib/python3.10/site-packages (from datasets>=2.0.0->evaluate->-r requirements.txt (line 2)) (11.0.0)\r\n",
      "Requirement already satisfied: aiohttp in /opt/conda/lib/python3.10/site-packages (from datasets>=2.0.0->evaluate->-r requirements.txt (line 2)) (3.9.1)\r\n",
      "Requirement already satisfied: filelock in /opt/conda/lib/python3.10/site-packages (from huggingface-hub>=0.15.1->sentence-transformers->-r requirements.txt (line 1)) (3.13.1)\r\n",
      "Requirement already satisfied: pyyaml>=5.1 in /opt/conda/lib/python3.10/site-packages (from huggingface-hub>=0.15.1->sentence-transformers->-r requirements.txt (line 1)) (6.0.1)\r\n",
      "Requirement already satisfied: typing-extensions>=3.7.4.3 in /opt/conda/lib/python3.10/site-packages (from huggingface-hub>=0.15.1->sentence-transformers->-r requirements.txt (line 1)) (4.9.0)\r\n",
      "Requirement already satisfied: pyparsing!=3.0.5,>=2.0.2 in /opt/conda/lib/python3.10/site-packages (from packaging->evaluate->-r requirements.txt (line 2)) (3.1.1)\r\n",
      "Requirement already satisfied: charset-normalizer<4,>=2 in /opt/conda/lib/python3.10/site-packages (from requests>=2.19.0->evaluate->-r requirements.txt (line 2)) (3.3.2)\r\n",
      "Requirement already satisfied: idna<4,>=2.5 in /opt/conda/lib/python3.10/site-packages (from requests>=2.19.0->evaluate->-r requirements.txt (line 2)) (3.6)\r\n",
      "Requirement already satisfied: urllib3<3,>=1.21.1 in /opt/conda/lib/python3.10/site-packages (from requests>=2.19.0->evaluate->-r requirements.txt (line 2)) (1.26.18)\r\n",
      "Requirement already satisfied: certifi>=2017.4.17 in /opt/conda/lib/python3.10/site-packages (from requests>=2.19.0->evaluate->-r requirements.txt (line 2)) (2023.11.17)\r\n",
      "Requirement already satisfied: sympy in /opt/conda/lib/python3.10/site-packages (from torch>=1.11.0->sentence-transformers->-r requirements.txt (line 1)) (1.12)\r\n",
      "Requirement already satisfied: networkx in /opt/conda/lib/python3.10/site-packages (from torch>=1.11.0->sentence-transformers->-r requirements.txt (line 1)) (3.2.1)\r\n",
      "Requirement already satisfied: jinja2 in /opt/conda/lib/python3.10/site-packages (from torch>=1.11.0->sentence-transformers->-r requirements.txt (line 1)) (3.1.2)\r\n",
      "Requirement already satisfied: regex!=2019.12.17 in /opt/conda/lib/python3.10/site-packages (from transformers<5.0.0,>=4.32.0->sentence-transformers->-r requirements.txt (line 1)) (2023.12.25)\r\n",
      "Requirement already satisfied: tokenizers<0.19,>=0.14 in /opt/conda/lib/python3.10/site-packages (from transformers<5.0.0,>=4.32.0->sentence-transformers->-r requirements.txt (line 1)) (0.15.1)\r\n",
      "Requirement already satisfied: safetensors>=0.3.1 in /opt/conda/lib/python3.10/site-packages (from transformers<5.0.0,>=4.32.0->sentence-transformers->-r requirements.txt (line 1)) (0.4.2)\r\n",
      "Requirement already satisfied: python-dateutil>=2.8.2 in /opt/conda/lib/python3.10/site-packages (from pandas->evaluate->-r requirements.txt (line 2)) (2.8.2)\r\n",
      "Requirement already satisfied: pytz>=2020.1 in /opt/conda/lib/python3.10/site-packages (from pandas->evaluate->-r requirements.txt (line 2)) (2023.3.post1)\r\n",
      "Requirement already satisfied: tzdata>=2022.1 in /opt/conda/lib/python3.10/site-packages (from pandas->evaluate->-r requirements.txt (line 2)) (2023.4)\r\n",
      "Requirement already satisfied: joblib>=1.1.1 in /opt/conda/lib/python3.10/site-packages (from scikit-learn->sentence-transformers->-r requirements.txt (line 1)) (1.3.2)\r\n",
      "Requirement already satisfied: threadpoolctl>=2.0.0 in /opt/conda/lib/python3.10/site-packages (from scikit-learn->sentence-transformers->-r requirements.txt (line 1)) (3.2.0)\r\n",
      "Requirement already satisfied: attrs>=17.3.0 in /opt/conda/lib/python3.10/site-packages (from aiohttp->datasets>=2.0.0->evaluate->-r requirements.txt (line 2)) (23.2.0)\r\n",
      "Requirement already satisfied: multidict<7.0,>=4.5 in /opt/conda/lib/python3.10/site-packages (from aiohttp->datasets>=2.0.0->evaluate->-r requirements.txt (line 2)) (6.0.4)\r\n",
      "Requirement already satisfied: yarl<2.0,>=1.0 in /opt/conda/lib/python3.10/site-packages (from aiohttp->datasets>=2.0.0->evaluate->-r requirements.txt (line 2)) (1.9.3)\r\n",
      "Requirement already satisfied: frozenlist>=1.1.1 in /opt/conda/lib/python3.10/site-packages (from aiohttp->datasets>=2.0.0->evaluate->-r requirements.txt (line 2)) (1.4.1)\r\n",
      "Requirement already satisfied: aiosignal>=1.1.2 in /opt/conda/lib/python3.10/site-packages (from aiohttp->datasets>=2.0.0->evaluate->-r requirements.txt (line 2)) (1.3.1)\r\n",
      "Requirement already satisfied: async-timeout<5.0,>=4.0 in /opt/conda/lib/python3.10/site-packages (from aiohttp->datasets>=2.0.0->evaluate->-r requirements.txt (line 2)) (4.0.3)\r\n",
      "Requirement already satisfied: six>=1.5 in /opt/conda/lib/python3.10/site-packages (from python-dateutil>=2.8.2->pandas->evaluate->-r requirements.txt (line 2)) (1.16.0)\r\n",
      "Requirement already satisfied: MarkupSafe>=2.0 in /opt/conda/lib/python3.10/site-packages (from jinja2->torch>=1.11.0->sentence-transformers->-r requirements.txt (line 1)) (2.1.3)\r\n",
      "Requirement already satisfied: mpmath>=0.19 in /opt/conda/lib/python3.10/site-packages (from sympy->torch>=1.11.0->sentence-transformers->-r requirements.txt (line 1)) (1.3.0)\r\n",
      "Downloading sentence_transformers-2.5.1-py3-none-any.whl (156 kB)\r\n",
      "\u001b[2K   \u001b[90m━━━━━━━━━━━━━━━━━━━━━━━━━━━━━━━━━━━━━━━━\u001b[0m \u001b[32m156.5/156.5 kB\u001b[0m \u001b[31m4.1 MB/s\u001b[0m eta \u001b[36m0:00:00\u001b[0m\r\n",
      "\u001b[?25hDownloading evaluate-0.4.1-py3-none-any.whl (84 kB)\r\n",
      "\u001b[2K   \u001b[90m━━━━━━━━━━━━━━━━━━━━━━━━━━━━━━━━━━━━━━━━\u001b[0m \u001b[32m84.1/84.1 kB\u001b[0m \u001b[31m6.7 MB/s\u001b[0m eta \u001b[36m0:00:00\u001b[0m\r\n",
      "\u001b[?25hInstalling collected packages: sentence-transformers, evaluate\r\n",
      "Successfully installed evaluate-0.4.1 sentence-transformers-2.5.1\r\n"
     ]
    }
   ],
   "source": [
    "!pip install -r requirements.txt"
   ]
  },
  {
   "cell_type": "code",
   "execution_count": 9,
   "id": "6ed3d574",
   "metadata": {
    "execution": {
     "iopub.execute_input": "2024-03-11T06:35:14.201094Z",
     "iopub.status.busy": "2024-03-11T06:35:14.200306Z",
     "iopub.status.idle": "2024-03-11T06:35:18.912981Z",
     "shell.execute_reply": "2024-03-11T06:35:18.911947Z"
    },
    "papermill": {
     "duration": 4.723033,
     "end_time": "2024-03-11T06:35:18.915170",
     "exception": false,
     "start_time": "2024-03-11T06:35:14.192137",
     "status": "completed"
    },
    "tags": []
   },
   "outputs": [
    {
     "name": "stdout",
     "output_type": "stream",
     "text": [
      "Mon Mar 11 06:35:18 2024       \r\n",
      "+---------------------------------------------------------------------------------------+\r\n",
      "| NVIDIA-SMI 535.129.03             Driver Version: 535.129.03   CUDA Version: 12.2     |\r\n",
      "|-----------------------------------------+----------------------+----------------------+\r\n",
      "| GPU  Name                 Persistence-M | Bus-Id        Disp.A | Volatile Uncorr. ECC |\r\n",
      "| Fan  Temp   Perf          Pwr:Usage/Cap |         Memory-Usage | GPU-Util  Compute M. |\r\n",
      "|                                         |                      |               MIG M. |\r\n",
      "|=========================================+======================+======================|\r\n",
      "|   0  Tesla T4                       Off | 00000000:00:04.0 Off |                    0 |\r\n",
      "| N/A   51C    P8              10W /  70W |      0MiB / 15360MiB |      0%      Default |\r\n",
      "|                                         |                      |                  N/A |\r\n",
      "+-----------------------------------------+----------------------+----------------------+\r\n",
      "|   1  Tesla T4                       Off | 00000000:00:05.0 Off |                    0 |\r\n",
      "| N/A   54C    P8              10W /  70W |      0MiB / 15360MiB |      0%      Default |\r\n",
      "|                                         |                      |                  N/A |\r\n",
      "+-----------------------------------------+----------------------+----------------------+\r\n",
      "                                                                                         \r\n",
      "+---------------------------------------------------------------------------------------+\r\n",
      "| Processes:                                                                            |\r\n",
      "|  GPU   GI   CI        PID   Type   Process name                            GPU Memory |\r\n",
      "|        ID   ID                                                             Usage      |\r\n",
      "|=======================================================================================|\r\n",
      "|  No running processes found                                                           |\r\n",
      "+---------------------------------------------------------------------------------------+\r\n"
     ]
    }
   ],
   "source": [
    "import gc\n",
    "import torch\n",
    "\n",
    "model = None\n",
    "gc.collect()\n",
    "torch.cuda.empty_cache()\n",
    "!nvidia-smi"
   ]
  },
  {
   "cell_type": "code",
   "execution_count": 10,
   "id": "493991cc",
   "metadata": {
    "execution": {
     "iopub.execute_input": "2024-03-11T06:35:18.931505Z",
     "iopub.status.busy": "2024-03-11T06:35:18.930891Z",
     "iopub.status.idle": "2024-03-11T06:35:41.464650Z",
     "shell.execute_reply": "2024-03-11T06:35:41.463507Z"
    },
    "papermill": {
     "duration": 22.54474,
     "end_time": "2024-03-11T06:35:41.467143",
     "exception": false,
     "start_time": "2024-03-11T06:35:18.922403",
     "status": "completed"
    },
    "tags": []
   },
   "outputs": [
    {
     "name": "stdout",
     "output_type": "stream",
     "text": [
      "2024-03-11 06:35:26.032001: E external/local_xla/xla/stream_executor/cuda/cuda_dnn.cc:9261] Unable to register cuDNN factory: Attempting to register factory for plugin cuDNN when one has already been registered\r\n",
      "2024-03-11 06:35:26.032134: E external/local_xla/xla/stream_executor/cuda/cuda_fft.cc:607] Unable to register cuFFT factory: Attempting to register factory for plugin cuFFT when one has already been registered\r\n",
      "2024-03-11 06:35:26.161833: E external/local_xla/xla/stream_executor/cuda/cuda_blas.cc:1515] Unable to register cuBLAS factory: Attempting to register factory for plugin cuBLAS when one has already been registered\r\n",
      "Traceback (most recent call last):\r\n",
      "  File \"/opt/conda/lib/python3.10/site-packages/huggingface_hub/utils/_errors.py\", line 286, in hf_raise_for_status\r\n",
      "    response.raise_for_status()\r\n",
      "  File \"/opt/conda/lib/python3.10/site-packages/requests/models.py\", line 1021, in raise_for_status\r\n",
      "    raise HTTPError(http_error_msg, response=self)\r\n",
      "requests.exceptions.HTTPError: 401 Client Error: Unauthorized for url: https://huggingface.co/bert-base/resolve/main/tokenizer_config.json\r\n",
      "\r\n",
      "The above exception was the direct cause of the following exception:\r\n",
      "\r\n",
      "Traceback (most recent call last):\r\n",
      "  File \"/opt/conda/lib/python3.10/site-packages/transformers/utils/hub.py\", line 385, in cached_file\r\n",
      "    resolved_file = hf_hub_download(\r\n",
      "  File \"/opt/conda/lib/python3.10/site-packages/huggingface_hub/utils/_validators.py\", line 118, in _inner_fn\r\n",
      "    return fn(*args, **kwargs)\r\n",
      "  File \"/opt/conda/lib/python3.10/site-packages/huggingface_hub/file_download.py\", line 1368, in hf_hub_download\r\n",
      "    raise head_call_error\r\n",
      "  File \"/opt/conda/lib/python3.10/site-packages/huggingface_hub/file_download.py\", line 1238, in hf_hub_download\r\n",
      "    metadata = get_hf_file_metadata(\r\n",
      "  File \"/opt/conda/lib/python3.10/site-packages/huggingface_hub/utils/_validators.py\", line 118, in _inner_fn\r\n",
      "    return fn(*args, **kwargs)\r\n",
      "  File \"/opt/conda/lib/python3.10/site-packages/huggingface_hub/file_download.py\", line 1631, in get_hf_file_metadata\r\n",
      "    r = _request_wrapper(\r\n",
      "  File \"/opt/conda/lib/python3.10/site-packages/huggingface_hub/file_download.py\", line 385, in _request_wrapper\r\n",
      "    response = _request_wrapper(\r\n",
      "  File \"/opt/conda/lib/python3.10/site-packages/huggingface_hub/file_download.py\", line 409, in _request_wrapper\r\n",
      "    hf_raise_for_status(response)\r\n",
      "  File \"/opt/conda/lib/python3.10/site-packages/huggingface_hub/utils/_errors.py\", line 323, in hf_raise_for_status\r\n",
      "    raise RepositoryNotFoundError(message, response) from e\r\n",
      "huggingface_hub.utils._errors.RepositoryNotFoundError: 401 Client Error. (Request ID: Root=1-65eea63b-048ccea67d37ba921d2153d9;2dd51cbd-a11a-4a62-a45d-b99ab6cb15d2)\r\n",
      "\r\n",
      "Repository Not Found for url: https://huggingface.co/bert-base/resolve/main/tokenizer_config.json.\r\n",
      "Please make sure you specified the correct `repo_id` and `repo_type`.\r\n",
      "If you are trying to access a private or gated repo, make sure you are authenticated.\r\n",
      "Invalid username or password.\r\n",
      "\r\n",
      "The above exception was the direct cause of the following exception:\r\n",
      "\r\n",
      "Traceback (most recent call last):\r\n",
      "  File \"/kaggle/working/CSE447_Project/Student/train.py\", line 48, in <module>\r\n",
      "    main()\r\n",
      "  File \"/kaggle/working/CSE447_Project/Student/train.py\", line 16, in main\r\n",
      "    tokenizer = AutoTokenizer.from_pretrained(model_args.model)\r\n",
      "  File \"/opt/conda/lib/python3.10/site-packages/transformers/models/auto/tokenization_auto.py\", line 758, in from_pretrained\r\n",
      "    tokenizer_config = get_tokenizer_config(pretrained_model_name_or_path, **kwargs)\r\n",
      "  File \"/opt/conda/lib/python3.10/site-packages/transformers/models/auto/tokenization_auto.py\", line 590, in get_tokenizer_config\r\n",
      "    resolved_config_file = cached_file(\r\n",
      "  File \"/opt/conda/lib/python3.10/site-packages/transformers/utils/hub.py\", line 406, in cached_file\r\n",
      "    raise EnvironmentError(\r\n",
      "OSError: bert-base is not a local folder and is not a valid model identifier listed on 'https://huggingface.co/models'\r\n",
      "If this is a private repository, make sure to pass a token having permission to this repo either by logging in with `huggingface-cli login` or by passing `token=<your_token>`\r\n"
     ]
    }
   ],
   "source": [
    "!CUDA_VISIBLE_DEVICES=0,1 python train.py --model \"bert-base\" --output_dir checkpoints/bert-base_obqa_nofacts_noclues_1 --num_train_epochs 1 --use_book False --use_clue False --n_facts 3 --report_to=\"none\" --do_train --do_eval --per_device_train_batch_size 8"
   ]
  },
  {
   "cell_type": "code",
   "execution_count": null,
   "id": "d9b06335",
   "metadata": {
    "papermill": {
     "duration": 0.006892,
     "end_time": "2024-03-11T06:35:41.481748",
     "exception": false,
     "start_time": "2024-03-11T06:35:41.474856",
     "status": "completed"
    },
    "tags": []
   },
   "outputs": [],
   "source": []
  }
 ],
 "metadata": {
  "kaggle": {
   "accelerator": "nvidiaTeslaT4",
   "dataSources": [
    {
     "datasetId": 4529429,
     "sourceId": 7747977,
     "sourceType": "datasetVersion"
    }
   ],
   "dockerImageVersionId": 30648,
   "isGpuEnabled": true,
   "isInternetEnabled": true,
   "language": "python",
   "sourceType": "notebook"
  },
  "kernelspec": {
   "display_name": "Python 3",
   "language": "python",
   "name": "python3"
  },
  "language_info": {
   "codemirror_mode": {
    "name": "ipython",
    "version": 3
   },
   "file_extension": ".py",
   "mimetype": "text/x-python",
   "name": "python",
   "nbconvert_exporter": "python",
   "pygments_lexer": "ipython3",
   "version": "3.10.13"
  },
  "papermill": {
   "default_parameters": {},
   "duration": 51.310328,
   "end_time": "2024-03-11T06:35:42.208203",
   "environment_variables": {},
   "exception": null,
   "input_path": "__notebook__.ipynb",
   "output_path": "__notebook__.ipynb",
   "parameters": {},
   "start_time": "2024-03-11T06:34:50.897875",
   "version": "2.5.0"
  }
 },
 "nbformat": 4,
 "nbformat_minor": 5
}
