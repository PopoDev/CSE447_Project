{
 "cells": [
  {
   "cell_type": "code",
   "execution_count": 1,
   "id": "81e8ed59",
   "metadata": {
    "_cell_guid": "b1076dfc-b9ad-4769-8c92-a6c4dae69d19",
    "_uuid": "8f2839f25d086af736a60e9eeb907d3b93b6e0e5",
    "execution": {
     "iopub.execute_input": "2024-02-14T05:25:18.680746Z",
     "iopub.status.busy": "2024-02-14T05:25:18.680415Z",
     "iopub.status.idle": "2024-02-14T05:25:19.573023Z",
     "shell.execute_reply": "2024-02-14T05:25:19.572164Z"
    },
    "papermill": {
     "duration": 0.900914,
     "end_time": "2024-02-14T05:25:19.575420",
     "exception": false,
     "start_time": "2024-02-14T05:25:18.674506",
     "status": "completed"
    },
    "tags": []
   },
   "outputs": [],
   "source": [
    "# This Python 3 environment comes with many helpful analytics libraries installed\n",
    "# It is defined by the kaggle/python Docker image: https://github.com/kaggle/docker-python\n",
    "# For example, here's several helpful packages to load\n",
    "\n",
    "import numpy as np # linear algebra\n",
    "import pandas as pd # data processing, CSV file I/O (e.g. pd.read_csv)\n",
    "\n",
    "# Input data files are available in the read-only \"../input/\" directory\n",
    "# For example, running this (by clicking run or pressing Shift+Enter) will list all files under the input directory\n",
    "\n",
    "import os\n",
    "for dirname, _, filenames in os.walk('/kaggle/input'):\n",
    "    for filename in filenames:\n",
    "        print(os.path.join(dirname, filename))\n",
    "\n",
    "# You can write up to 20GB to the current directory (/kaggle/working/) that gets preserved as output when you create a version using \"Save & Run All\" \n",
    "# You can also write temporary files to /kaggle/temp/, but they won't be saved outside of the current session"
   ]
  },
  {
   "cell_type": "code",
   "execution_count": 2,
   "id": "907e9c4f",
   "metadata": {
    "execution": {
     "iopub.execute_input": "2024-02-14T05:25:19.585227Z",
     "iopub.status.busy": "2024-02-14T05:25:19.584579Z",
     "iopub.status.idle": "2024-02-14T05:25:23.489745Z",
     "shell.execute_reply": "2024-02-14T05:25:23.488742Z"
    },
    "papermill": {
     "duration": 3.912272,
     "end_time": "2024-02-14T05:25:23.492230",
     "exception": false,
     "start_time": "2024-02-14T05:25:19.579958",
     "status": "completed"
    },
    "tags": []
   },
   "outputs": [
    {
     "name": "stdout",
     "output_type": "stream",
     "text": [
      "Cloning into 'CSE447_Project'...\r\n",
      "remote: Enumerating objects: 81, done.\u001b[K\r\n",
      "remote: Counting objects: 100% (81/81), done.\u001b[K\r\n",
      "remote: Compressing objects: 100% (61/61), done.\u001b[K\r\n",
      "remote: Total 81 (delta 31), reused 61 (delta 14), pack-reused 0\u001b[K\r\n",
      "Unpacking objects: 100% (81/81), 10.19 MiB | 5.46 MiB/s, done.\r\n"
     ]
    }
   ],
   "source": [
    "!git clone https://github.com/PopoDev/CSE447_Project.git"
   ]
  },
  {
   "cell_type": "code",
   "execution_count": 3,
   "id": "84231af1",
   "metadata": {
    "execution": {
     "iopub.execute_input": "2024-02-14T05:25:23.504213Z",
     "iopub.status.busy": "2024-02-14T05:25:23.503843Z",
     "iopub.status.idle": "2024-02-14T05:25:24.503668Z",
     "shell.execute_reply": "2024-02-14T05:25:24.502281Z"
    },
    "papermill": {
     "duration": 1.009337,
     "end_time": "2024-02-14T05:25:24.507025",
     "exception": false,
     "start_time": "2024-02-14T05:25:23.497688",
     "status": "completed"
    },
    "tags": []
   },
   "outputs": [
    {
     "name": "stdout",
     "output_type": "stream",
     "text": [
      "\u001b[0m\u001b[01;34mCSE447_Project\u001b[0m/  __notebook__.ipynb\r\n"
     ]
    }
   ],
   "source": [
    "ls"
   ]
  },
  {
   "cell_type": "code",
   "execution_count": 4,
   "id": "834553a3",
   "metadata": {
    "execution": {
     "iopub.execute_input": "2024-02-14T05:25:24.523330Z",
     "iopub.status.busy": "2024-02-14T05:25:24.522971Z",
     "iopub.status.idle": "2024-02-14T05:25:24.529705Z",
     "shell.execute_reply": "2024-02-14T05:25:24.528797Z"
    },
    "papermill": {
     "duration": 0.01733,
     "end_time": "2024-02-14T05:25:24.532250",
     "exception": false,
     "start_time": "2024-02-14T05:25:24.514920",
     "status": "completed"
    },
    "tags": []
   },
   "outputs": [
    {
     "name": "stdout",
     "output_type": "stream",
     "text": [
      "/kaggle/working/CSE447_Project\n"
     ]
    }
   ],
   "source": [
    "cd CSE447_Project/"
   ]
  },
  {
   "cell_type": "markdown",
   "id": "a5bcf33b",
   "metadata": {
    "papermill": {
     "duration": 0.006685,
     "end_time": "2024-02-14T05:25:24.545885",
     "exception": false,
     "start_time": "2024-02-14T05:25:24.539200",
     "status": "completed"
    },
    "tags": []
   },
   "source": [
    "# GenMC"
   ]
  },
  {
   "cell_type": "code",
   "execution_count": 5,
   "id": "d56a6421",
   "metadata": {
    "execution": {
     "iopub.execute_input": "2024-02-14T05:25:24.560984Z",
     "iopub.status.busy": "2024-02-14T05:25:24.560668Z",
     "iopub.status.idle": "2024-02-14T05:25:24.567085Z",
     "shell.execute_reply": "2024-02-14T05:25:24.565898Z"
    },
    "papermill": {
     "duration": 0.016615,
     "end_time": "2024-02-14T05:25:24.569438",
     "exception": false,
     "start_time": "2024-02-14T05:25:24.552823",
     "status": "completed"
    },
    "tags": []
   },
   "outputs": [
    {
     "name": "stdout",
     "output_type": "stream",
     "text": [
      "/kaggle/working/CSE447_Project/GenMC\n"
     ]
    }
   ],
   "source": [
    "cd GenMC/"
   ]
  },
  {
   "cell_type": "code",
   "execution_count": 6,
   "id": "d924cb31",
   "metadata": {
    "execution": {
     "iopub.execute_input": "2024-02-14T05:25:24.580965Z",
     "iopub.status.busy": "2024-02-14T05:25:24.580605Z",
     "iopub.status.idle": "2024-02-14T05:25:25.589446Z",
     "shell.execute_reply": "2024-02-14T05:25:25.588403Z"
    },
    "papermill": {
     "duration": 1.01721,
     "end_time": "2024-02-14T05:25:25.591821",
     "exception": false,
     "start_time": "2024-02-14T05:25:24.574611",
     "status": "completed"
    },
    "tags": []
   },
   "outputs": [
    {
     "name": "stdout",
     "output_type": "stream",
     "text": [
      "\u001b[0m\u001b[01;34mdata\u001b[0m/  \u001b[01;34mmodel\u001b[0m/  requirements.txt  run_genmc.py  utils.py\r\n"
     ]
    }
   ],
   "source": [
    "ls"
   ]
  },
  {
   "cell_type": "code",
   "execution_count": 7,
   "id": "8a7104aa",
   "metadata": {
    "execution": {
     "iopub.execute_input": "2024-02-14T05:25:25.603890Z",
     "iopub.status.busy": "2024-02-14T05:25:25.603298Z",
     "iopub.status.idle": "2024-02-14T05:25:25.607802Z",
     "shell.execute_reply": "2024-02-14T05:25:25.606902Z"
    },
    "papermill": {
     "duration": 0.012877,
     "end_time": "2024-02-14T05:25:25.609995",
     "exception": false,
     "start_time": "2024-02-14T05:25:25.597118",
     "status": "completed"
    },
    "tags": []
   },
   "outputs": [],
   "source": [
    "#!pip install -r requirements.txt"
   ]
  },
  {
   "cell_type": "code",
   "execution_count": 8,
   "id": "6a44f6ed",
   "metadata": {
    "execution": {
     "iopub.execute_input": "2024-02-14T05:25:25.621390Z",
     "iopub.status.busy": "2024-02-14T05:25:25.621100Z",
     "iopub.status.idle": "2024-02-14T05:25:40.214231Z",
     "shell.execute_reply": "2024-02-14T05:25:40.213093Z"
    },
    "papermill": {
     "duration": 14.601555,
     "end_time": "2024-02-14T05:25:40.216658",
     "exception": false,
     "start_time": "2024-02-14T05:25:25.615103",
     "status": "completed"
    },
    "tags": []
   },
   "outputs": [
    {
     "name": "stdout",
     "output_type": "stream",
     "text": [
      "Collecting rouge\r\n",
      "  Downloading rouge-1.0.1-py3-none-any.whl (13 kB)\r\n",
      "Requirement already satisfied: six in /opt/conda/lib/python3.10/site-packages (from rouge) (1.16.0)\r\n",
      "Installing collected packages: rouge\r\n",
      "Successfully installed rouge-1.0.1\r\n"
     ]
    }
   ],
   "source": [
    "!pip install rouge"
   ]
  },
  {
   "cell_type": "code",
   "execution_count": 9,
   "id": "9ccc3b7b",
   "metadata": {
    "execution": {
     "iopub.execute_input": "2024-02-14T05:25:40.228959Z",
     "iopub.status.busy": "2024-02-14T05:25:40.228630Z",
     "iopub.status.idle": "2024-02-14T05:25:40.233159Z",
     "shell.execute_reply": "2024-02-14T05:25:40.232357Z"
    },
    "papermill": {
     "duration": 0.012797,
     "end_time": "2024-02-14T05:25:40.235088",
     "exception": false,
     "start_time": "2024-02-14T05:25:40.222291",
     "status": "completed"
    },
    "tags": []
   },
   "outputs": [],
   "source": [
    "#!python run_genmc.py --gpu 0,1 --epoch_num 20 --model_path t5-base --choice_num 5 --data_path_train ./data/obqa/train.jsonl --data_path_dev ./data/obqa/dev.jsonl --data_path_test ./data/obqa/test.jsonl --name_save_prix obqa_test_davin --lr 3e-5 --train_batch_size 32"
   ]
  },
  {
   "cell_type": "code",
   "execution_count": 10,
   "id": "18bc4cfa",
   "metadata": {
    "execution": {
     "iopub.execute_input": "2024-02-14T05:25:40.246871Z",
     "iopub.status.busy": "2024-02-14T05:25:40.246597Z",
     "iopub.status.idle": "2024-02-14T10:59:30.403786Z",
     "shell.execute_reply": "2024-02-14T10:59:30.402812Z"
    },
    "papermill": {
     "duration": 20030.16572,
     "end_time": "2024-02-14T10:59:30.406185",
     "exception": false,
     "start_time": "2024-02-14T05:25:40.240465",
     "status": "completed"
    },
    "tags": []
   },
   "outputs": [
    {
     "name": "stdout",
     "output_type": "stream",
     "text": [
      "Better speed can be achieved with apex installed from https://www.github.com/nvidia/apex.\r\n",
      "{\r\n",
      "  \"lr\": 0.0001,\r\n",
      "  \"model\": \"t5-large\",\r\n",
      "  \"seed\": 1,\r\n",
      "  \"bs\": 8,\r\n",
      "  \"gradient_accumulation_steps\": 1,\r\n",
      "  \"epoch\": 20,\r\n",
      "  \"train_path\": \"./data/obqa/train.jsonl\",\r\n",
      "  \"dev_path\": \"./data/obqa/dev.jsonl\",\r\n",
      "  \"test_path\": \"./data/obqa/test.jsonl\",\r\n",
      "  \"train_size\": 4957,\r\n",
      "  \"dev_size\": 500,\r\n",
      "  \"test_size\": 500,\r\n",
      "  \"num_hidden_layers\": 1,\r\n",
      "  \"external_sent_num\": null,\r\n",
      "  \"alpha\": 0.5,\r\n",
      "  \"beta\": 1\r\n",
      "}\r\n",
      "spiece.model: 100%|██████████████████████████| 792k/792k [00:00<00:00, 4.60MB/s]\r\n",
      "tokenizer.json: 100%|██████████████████████| 1.39M/1.39M [00:00<00:00, 10.3MB/s]\r\n",
      "config.json: 100%|█████████████████████████| 1.21k/1.21k [00:00<00:00, 5.41MB/s]\r\n",
      "/opt/conda/lib/python3.10/site-packages/transformers/models/t5/tokenization_t5.py:240: FutureWarning: This tokenizer was incorrectly instantiated with a model max length of 512 which will be corrected in Transformers v5.\r\n",
      "For now, this behavior is kept to avoid breaking backwards compatibility when padding/encoding with `truncation is True`.\r\n",
      "- Be aware that you SHOULD NOT rely on t5-large automatically truncating your input to 512 when padding/encoding.\r\n",
      "- If you want to encode/pad to sequences longer than 512 you can either instantiate this tokenizer with `model_max_length` or pass `max_length` when encoding/padding.\r\n",
      "- To avoid this warning, please instantiate this tokenizer with `model_max_length` set to your preferred value.\r\n",
      "  warnings.warn(\r\n",
      "You are using the default legacy behaviour of the <class 'transformers.models.t5.tokenization_t5.T5Tokenizer'>. This is expected, and simply means that the `legacy` (previous) behavior will be used so nothing changes for you. If you want to use the new behaviour, set `legacy=False`. This should only be set if you understand what it means, and thoroughly read the reason why this was added as explained in https://github.com/huggingface/transformers/pull/24565\r\n",
      "Special tokens have been added in the vocabulary, make sure the associated word embeddings are fine-tuned or trained.\r\n",
      "model.safetensors: 100%|████████████████████| 2.95G/2.95G [00:19<00:00, 151MB/s]\r\n",
      "generation_config.json: 100%|███████████████████| 147/147 [00:00<00:00, 694kB/s]\r\n",
      "/opt/conda/lib/python3.10/site-packages/transformers/models/t5/modeling_t5.py:1584: FutureWarning: `T5ForConditionalGeneration.parallelize` is deprecated and will be removed in v5 of Transformers, you should load your model with `device_map='balanced'` in the call to `from_pretrained`. You can also provide your own `device_map` but it needs to be a dictionary module_name to device, so for instance {'encoder.block.0': 0, 'encoder.block.1': 1, ...}\r\n",
      "  warnings.warn(\r\n",
      "/opt/conda/lib/python3.10/site-packages/transformers/models/t5/modeling_t5.py:925: FutureWarning: `T5Stack.parallelize` is deprecated and will be removed in v5 of Transformers, you should load your model with `device_map='balanced'` in the call to `from_pretrained`. You can also provide your own `device_map` but it needs to be a dictionary module_name to device, so for instance {'block.0': 0, 'block.1': 1, ...}\r\n",
      "  warnings.warn(\r\n",
      "  0%|                                                    | 0/63 [00:00<?, ?it/s]/opt/conda/lib/python3.10/site-packages/transformers/generation/utils.py:1128: UserWarning: Using the model-agnostic default `max_length` (=20) to control the generation length. We recommend setting `max_new_tokens` to control the maximum length of the generation.\r\n",
      "  warnings.warn(\r\n",
      "100%|███████████████████████████████████████████| 63/63 [01:05<00:00,  1.04s/it]\r\n",
      "best_dev_acc: 0.182\r\n",
      "100%|███████████████████| 620/620 [16:09<00:00,  1.56s/it,  Epoch:0 loss:4.2036]\r\n",
      "100%|███████████████████████████████████████████| 63/63 [00:46<00:00,  1.35it/s]\r\n",
      "dev_acc: 0.616\r\n",
      "100%|███████████████████████████████████████████| 63/63 [00:45<00:00,  1.38it/s]\r\n",
      "new best dev acc: 0.616 test_acc: 0.638 rouge: 0.3813076318878041\r\n",
      "100%|███████████████████| 620/620 [16:07<00:00,  1.56s/it,  Epoch:1 loss:3.7527]\r\n",
      "100%|███████████████████████████████████████████| 63/63 [00:46<00:00,  1.34it/s]\r\n",
      "dev_acc: 0.676\r\n",
      "100%|███████████████████████████████████████████| 63/63 [00:45<00:00,  1.38it/s]\r\n",
      "new best dev acc: 0.676 test_acc: 0.662 rouge: 0.39602955849501487\r\n",
      "100%|███████████████████| 620/620 [16:02<00:00,  1.55s/it,  Epoch:2 loss:3.3884]\r\n",
      "100%|███████████████████████████████████████████| 63/63 [00:47<00:00,  1.33it/s]\r\n",
      "dev_acc: 0.682\r\n",
      "100%|███████████████████████████████████████████| 63/63 [00:46<00:00,  1.36it/s]\r\n",
      "new best dev acc: 0.682 test_acc: 0.676 rouge: 0.4081422391529604\r\n",
      "100%|███████████████████| 620/620 [16:12<00:00,  1.57s/it,  Epoch:3 loss:3.0624]\r\n",
      "100%|███████████████████████████████████████████| 63/63 [00:44<00:00,  1.41it/s]\r\n",
      "dev_acc: 0.676\r\n",
      "100%|███████████████████| 620/620 [15:57<00:00,  1.54s/it,  Epoch:4 loss:2.7923]\r\n",
      "100%|███████████████████████████████████████████| 63/63 [00:46<00:00,  1.36it/s]\r\n",
      "dev_acc: 0.658\r\n",
      "100%|███████████████████| 620/620 [15:51<00:00,  1.53s/it,  Epoch:5 loss:2.5632]\r\n",
      "100%|███████████████████████████████████████████| 63/63 [00:44<00:00,  1.42it/s]\r\n",
      "dev_acc: 0.664\r\n",
      "100%|███████████████████| 620/620 [15:41<00:00,  1.52s/it,  Epoch:6 loss:2.3595]\r\n",
      "100%|███████████████████████████████████████████| 63/63 [00:42<00:00,  1.48it/s]\r\n",
      "dev_acc: 0.68\r\n",
      "100%|███████████████████| 620/620 [15:36<00:00,  1.51s/it,  Epoch:7 loss:2.1783]\r\n",
      "100%|███████████████████████████████████████████| 63/63 [00:40<00:00,  1.57it/s]\r\n",
      "dev_acc: 0.68\r\n",
      "100%|█████████████████████| 620/620 [15:29<00:00,  1.50s/it,  Epoch:8 loss:2.02]\r\n",
      "100%|███████████████████████████████████████████| 63/63 [00:41<00:00,  1.50it/s]\r\n",
      "dev_acc: 0.674\r\n",
      "100%|███████████████████| 620/620 [15:21<00:00,  1.49s/it,  Epoch:9 loss:1.8796]\r\n",
      "100%|███████████████████████████████████████████| 63/63 [00:41<00:00,  1.51it/s]\r\n",
      "dev_acc: 0.662\r\n",
      "100%|██████████████████| 620/620 [15:20<00:00,  1.48s/it,  Epoch:10 loss:1.7569]\r\n",
      "100%|███████████████████████████████████████████| 63/63 [00:40<00:00,  1.57it/s]\r\n",
      "dev_acc: 0.688\r\n",
      "100%|███████████████████████████████████████████| 63/63 [00:40<00:00,  1.57it/s]\r\n",
      "new best dev acc: 0.688 test_acc: 0.674 rouge: 0.4144943086651699\r\n",
      "100%|██████████████████| 620/620 [15:19<00:00,  1.48s/it,  Epoch:11 loss:1.6458]\r\n",
      "100%|███████████████████████████████████████████| 63/63 [00:42<00:00,  1.47it/s]\r\n",
      "dev_acc: 0.678\r\n",
      "100%|███████████████████| 620/620 [15:17<00:00,  1.48s/it,  Epoch:12 loss:1.545]\r\n",
      "100%|███████████████████████████████████████████| 63/63 [00:42<00:00,  1.50it/s]\r\n",
      "dev_acc: 0.694\r\n",
      "100%|███████████████████████████████████████████| 63/63 [00:42<00:00,  1.48it/s]\r\n",
      "new best dev acc: 0.694 test_acc: 0.686 rouge: 0.417875255700551\r\n",
      "100%|██████████████████| 620/620 [15:15<00:00,  1.48s/it,  Epoch:13 loss:1.4534]\r\n",
      "100%|███████████████████████████████████████████| 63/63 [00:42<00:00,  1.48it/s]\r\n",
      "dev_acc: 0.666\r\n",
      "100%|██████████████████| 620/620 [15:14<00:00,  1.48s/it,  Epoch:14 loss:1.3723]\r\n",
      "100%|███████████████████████████████████████████| 63/63 [00:40<00:00,  1.56it/s]\r\n",
      "dev_acc: 0.654\r\n",
      "100%|██████████████████| 620/620 [15:13<00:00,  1.47s/it,  Epoch:15 loss:1.3012]\r\n",
      "100%|███████████████████████████████████████████| 63/63 [00:42<00:00,  1.48it/s]\r\n",
      "dev_acc: 0.67\r\n",
      "100%|██████████████████| 620/620 [15:15<00:00,  1.48s/it,  Epoch:16 loss:1.2358]\r\n",
      "100%|███████████████████████████████████████████| 63/63 [00:42<00:00,  1.48it/s]\r\n",
      "dev_acc: 0.668\r\n",
      "100%|██████████████████| 620/620 [15:15<00:00,  1.48s/it,  Epoch:17 loss:1.1773]\r\n",
      "100%|███████████████████████████████████████████| 63/63 [00:42<00:00,  1.50it/s]\r\n",
      "dev_acc: 0.648\r\n",
      "100%|██████████████████| 620/620 [15:23<00:00,  1.49s/it,  Epoch:18 loss:1.1232]\r\n",
      "100%|███████████████████████████████████████████| 63/63 [00:44<00:00,  1.42it/s]\r\n",
      "dev_acc: 0.652\r\n",
      "100%|██████████████████| 620/620 [15:22<00:00,  1.49s/it,  Epoch:19 loss:1.0744]\r\n",
      "100%|███████████████████████████████████████████| 63/63 [00:41<00:00,  1.51it/s]\r\n",
      "dev_acc: 0.654\r\n",
      "best dev acc: 0.694 best_test_acc: 0.686 best_dev_rouge_score: 0.417875255700551 best_test_rouge_score: 0.4094692060327914\r\n"
     ]
    }
   ],
   "source": [
    "!python run_genmc.py --gpu 0,1 --epoch_num 20 --model_path t5-large --choice_num 5 --data_path_train ./data/obqa/train.jsonl --data_path_dev ./data/obqa/dev.jsonl --data_path_test ./data/obqa/test.jsonl --name_save_prix obqa_test_davin --lr 1e-4 --train_batch_size 8"
   ]
  },
  {
   "cell_type": "code",
   "execution_count": null,
   "id": "304aa139",
   "metadata": {
    "papermill": {
     "duration": 1.272573,
     "end_time": "2024-02-14T10:59:32.846452",
     "exception": false,
     "start_time": "2024-02-14T10:59:31.573879",
     "status": "completed"
    },
    "tags": []
   },
   "outputs": [],
   "source": []
  }
 ],
 "metadata": {
  "kaggle": {
   "accelerator": "nvidiaTeslaT4",
   "dataSources": [],
   "dockerImageVersionId": 30648,
   "isGpuEnabled": true,
   "isInternetEnabled": true,
   "language": "python",
   "sourceType": "notebook"
  },
  "kernelspec": {
   "display_name": "Python 3",
   "language": "python",
   "name": "python3"
  },
  "language_info": {
   "codemirror_mode": {
    "name": "ipython",
    "version": 3
   },
   "file_extension": ".py",
   "mimetype": "text/x-python",
   "name": "python",
   "nbconvert_exporter": "python",
   "pygments_lexer": "ipython3",
   "version": "3.10.13"
  },
  "papermill": {
   "default_parameters": {},
   "duration": 20058.888942,
   "end_time": "2024-02-14T10:59:34.474219",
   "environment_variables": {},
   "exception": null,
   "input_path": "__notebook__.ipynb",
   "output_path": "__notebook__.ipynb",
   "parameters": {},
   "start_time": "2024-02-14T05:25:15.585277",
   "version": "2.5.0"
  }
 },
 "nbformat": 4,
 "nbformat_minor": 5
}
