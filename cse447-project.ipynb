{
 "cells": [
  {
   "cell_type": "code",
   "execution_count": 1,
   "id": "892c9df7",
   "metadata": {
    "_cell_guid": "b1076dfc-b9ad-4769-8c92-a6c4dae69d19",
    "_uuid": "8f2839f25d086af736a60e9eeb907d3b93b6e0e5",
    "execution": {
     "iopub.execute_input": "2024-02-11T18:01:40.489087Z",
     "iopub.status.busy": "2024-02-11T18:01:40.488370Z",
     "iopub.status.idle": "2024-02-11T18:01:41.155319Z",
     "shell.execute_reply": "2024-02-11T18:01:41.154547Z"
    },
    "papermill": {
     "duration": 0.674202,
     "end_time": "2024-02-11T18:01:41.157528",
     "exception": false,
     "start_time": "2024-02-11T18:01:40.483326",
     "status": "completed"
    },
    "tags": []
   },
   "outputs": [],
   "source": [
    "# This Python 3 environment comes with many helpful analytics libraries installed\n",
    "# It is defined by the kaggle/python Docker image: https://github.com/kaggle/docker-python\n",
    "# For example, here's several helpful packages to load\n",
    "\n",
    "import numpy as np # linear algebra\n",
    "import pandas as pd # data processing, CSV file I/O (e.g. pd.read_csv)\n",
    "\n",
    "# Input data files are available in the read-only \"../input/\" directory\n",
    "# For example, running this (by clicking run or pressing Shift+Enter) will list all files under the input directory\n",
    "\n",
    "import os\n",
    "for dirname, _, filenames in os.walk('/kaggle/input'):\n",
    "    for filename in filenames:\n",
    "        print(os.path.join(dirname, filename))\n",
    "\n",
    "# You can write up to 20GB to the current directory (/kaggle/working/) that gets preserved as output when you create a version using \"Save & Run All\" \n",
    "# You can also write temporary files to /kaggle/temp/, but they won't be saved outside of the current session"
   ]
  },
  {
   "cell_type": "code",
   "execution_count": 2,
   "id": "362fa09f",
   "metadata": {
    "execution": {
     "iopub.execute_input": "2024-02-11T18:01:41.165728Z",
     "iopub.status.busy": "2024-02-11T18:01:41.165388Z",
     "iopub.status.idle": "2024-02-11T18:01:44.777103Z",
     "shell.execute_reply": "2024-02-11T18:01:44.776139Z"
    },
    "papermill": {
     "duration": 3.61823,
     "end_time": "2024-02-11T18:01:44.779499",
     "exception": false,
     "start_time": "2024-02-11T18:01:41.161269",
     "status": "completed"
    },
    "tags": []
   },
   "outputs": [
    {
     "name": "stdout",
     "output_type": "stream",
     "text": [
      "Cloning into 'CSE447_Project'...\r\n",
      "remote: Enumerating objects: 42, done.\u001B[K\r\n",
      "remote: Counting objects: 100% (42/42), done.\u001B[K\r\n",
      "remote: Compressing objects: 100% (31/31), done.\u001B[K\r\n",
      "remote: Total 42 (delta 14), reused 33 (delta 8), pack-reused 0\u001B[K\r\n",
      "Unpacking objects: 100% (42/42), 9.78 MiB | 6.03 MiB/s, done.\r\n"
     ]
    }
   ],
   "source": [
    "!git clone https://github.com/PopoDev/CSE447_Project.git"
   ]
  },
  {
   "cell_type": "code",
   "execution_count": 3,
   "id": "aeff9ec9",
   "metadata": {
    "execution": {
     "iopub.execute_input": "2024-02-11T18:01:44.788946Z",
     "iopub.status.busy": "2024-02-11T18:01:44.788627Z",
     "iopub.status.idle": "2024-02-11T18:01:45.733061Z",
     "shell.execute_reply": "2024-02-11T18:01:45.732067Z"
    },
    "papermill": {
     "duration": 0.95183,
     "end_time": "2024-02-11T18:01:45.735450",
     "exception": false,
     "start_time": "2024-02-11T18:01:44.783620",
     "status": "completed"
    },
    "tags": []
   },
   "outputs": [
    {
     "name": "stdout",
     "output_type": "stream",
     "text": [
      "\u001B[0m\u001B[01;34mCSE447_Project\u001B[0m/  __notebook__.ipynb\r\n"
     ]
    }
   ],
   "source": [
    "ls"
   ]
  },
  {
   "cell_type": "code",
   "execution_count": 4,
   "id": "285e0afe",
   "metadata": {
    "execution": {
     "iopub.execute_input": "2024-02-11T18:01:45.745048Z",
     "iopub.status.busy": "2024-02-11T18:01:45.744720Z",
     "iopub.status.idle": "2024-02-11T18:01:45.750770Z",
     "shell.execute_reply": "2024-02-11T18:01:45.749929Z"
    },
    "papermill": {
     "duration": 0.013212,
     "end_time": "2024-02-11T18:01:45.752782",
     "exception": false,
     "start_time": "2024-02-11T18:01:45.739570",
     "status": "completed"
    },
    "tags": []
   },
   "outputs": [
    {
     "name": "stdout",
     "output_type": "stream",
     "text": [
      "/kaggle/working/CSE447_Project\n"
     ]
    }
   ],
   "source": [
    "cd CSE447_Project/"
   ]
  },
  {
   "cell_type": "markdown",
   "id": "56e97809",
   "metadata": {
    "papermill": {
     "duration": 0.003802,
     "end_time": "2024-02-11T18:01:45.760575",
     "exception": false,
     "start_time": "2024-02-11T18:01:45.756773",
     "status": "completed"
    },
    "tags": []
   },
   "source": [
    "# GenMC"
   ]
  },
  {
   "cell_type": "code",
   "execution_count": 5,
   "id": "3246390a",
   "metadata": {
    "execution": {
     "iopub.execute_input": "2024-02-11T18:01:45.769615Z",
     "iopub.status.busy": "2024-02-11T18:01:45.769358Z",
     "iopub.status.idle": "2024-02-11T18:01:45.774509Z",
     "shell.execute_reply": "2024-02-11T18:01:45.773571Z"
    },
    "papermill": {
     "duration": 0.011889,
     "end_time": "2024-02-11T18:01:45.776433",
     "exception": false,
     "start_time": "2024-02-11T18:01:45.764544",
     "status": "completed"
    },
    "tags": []
   },
   "outputs": [
    {
     "name": "stdout",
     "output_type": "stream",
     "text": [
      "/kaggle/working/CSE447_Project/GenMC\n"
     ]
    }
   ],
   "source": [
    "cd GenMC/"
   ]
  },
  {
   "cell_type": "code",
   "execution_count": 6,
   "id": "2dba457e",
   "metadata": {
    "execution": {
     "iopub.execute_input": "2024-02-11T18:01:45.785481Z",
     "iopub.status.busy": "2024-02-11T18:01:45.785217Z",
     "iopub.status.idle": "2024-02-11T18:01:46.717144Z",
     "shell.execute_reply": "2024-02-11T18:01:46.715981Z"
    },
    "papermill": {
     "duration": 0.939004,
     "end_time": "2024-02-11T18:01:46.719446",
     "exception": false,
     "start_time": "2024-02-11T18:01:45.780442",
     "status": "completed"
    },
    "tags": []
   },
   "outputs": [
    {
     "name": "stdout",
     "output_type": "stream",
     "text": [
      "\u001B[0m\u001B[01;34mdata\u001B[0m/  \u001B[01;34mmodel\u001B[0m/  requirements.txt  run_genmc.py  utils.py\r\n"
     ]
    }
   ],
   "source": [
    "ls"
   ]
  },
  {
   "cell_type": "code",
   "execution_count": 7,
   "id": "3275291b",
   "metadata": {
    "execution": {
     "iopub.execute_input": "2024-02-11T18:01:46.729545Z",
     "iopub.status.busy": "2024-02-11T18:01:46.729229Z",
     "iopub.status.idle": "2024-02-11T18:02:33.350363Z",
     "shell.execute_reply": "2024-02-11T18:02:33.349400Z"
    },
    "papermill": {
     "duration": 46.628943,
     "end_time": "2024-02-11T18:02:33.352741",
     "exception": false,
     "start_time": "2024-02-11T18:01:46.723798",
     "status": "completed"
    },
    "tags": []
   },
   "outputs": [
    {
     "name": "stdout",
     "output_type": "stream",
     "text": [
      "Collecting apex==0.9.10dev (from -r requirements.txt (line 1))\r\n",
      "  Downloading apex-0.9.10dev.tar.gz (36 kB)\r\n",
      "  Preparing metadata (setup.py) ... \u001B[?25l-\b \bdone\r\n",
      "\u001B[?25hRequirement already satisfied: numpy==1.24.4 in /opt/conda/lib/python3.10/site-packages (from -r requirements.txt (line 2)) (1.24.4)\r\n",
      "Collecting rouge==1.0.1 (from -r requirements.txt (line 3))\r\n",
      "  Downloading rouge-1.0.1-py3-none-any.whl (13 kB)\r\n",
      "Requirement already satisfied: torch==2.1.2 in /opt/conda/lib/python3.10/site-packages (from -r requirements.txt (line 4)) (2.1.2)\r\n",
      "Requirement already satisfied: tqdm==4.66.1 in /opt/conda/lib/python3.10/site-packages (from -r requirements.txt (line 5)) (4.66.1)\r\n",
      "Requirement already satisfied: transformers==4.37.0 in /opt/conda/lib/python3.10/site-packages (from -r requirements.txt (line 6)) (4.37.0)\r\n",
      "Collecting cryptacular (from apex==0.9.10dev->-r requirements.txt (line 1))\r\n",
      "  Downloading cryptacular-1.6.2.tar.gz (75 kB)\r\n",
      "\u001B[2K     \u001B[90m━━━━━━━━━━━━━━━━━━━━━━━━━━━━━━━━━━━━━━━━\u001B[0m \u001B[32m75.8/75.8 kB\u001B[0m \u001B[31m5.0 MB/s\u001B[0m eta \u001B[36m0:00:00\u001B[0m\r\n",
      "\u001B[?25h  Installing build dependencies ... \u001B[?25l-\b \b\\\b \b|\b \b/\b \b-\b \b\\\b \b|\b \b/\b \b-\b \b\\\b \bdone\r\n",
      "\u001B[?25h  Getting requirements to build wheel ... \u001B[?25ldone\r\n",
      "\u001B[?25h  Preparing metadata (pyproject.toml) ... \u001B[?25l-\b \b\\\b \bdone\r\n",
      "\u001B[?25hCollecting zope.sqlalchemy (from apex==0.9.10dev->-r requirements.txt (line 1))\r\n",
      "  Downloading zope.sqlalchemy-3.1-py3-none-any.whl.metadata (18 kB)\r\n",
      "Collecting velruse>=1.0.3 (from apex==0.9.10dev->-r requirements.txt (line 1))\r\n",
      "  Downloading velruse-1.1.1.tar.gz (709 kB)\r\n",
      "\u001B[2K     \u001B[90m━━━━━━━━━━━━━━━━━━━━━━━━━━━━━━━━━━━━━━\u001B[0m \u001B[32m709.8/709.8 kB\u001B[0m \u001B[31m37.7 MB/s\u001B[0m eta \u001B[36m0:00:00\u001B[0m\r\n",
      "\u001B[?25h  Preparing metadata (setup.py) ... \u001B[?25l-\b \b\\\b \bdone\r\n",
      "\u001B[?25hCollecting pyramid>1.1.2 (from apex==0.9.10dev->-r requirements.txt (line 1))\r\n",
      "  Downloading pyramid-2.0.2-py3-none-any.whl.metadata (20 kB)\r\n",
      "Collecting pyramid_mailer (from apex==0.9.10dev->-r requirements.txt (line 1))\r\n",
      "  Downloading pyramid_mailer-0.15.1-py2.py3-none-any.whl (19 kB)\r\n",
      "Requirement already satisfied: requests in /opt/conda/lib/python3.10/site-packages (from apex==0.9.10dev->-r requirements.txt (line 1)) (2.31.0)\r\n",
      "Collecting wtforms (from apex==0.9.10dev->-r requirements.txt (line 1))\r\n",
      "  Downloading wtforms-3.1.2-py3-none-any.whl.metadata (5.3 kB)\r\n",
      "Collecting wtforms-recaptcha (from apex==0.9.10dev->-r requirements.txt (line 1))\r\n",
      "  Downloading wtforms_recaptcha-0.3.2-py2.py3-none-any.whl (7.5 kB)\r\n",
      "Requirement already satisfied: six in /opt/conda/lib/python3.10/site-packages (from rouge==1.0.1->-r requirements.txt (line 3)) (1.16.0)\r\n",
      "Requirement already satisfied: filelock in /opt/conda/lib/python3.10/site-packages (from torch==2.1.2->-r requirements.txt (line 4)) (3.13.1)\r\n",
      "Requirement already satisfied: typing-extensions in /opt/conda/lib/python3.10/site-packages (from torch==2.1.2->-r requirements.txt (line 4)) (4.9.0)\r\n",
      "Requirement already satisfied: sympy in /opt/conda/lib/python3.10/site-packages (from torch==2.1.2->-r requirements.txt (line 4)) (1.12)\r\n",
      "Requirement already satisfied: networkx in /opt/conda/lib/python3.10/site-packages (from torch==2.1.2->-r requirements.txt (line 4)) (3.2.1)\r\n",
      "Requirement already satisfied: jinja2 in /opt/conda/lib/python3.10/site-packages (from torch==2.1.2->-r requirements.txt (line 4)) (3.1.2)\r\n",
      "Requirement already satisfied: fsspec in /opt/conda/lib/python3.10/site-packages (from torch==2.1.2->-r requirements.txt (line 4)) (2023.12.2)\r\n",
      "Requirement already satisfied: huggingface-hub<1.0,>=0.19.3 in /opt/conda/lib/python3.10/site-packages (from transformers==4.37.0->-r requirements.txt (line 6)) (0.20.3)\r\n",
      "Requirement already satisfied: packaging>=20.0 in /opt/conda/lib/python3.10/site-packages (from transformers==4.37.0->-r requirements.txt (line 6)) (21.3)\r\n",
      "Requirement already satisfied: pyyaml>=5.1 in /opt/conda/lib/python3.10/site-packages (from transformers==4.37.0->-r requirements.txt (line 6)) (6.0.1)\r\n",
      "Requirement already satisfied: regex!=2019.12.17 in /opt/conda/lib/python3.10/site-packages (from transformers==4.37.0->-r requirements.txt (line 6)) (2023.12.25)\r\n",
      "Requirement already satisfied: tokenizers<0.19,>=0.14 in /opt/conda/lib/python3.10/site-packages (from transformers==4.37.0->-r requirements.txt (line 6)) (0.15.1)\r\n",
      "Requirement already satisfied: safetensors>=0.3.1 in /opt/conda/lib/python3.10/site-packages (from transformers==4.37.0->-r requirements.txt (line 6)) (0.4.2)\r\n",
      "Requirement already satisfied: pyparsing!=3.0.5,>=2.0.2 in /opt/conda/lib/python3.10/site-packages (from packaging>=20.0->transformers==4.37.0->-r requirements.txt (line 6)) (3.1.1)\r\n",
      "Collecting hupper>=1.5 (from pyramid>1.1.2->apex==0.9.10dev->-r requirements.txt (line 1))\r\n",
      "  Downloading hupper-1.12.1-py3-none-any.whl.metadata (3.7 kB)\r\n",
      "Collecting plaster (from pyramid>1.1.2->apex==0.9.10dev->-r requirements.txt (line 1))\r\n",
      "  Downloading plaster-1.1.2-py2.py3-none-any.whl (11 kB)\r\n",
      "Collecting plaster-pastedeploy (from pyramid>1.1.2->apex==0.9.10dev->-r requirements.txt (line 1))\r\n",
      "  Downloading plaster_pastedeploy-1.0.1-py2.py3-none-any.whl (7.8 kB)\r\n",
      "Requirement already satisfied: setuptools in /opt/conda/lib/python3.10/site-packages (from pyramid>1.1.2->apex==0.9.10dev->-r requirements.txt (line 1)) (69.0.3)\r\n",
      "Collecting translationstring>=0.4 (from pyramid>1.1.2->apex==0.9.10dev->-r requirements.txt (line 1))\r\n",
      "  Downloading translationstring-1.4-py2.py3-none-any.whl (15 kB)\r\n",
      "Collecting venusian>=1.0 (from pyramid>1.1.2->apex==0.9.10dev->-r requirements.txt (line 1))\r\n",
      "  Downloading venusian-3.1.0-py3-none-any.whl.metadata (10 kB)\r\n",
      "Collecting webob>=1.8.3 (from pyramid>1.1.2->apex==0.9.10dev->-r requirements.txt (line 1))\r\n",
      "  Downloading WebOb-1.8.7-py2.py3-none-any.whl (114 kB)\r\n",
      "\u001B[2K     \u001B[90m━━━━━━━━━━━━━━━━━━━━━━━━━━━━━━━━━━━━━━━\u001B[0m \u001B[32m115.0/115.0 kB\u001B[0m \u001B[31m7.5 MB/s\u001B[0m eta \u001B[36m0:00:00\u001B[0m\r\n",
      "\u001B[?25hCollecting zope.deprecation>=3.5.0 (from pyramid>1.1.2->apex==0.9.10dev->-r requirements.txt (line 1))\r\n",
      "  Downloading zope.deprecation-5.0-py3-none-any.whl (10 kB)\r\n",
      "Collecting zope.interface>=3.8.0 (from pyramid>1.1.2->apex==0.9.10dev->-r requirements.txt (line 1))\r\n",
      "  Downloading zope.interface-6.1-cp310-cp310-manylinux_2_5_x86_64.manylinux1_x86_64.manylinux_2_17_x86_64.manylinux2014_x86_64.whl.metadata (41 kB)\r\n",
      "\u001B[2K     \u001B[90m━━━━━━━━━━━━━━━━━━━━━━━━━━━━━━━━━━━━━━━━\u001B[0m \u001B[32m41.7/41.7 kB\u001B[0m \u001B[31m2.4 MB/s\u001B[0m eta \u001B[36m0:00:00\u001B[0m\r\n",
      "\u001B[?25hRequirement already satisfied: requests-oauthlib in /opt/conda/lib/python3.10/site-packages (from velruse>=1.0.3->apex==0.9.10dev->-r requirements.txt (line 1)) (1.3.1)\r\n",
      "Collecting anykeystore (from velruse>=1.0.3->apex==0.9.10dev->-r requirements.txt (line 1))\r\n",
      "  Downloading anykeystore-0.2.tar.gz (10 kB)\r\n",
      "  Preparing metadata (setup.py) ... \u001B[?25l-\b \bdone\r\n",
      "\u001B[?25hCollecting python3-openid (from velruse>=1.0.3->apex==0.9.10dev->-r requirements.txt (line 1))\r\n",
      "  Downloading python3_openid-3.2.0-py3-none-any.whl (133 kB)\r\n",
      "\u001B[2K     \u001B[90m━━━━━━━━━━━━━━━━━━━━━━━━━━━━━━━━━━━━━━━\u001B[0m \u001B[32m133.7/133.7 kB\u001B[0m \u001B[31m9.3 MB/s\u001B[0m eta \u001B[36m0:00:00\u001B[0m\r\n",
      "\u001B[?25hCollecting pbkdf2 (from cryptacular->apex==0.9.10dev->-r requirements.txt (line 1))\r\n",
      "  Downloading pbkdf2-1.3.tar.gz (6.4 kB)\r\n",
      "  Preparing metadata (setup.py) ... \u001B[?25l-\b \bdone\r\n",
      "\u001B[?25hRequirement already satisfied: MarkupSafe>=2.0 in /opt/conda/lib/python3.10/site-packages (from jinja2->torch==2.1.2->-r requirements.txt (line 4)) (2.1.3)\r\n",
      "Collecting repoze.sendmail>=4.1 (from pyramid_mailer->apex==0.9.10dev->-r requirements.txt (line 1))\r\n",
      "  Downloading repoze.sendmail-4.4.1-py2.py3-none-any.whl (41 kB)\r\n",
      "\u001B[2K     \u001B[90m━━━━━━━━━━━━━━━━━━━━━━━━━━━━━━━━━━━━━━━━\u001B[0m \u001B[32m41.0/41.0 kB\u001B[0m \u001B[31m2.7 MB/s\u001B[0m eta \u001B[36m0:00:00\u001B[0m\r\n",
      "\u001B[?25hCollecting transaction (from pyramid_mailer->apex==0.9.10dev->-r requirements.txt (line 1))\r\n",
      "  Downloading transaction-4.0-py3-none-any.whl.metadata (14 kB)\r\n",
      "Requirement already satisfied: charset-normalizer<4,>=2 in /opt/conda/lib/python3.10/site-packages (from requests->apex==0.9.10dev->-r requirements.txt (line 1)) (3.3.2)\r\n",
      "Requirement already satisfied: idna<4,>=2.5 in /opt/conda/lib/python3.10/site-packages (from requests->apex==0.9.10dev->-r requirements.txt (line 1)) (3.6)\r\n",
      "Requirement already satisfied: urllib3<3,>=1.21.1 in /opt/conda/lib/python3.10/site-packages (from requests->apex==0.9.10dev->-r requirements.txt (line 1)) (1.26.18)\r\n",
      "Requirement already satisfied: certifi>=2017.4.17 in /opt/conda/lib/python3.10/site-packages (from requests->apex==0.9.10dev->-r requirements.txt (line 1)) (2023.11.17)\r\n",
      "Requirement already satisfied: mpmath>=0.19 in /opt/conda/lib/python3.10/site-packages (from sympy->torch==2.1.2->-r requirements.txt (line 4)) (1.3.0)\r\n",
      "Requirement already satisfied: SQLAlchemy!=1.4.0,!=1.4.1,!=1.4.2,!=1.4.3,!=1.4.4,!=1.4.5,!=1.4.6,>=1.1 in /opt/conda/lib/python3.10/site-packages (from zope.sqlalchemy->apex==0.9.10dev->-r requirements.txt (line 1)) (2.0.25)\r\n",
      "Requirement already satisfied: greenlet!=0.4.17 in /opt/conda/lib/python3.10/site-packages (from SQLAlchemy!=1.4.0,!=1.4.1,!=1.4.2,!=1.4.3,!=1.4.4,!=1.4.5,!=1.4.6,>=1.1->zope.sqlalchemy->apex==0.9.10dev->-r requirements.txt (line 1)) (3.0.3)\r\n",
      "Collecting PasteDeploy>=2.0 (from plaster-pastedeploy->pyramid>1.1.2->apex==0.9.10dev->-r requirements.txt (line 1))\r\n",
      "  Downloading PasteDeploy-3.1.0-py3-none-any.whl.metadata (2.7 kB)\r\n",
      "Requirement already satisfied: defusedxml in /opt/conda/lib/python3.10/site-packages (from python3-openid->velruse>=1.0.3->apex==0.9.10dev->-r requirements.txt (line 1)) (0.7.1)\r\n",
      "Requirement already satisfied: oauthlib>=3.0.0 in /opt/conda/lib/python3.10/site-packages (from requests-oauthlib->velruse>=1.0.3->apex==0.9.10dev->-r requirements.txt (line 1)) (3.2.2)\r\n",
      "Downloading pyramid-2.0.2-py3-none-any.whl (247 kB)\r\n",
      "\u001B[2K   \u001B[90m━━━━━━━━━━━━━━━━━━━━━━━━━━━━━━━━━━━━━━━━\u001B[0m \u001B[32m247.3/247.3 kB\u001B[0m \u001B[31m16.6 MB/s\u001B[0m eta \u001B[36m0:00:00\u001B[0m\r\n",
      "\u001B[?25hDownloading wtforms-3.1.2-py3-none-any.whl (145 kB)\r\n",
      "\u001B[2K   \u001B[90m━━━━━━━━━━━━━━━━━━━━━━━━━━━━━━━━━━━━━━━━\u001B[0m \u001B[32m146.0/146.0 kB\u001B[0m \u001B[31m11.6 MB/s\u001B[0m eta \u001B[36m0:00:00\u001B[0m\r\n",
      "\u001B[?25hDownloading zope.sqlalchemy-3.1-py3-none-any.whl (23 kB)\r\n",
      "Downloading hupper-1.12.1-py3-none-any.whl (22 kB)\r\n",
      "Downloading transaction-4.0-py3-none-any.whl (46 kB)\r\n",
      "\u001B[2K   \u001B[90m━━━━━━━━━━━━━━━━━━━━━━━━━━━━━━━━━━━━━━━━\u001B[0m \u001B[32m46.6/46.6 kB\u001B[0m \u001B[31m3.0 MB/s\u001B[0m eta \u001B[36m0:00:00\u001B[0m\r\n",
      "\u001B[?25hDownloading venusian-3.1.0-py3-none-any.whl (13 kB)\r\n",
      "Downloading zope.interface-6.1-cp310-cp310-manylinux_2_5_x86_64.manylinux1_x86_64.manylinux_2_17_x86_64.manylinux2014_x86_64.whl (247 kB)\r\n",
      "\u001B[2K   \u001B[90m━━━━━━━━━━━━━━━━━━━━━━━━━━━━━━━━━━━━━━━━\u001B[0m \u001B[32m247.1/247.1 kB\u001B[0m \u001B[31m16.8 MB/s\u001B[0m eta \u001B[36m0:00:00\u001B[0m\r\n",
      "\u001B[?25hDownloading PasteDeploy-3.1.0-py3-none-any.whl (16 kB)\r\n",
      "Building wheels for collected packages: apex, velruse, cryptacular, anykeystore, pbkdf2\r\n",
      "  Building wheel for apex (setup.py) ... \u001B[?25l-\b \bdone\r\n",
      "\u001B[?25h  Created wheel for apex: filename=apex-0.9.10.dev0-py3-none-any.whl size=46442 sha256=4ab94826f22c225d4e7448b7a220d15c528fda36c1d23aa3f394ae76189c8c63\r\n",
      "  Stored in directory: /root/.cache/pip/wheels/6e/62/59/9b100fce7ebd989603b3b7a4ca259150da72c9e107fcaa2a30\r\n",
      "  Building wheel for velruse (setup.py) ... \u001B[?25l-\b \b\\\b \bdone\r\n",
      "\u001B[?25h  Created wheel for velruse: filename=velruse-1.1.1-py3-none-any.whl size=50909 sha256=b80e07a77a252d38ea9234f874bd927ae1bd7fa1b00884641b8c9cbca51c50be\r\n",
      "  Stored in directory: /root/.cache/pip/wheels/4a/f9/a4/fc4ea7b935ee9c58b9bc772cabd94f6a8560f35444097d948d\r\n",
      "  Building wheel for cryptacular (pyproject.toml) ... \u001B[?25l-\b \b\\\b \b|\b \b/\b \b-\b \bdone\r\n",
      "\u001B[?25h  Created wheel for cryptacular: filename=cryptacular-1.6.2-cp310-cp310-linux_x86_64.whl size=28236 sha256=a41000c8d8a101a6fb13a104ff509075305935f30f5f5ea4b9702d5cfbe0d3e2\r\n",
      "  Stored in directory: /root/.cache/pip/wheels/3f/6e/09/a7fba517f95b2a6a36bd01b6d4f4679fa7259615a493b64b8f\r\n",
      "  Building wheel for anykeystore (setup.py) ... \u001B[?25l-\b \bdone\r\n",
      "\u001B[?25h  Created wheel for anykeystore: filename=anykeystore-0.2-py3-none-any.whl size=16813 sha256=674c26df6fb285a24330cd635729e9866705f69abac730b9efe273025f2afc9e\r\n",
      "  Stored in directory: /root/.cache/pip/wheels/ce/9e/24/35542b7d376b53a6f8426524cc5a3f7998f975037b32d19906\r\n",
      "  Building wheel for pbkdf2 (setup.py) ... \u001B[?25l-\b \b\\\b \bdone\r\n",
      "\u001B[?25h  Created wheel for pbkdf2: filename=pbkdf2-1.3-py3-none-any.whl size=5082 sha256=f7ec092044ef1e3929bdda877f06e1f077f0ac478f87914edc8f36e184701b06\r\n",
      "  Stored in directory: /root/.cache/pip/wheels/f6/7d/8b/4269ff90fda80497ec59f6ff7d1e1596cb697c1dc8e9bbe320\r\n",
      "Successfully built apex velruse cryptacular anykeystore pbkdf2\r\n",
      "Installing collected packages: translationstring, pbkdf2, anykeystore, zope.interface, zope.deprecation, wtforms, webob, venusian, rouge, python3-openid, plaster, PasteDeploy, hupper, cryptacular, wtforms-recaptcha, transaction, plaster-pastedeploy, zope.sqlalchemy, repoze.sendmail, pyramid, velruse, pyramid_mailer, apex\r\n",
      "Successfully installed PasteDeploy-3.1.0 anykeystore-0.2 apex-0.9.10.dev0 cryptacular-1.6.2 hupper-1.12.1 pbkdf2-1.3 plaster-1.1.2 plaster-pastedeploy-1.0.1 pyramid-2.0.2 pyramid_mailer-0.15.1 python3-openid-3.2.0 repoze.sendmail-4.4.1 rouge-1.0.1 transaction-4.0 translationstring-1.4 velruse-1.1.1 venusian-3.1.0 webob-1.8.7 wtforms-3.1.2 wtforms-recaptcha-0.3.2 zope.deprecation-5.0 zope.interface-6.1 zope.sqlalchemy-3.1\r\n"
     ]
    }
   ],
   "source": [
    "!pip install -r requirements.txt"
   ]
  },
  {
   "cell_type": "code",
   "execution_count": 8,
   "id": "55a25f5b",
   "metadata": {
    "execution": {
     "iopub.execute_input": "2024-02-11T18:02:33.376032Z",
     "iopub.status.busy": "2024-02-11T18:02:33.375714Z",
     "iopub.status.idle": "2024-02-11T19:01:08.455088Z",
     "shell.execute_reply": "2024-02-11T19:01:08.453905Z"
    },
    "papermill": {
     "duration": 3515.093586,
     "end_time": "2024-02-11T19:01:08.457379",
     "exception": false,
     "start_time": "2024-02-11T18:02:33.363793",
     "status": "completed"
    },
    "tags": []
   },
   "outputs": [
    {
     "name": "stdout",
     "output_type": "stream",
     "text": [
      "Better speed can be achieved with apex installed from https://www.github.com/nvidia/apex.\r\n",
      "{\r\n",
      "  \"lr\": 0.0001,\r\n",
      "  \"model\": \"t5-base\",\r\n",
      "  \"seed\": 1,\r\n",
      "  \"bs\": 8,\r\n",
      "  \"gradient_accumulation_steps\": 1,\r\n",
      "  \"epoch\": 10,\r\n",
      "  \"train_path\": \"./data/obqa/train.jsonl\",\r\n",
      "  \"dev_path\": \"./data/obqa/dev.jsonl\",\r\n",
      "  \"test_path\": \"./data/obqa/test.jsonl\",\r\n",
      "  \"train_size\": 4957,\r\n",
      "  \"dev_size\": 500,\r\n",
      "  \"test_size\": 500,\r\n",
      "  \"num_hidden_layers\": 1,\r\n",
      "  \"external_sent_num\": null,\r\n",
      "  \"alpha\": 0.5,\r\n",
      "  \"beta\": 1\r\n",
      "}\r\n",
      "spiece.model: 100%|██████████████████████████| 792k/792k [00:00<00:00, 1.35MB/s]\r\n",
      "tokenizer.json: 100%|██████████████████████| 1.39M/1.39M [00:00<00:00, 1.42MB/s]\r\n",
      "config.json: 100%|█████████████████████████| 1.21k/1.21k [00:00<00:00, 7.50MB/s]\r\n",
      "/opt/conda/lib/python3.10/site-packages/transformers/models/t5/tokenization_t5.py:240: FutureWarning: This tokenizer was incorrectly instantiated with a model max length of 512 which will be corrected in Transformers v5.\r\n",
      "For now, this behavior is kept to avoid breaking backwards compatibility when padding/encoding with `truncation is True`.\r\n",
      "- Be aware that you SHOULD NOT rely on t5-base automatically truncating your input to 512 when padding/encoding.\r\n",
      "- If you want to encode/pad to sequences longer than 512 you can either instantiate this tokenizer with `model_max_length` or pass `max_length` when encoding/padding.\r\n",
      "- To avoid this warning, please instantiate this tokenizer with `model_max_length` set to your preferred value.\r\n",
      "  warnings.warn(\r\n",
      "You are using the default legacy behaviour of the <class 'transformers.models.t5.tokenization_t5.T5Tokenizer'>. This is expected, and simply means that the `legacy` (previous) behavior will be used so nothing changes for you. If you want to use the new behaviour, set `legacy=False`. This should only be set if you understand what it means, and thoroughly read the reason why this was added as explained in https://github.com/huggingface/transformers/pull/24565\r\n",
      "Special tokens have been added in the vocabulary, make sure the associated word embeddings are fine-tuned or trained.\r\n",
      "model.safetensors: 100%|█████████████████████| 892M/892M [00:22<00:00, 40.4MB/s]\r\n",
      "generation_config.json: 100%|███████████████████| 147/147 [00:00<00:00, 822kB/s]\r\n",
      "/opt/conda/lib/python3.10/site-packages/transformers/models/t5/modeling_t5.py:1584: FutureWarning: `T5ForConditionalGeneration.parallelize` is deprecated and will be removed in v5 of Transformers, you should load your model with `device_map='balanced'` in the call to `from_pretrained`. You can also provide your own `device_map` but it needs to be a dictionary module_name to device, so for instance {'encoder.block.0': 0, 'encoder.block.1': 1, ...}\r\n",
      "  warnings.warn(\r\n",
      "/opt/conda/lib/python3.10/site-packages/transformers/models/t5/modeling_t5.py:925: FutureWarning: `T5Stack.parallelize` is deprecated and will be removed in v5 of Transformers, you should load your model with `device_map='balanced'` in the call to `from_pretrained`. You can also provide your own `device_map` but it needs to be a dictionary module_name to device, so for instance {'block.0': 0, 'block.1': 1, ...}\r\n",
      "  warnings.warn(\r\n",
      "  0%|                                                    | 0/63 [00:00<?, ?it/s]/opt/conda/lib/python3.10/site-packages/transformers/generation/utils.py:1128: UserWarning: Using the model-agnostic default `max_length` (=20) to control the generation length. We recommend setting `max_new_tokens` to control the maximum length of the generation.\r\n",
      "  warnings.warn(\r\n",
      "100%|███████████████████████████████████████████| 63/63 [00:27<00:00,  2.26it/s]\r\n",
      "best_dev_acc: 0.188\r\n",
      "100%|███████████████████| 620/620 [05:14<00:00,  1.97it/s,  Epoch:0 loss:4.5997]\r\n",
      "100%|███████████████████████████████████████████| 63/63 [00:17<00:00,  3.57it/s]\r\n",
      "dev_acc: 0.538\r\n",
      "100%|███████████████████████████████████████████| 63/63 [00:17<00:00,  3.67it/s]\r\n",
      "new best dev acc: 0.538 test_acc: 0.544 rouge: 0.36368039406500774\r\n",
      "100%|███████████████████| 620/620 [05:12<00:00,  1.98it/s,  Epoch:1 loss:4.2436]\r\n",
      "100%|███████████████████████████████████████████| 63/63 [00:18<00:00,  3.34it/s]\r\n",
      "dev_acc: 0.6\r\n",
      "100%|███████████████████████████████████████████| 63/63 [00:17<00:00,  3.56it/s]\r\n",
      "new best dev acc: 0.6 test_acc: 0.586 rouge: 0.39329764767691533\r\n",
      "100%|███████████████████| 620/620 [05:15<00:00,  1.96it/s,  Epoch:2 loss:3.9782]\r\n",
      "100%|███████████████████████████████████████████| 63/63 [00:18<00:00,  3.37it/s]\r\n",
      "dev_acc: 0.588\r\n",
      "100%|███████████████████| 620/620 [05:14<00:00,  1.97it/s,  Epoch:3 loss:3.7499]\r\n",
      "100%|███████████████████████████████████████████| 63/63 [00:17<00:00,  3.66it/s]\r\n",
      "dev_acc: 0.594\r\n",
      "100%|███████████████████| 620/620 [05:09<00:00,  2.00it/s,  Epoch:4 loss:3.5437]\r\n",
      "100%|███████████████████████████████████████████| 63/63 [00:18<00:00,  3.41it/s]\r\n",
      "dev_acc: 0.604\r\n",
      "100%|███████████████████████████████████████████| 63/63 [00:17<00:00,  3.63it/s]\r\n",
      "new best dev acc: 0.604 test_acc: 0.612 rouge: 0.4001851762792355\r\n",
      "100%|███████████████████| 620/620 [05:18<00:00,  1.95it/s,  Epoch:5 loss:3.3549]\r\n",
      "100%|███████████████████████████████████████████| 63/63 [00:19<00:00,  3.22it/s]\r\n",
      "dev_acc: 0.626\r\n",
      "100%|███████████████████████████████████████████| 63/63 [00:17<00:00,  3.57it/s]\r\n",
      "new best dev acc: 0.626 test_acc: 0.592 rouge: 0.39587610740923246\r\n",
      "100%|███████████████████| 620/620 [05:19<00:00,  1.94it/s,  Epoch:6 loss:3.1824]\r\n",
      "100%|███████████████████████████████████████████| 63/63 [00:17<00:00,  3.66it/s]\r\n",
      "dev_acc: 0.618\r\n",
      "100%|███████████████████| 620/620 [05:19<00:00,  1.94it/s,  Epoch:7 loss:3.0257]\r\n",
      "100%|███████████████████████████████████████████| 63/63 [00:17<00:00,  3.51it/s]\r\n",
      "dev_acc: 0.632\r\n",
      "100%|███████████████████████████████████████████| 63/63 [00:16<00:00,  3.76it/s]\r\n",
      "new best dev acc: 0.632 test_acc: 0.61 rouge: 0.41267977221017876\r\n",
      "100%|███████████████████| 620/620 [05:11<00:00,  1.99it/s,  Epoch:8 loss:2.8831]\r\n",
      "100%|███████████████████████████████████████████| 63/63 [00:17<00:00,  3.61it/s]\r\n",
      "dev_acc: 0.614\r\n",
      "100%|███████████████████| 620/620 [05:05<00:00,  2.03it/s,  Epoch:9 loss:2.7503]\r\n",
      "100%|███████████████████████████████████████████| 63/63 [00:16<00:00,  3.79it/s]\r\n",
      "dev_acc: 0.604\r\n",
      "best dev acc: 0.632 best_test_acc: 0.61 best_dev_rouge_score: 0.41267977221017876 best_test_rouge_score: 0.3881569224109451\r\n"
     ]
    }
   ],
   "source": [
    "!python run_genmc.py --epoch_num 10 --model_path t5-base --choice_num 5"
   ]
  },
  {
   "cell_type": "code",
   "execution_count": null,
   "id": "b3d13e6d",
   "metadata": {
    "papermill": {
     "duration": 0.601916,
     "end_time": "2024-02-11T19:01:09.728809",
     "exception": false,
     "start_time": "2024-02-11T19:01:09.126893",
     "status": "completed"
    },
    "tags": []
   },
   "outputs": [],
   "source": []
  }
 ],
 "metadata": {
  "kaggle": {
   "accelerator": "gpu",
   "dataSources": [],
   "dockerImageVersionId": 30648,
   "isGpuEnabled": true,
   "isInternetEnabled": true,
   "language": "python",
   "sourceType": "notebook"
  },
  "kernelspec": {
   "display_name": "Python 3",
   "language": "python",
   "name": "python3"
  },
  "language_info": {
   "codemirror_mode": {
    "name": "ipython",
    "version": 3
   },
   "file_extension": ".py",
   "mimetype": "text/x-python",
   "name": "python",
   "nbconvert_exporter": "python",
   "pygments_lexer": "ipython3",
   "version": "3.10.13"
  },
  "papermill": {
   "default_parameters": {},
   "duration": 3572.90877,
   "end_time": "2024-02-11T19:01:10.763196",
   "environment_variables": {},
   "exception": null,
   "input_path": "__notebook__.ipynb",
   "output_path": "__notebook__.ipynb",
   "parameters": {},
   "start_time": "2024-02-11T18:01:37.854426",
   "version": "2.5.0"
  }
 },
 "nbformat": 4,
 "nbformat_minor": 5
}
