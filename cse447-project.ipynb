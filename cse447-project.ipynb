{
 "cells": [
  {
   "cell_type": "code",
   "execution_count": 1,
   "id": "d6e4117a",
   "metadata": {
    "_cell_guid": "b1076dfc-b9ad-4769-8c92-a6c4dae69d19",
    "_uuid": "8f2839f25d086af736a60e9eeb907d3b93b6e0e5",
    "execution": {
     "iopub.execute_input": "2024-02-08T21:22:06.179032Z",
     "iopub.status.busy": "2024-02-08T21:22:06.178224Z",
     "iopub.status.idle": "2024-02-08T21:22:07.027403Z",
     "shell.execute_reply": "2024-02-08T21:22:07.026333Z"
    },
    "papermill": {
     "duration": 0.857298,
     "end_time": "2024-02-08T21:22:07.029741",
     "exception": false,
     "start_time": "2024-02-08T21:22:06.172443",
     "status": "completed"
    },
    "tags": []
   },
   "outputs": [],
   "source": [
    "# This Python 3 environment comes with many helpful analytics libraries installed\n",
    "# It is defined by the kaggle/python Docker image: https://github.com/kaggle/docker-python\n",
    "# For example, here's several helpful packages to load\n",
    "\n",
    "import numpy as np # linear algebra\n",
    "import pandas as pd # data processing, CSV file I/O (e.g. pd.read_csv)\n",
    "\n",
    "# Input data files are available in the read-only \"../input/\" directory\n",
    "# For example, running this (by clicking run or pressing Shift+Enter) will list all files under the input directory\n",
    "\n",
    "import os\n",
    "for dirname, _, filenames in os.walk('/kaggle/input'):\n",
    "    for filename in filenames:\n",
    "        print(os.path.join(dirname, filename))\n",
    "\n",
    "# You can write up to 20GB to the current directory (/kaggle/working/) that gets preserved as output when you create a version using \"Save & Run All\" \n",
    "# You can also write temporary files to /kaggle/temp/, but they won't be saved outside of the current session"
   ]
  },
  {
   "cell_type": "code",
   "execution_count": 2,
   "id": "d2d1822a",
   "metadata": {
    "execution": {
     "iopub.execute_input": "2024-02-08T21:22:07.038010Z",
     "iopub.status.busy": "2024-02-08T21:22:07.037587Z",
     "iopub.status.idle": "2024-02-08T21:22:10.688939Z",
     "shell.execute_reply": "2024-02-08T21:22:10.687832Z"
    },
    "papermill": {
     "duration": 3.657728,
     "end_time": "2024-02-08T21:22:10.691193",
     "exception": false,
     "start_time": "2024-02-08T21:22:07.033465",
     "status": "completed"
    },
    "tags": []
   },
   "outputs": [
    {
     "name": "stdout",
     "output_type": "stream",
     "text": [
      "Cloning into 'CSE447_Project'...\r\n",
      "remote: Enumerating objects: 23, done.\u001b[K\r\n",
      "remote: Counting objects: 100% (23/23), done.\u001b[K\r\n",
      "remote: Compressing objects: 100% (19/19), done.\u001b[K\r\n",
      "remote: Total 23 (delta 3), reused 18 (delta 2), pack-reused 0\u001b[K\r\n",
      "Unpacking objects: 100% (23/23), 9.76 MiB | 5.48 MiB/s, done.\r\n"
     ]
    }
   ],
   "source": [
    "!git clone https://github.com/PopoDev/CSE447_Project.git"
   ]
  },
  {
   "cell_type": "code",
   "execution_count": 3,
   "id": "451f4dd6",
   "metadata": {
    "execution": {
     "iopub.execute_input": "2024-02-08T21:22:10.700704Z",
     "iopub.status.busy": "2024-02-08T21:22:10.700390Z",
     "iopub.status.idle": "2024-02-08T21:22:11.671601Z",
     "shell.execute_reply": "2024-02-08T21:22:11.670578Z"
    },
    "papermill": {
     "duration": 0.978854,
     "end_time": "2024-02-08T21:22:11.674071",
     "exception": false,
     "start_time": "2024-02-08T21:22:10.695217",
     "status": "completed"
    },
    "tags": []
   },
   "outputs": [
    {
     "name": "stdout",
     "output_type": "stream",
     "text": [
      "\u001b[0m\u001b[01;34mCSE447_Project\u001b[0m/  __notebook__.ipynb\r\n"
     ]
    }
   ],
   "source": [
    "ls"
   ]
  },
  {
   "cell_type": "code",
   "execution_count": 4,
   "id": "25eff2f5",
   "metadata": {
    "execution": {
     "iopub.execute_input": "2024-02-08T21:22:11.684724Z",
     "iopub.status.busy": "2024-02-08T21:22:11.683921Z",
     "iopub.status.idle": "2024-02-08T21:22:11.690742Z",
     "shell.execute_reply": "2024-02-08T21:22:11.689592Z"
    },
    "papermill": {
     "duration": 0.014419,
     "end_time": "2024-02-08T21:22:11.692858",
     "exception": false,
     "start_time": "2024-02-08T21:22:11.678439",
     "status": "completed"
    },
    "tags": []
   },
   "outputs": [
    {
     "name": "stdout",
     "output_type": "stream",
     "text": [
      "/kaggle/working/CSE447_Project\n"
     ]
    }
   ],
   "source": [
    "cd CSE447_Project/"
   ]
  },
  {
   "cell_type": "markdown",
   "id": "adde0e1e",
   "metadata": {
    "papermill": {
     "duration": 0.003875,
     "end_time": "2024-02-08T21:22:11.700895",
     "exception": false,
     "start_time": "2024-02-08T21:22:11.697020",
     "status": "completed"
    },
    "tags": []
   },
   "source": [
    "# GenMC"
   ]
  },
  {
   "cell_type": "code",
   "execution_count": 5,
   "id": "9d256ecc",
   "metadata": {
    "execution": {
     "iopub.execute_input": "2024-02-08T21:22:11.710574Z",
     "iopub.status.busy": "2024-02-08T21:22:11.710236Z",
     "iopub.status.idle": "2024-02-08T21:22:11.716264Z",
     "shell.execute_reply": "2024-02-08T21:22:11.714853Z"
    },
    "papermill": {
     "duration": 0.013192,
     "end_time": "2024-02-08T21:22:11.718346",
     "exception": false,
     "start_time": "2024-02-08T21:22:11.705154",
     "status": "completed"
    },
    "tags": []
   },
   "outputs": [
    {
     "name": "stdout",
     "output_type": "stream",
     "text": [
      "/kaggle/working/CSE447_Project/GenMC\n"
     ]
    }
   ],
   "source": [
    "cd GenMC/"
   ]
  },
  {
   "cell_type": "code",
   "execution_count": 6,
   "id": "91f6483f",
   "metadata": {
    "execution": {
     "iopub.execute_input": "2024-02-08T21:22:11.727830Z",
     "iopub.status.busy": "2024-02-08T21:22:11.727510Z",
     "iopub.status.idle": "2024-02-08T21:22:12.683980Z",
     "shell.execute_reply": "2024-02-08T21:22:12.682857Z"
    },
    "papermill": {
     "duration": 0.963969,
     "end_time": "2024-02-08T21:22:12.686463",
     "exception": false,
     "start_time": "2024-02-08T21:22:11.722494",
     "status": "completed"
    },
    "tags": []
   },
   "outputs": [
    {
     "name": "stdout",
     "output_type": "stream",
     "text": [
      "\u001b[0m\u001b[01;34mdata\u001b[0m/  \u001b[01;34mmodel\u001b[0m/  requirements.txt  run_genmc.py  utils.py\r\n"
     ]
    }
   ],
   "source": [
    "ls"
   ]
  },
  {
   "cell_type": "code",
   "execution_count": 7,
   "id": "80319f87",
   "metadata": {
    "execution": {
     "iopub.execute_input": "2024-02-08T21:22:12.696431Z",
     "iopub.status.busy": "2024-02-08T21:22:12.696136Z",
     "iopub.status.idle": "2024-02-08T21:22:59.580181Z",
     "shell.execute_reply": "2024-02-08T21:22:59.579231Z"
    },
    "papermill": {
     "duration": 46.891691,
     "end_time": "2024-02-08T21:22:59.582564",
     "exception": false,
     "start_time": "2024-02-08T21:22:12.690873",
     "status": "completed"
    },
    "tags": []
   },
   "outputs": [
    {
     "name": "stdout",
     "output_type": "stream",
     "text": [
      "Collecting apex==0.9.10dev (from -r requirements.txt (line 1))\r\n",
      "  Downloading apex-0.9.10dev.tar.gz (36 kB)\r\n",
      "  Preparing metadata (setup.py) ... \u001b[?25l-\b \bdone\r\n",
      "\u001b[?25hRequirement already satisfied: numpy==1.24.4 in /opt/conda/lib/python3.10/site-packages (from -r requirements.txt (line 2)) (1.24.4)\r\n",
      "Collecting rouge==1.0.1 (from -r requirements.txt (line 3))\r\n",
      "  Downloading rouge-1.0.1-py3-none-any.whl (13 kB)\r\n",
      "Requirement already satisfied: torch==2.1.2 in /opt/conda/lib/python3.10/site-packages (from -r requirements.txt (line 4)) (2.1.2)\r\n",
      "Requirement already satisfied: tqdm==4.66.1 in /opt/conda/lib/python3.10/site-packages (from -r requirements.txt (line 5)) (4.66.1)\r\n",
      "Requirement already satisfied: transformers==4.37.0 in /opt/conda/lib/python3.10/site-packages (from -r requirements.txt (line 6)) (4.37.0)\r\n",
      "Collecting cryptacular (from apex==0.9.10dev->-r requirements.txt (line 1))\r\n",
      "  Downloading cryptacular-1.6.2.tar.gz (75 kB)\r\n",
      "\u001b[2K     \u001b[90m━━━━━━━━━━━━━━━━━━━━━━━━━━━━━━━━━━━━━━━━\u001b[0m \u001b[32m75.8/75.8 kB\u001b[0m \u001b[31m1.4 MB/s\u001b[0m eta \u001b[36m0:00:00\u001b[0m\r\n",
      "\u001b[?25h  Installing build dependencies ... \u001b[?25l-\b \b\\\b \b|\b \b/\b \b-\b \b\\\b \b|\b \b/\b \b-\b \b\\\b \b|\b \b/\b \b-\b \bdone\r\n",
      "\u001b[?25h  Getting requirements to build wheel ... \u001b[?25ldone\r\n",
      "\u001b[?25h  Preparing metadata (pyproject.toml) ... \u001b[?25l-\b \b\\\b \bdone\r\n",
      "\u001b[?25hCollecting zope.sqlalchemy (from apex==0.9.10dev->-r requirements.txt (line 1))\r\n",
      "  Downloading zope.sqlalchemy-3.1-py3-none-any.whl.metadata (18 kB)\r\n",
      "Collecting velruse>=1.0.3 (from apex==0.9.10dev->-r requirements.txt (line 1))\r\n",
      "  Downloading velruse-1.1.1.tar.gz (709 kB)\r\n",
      "\u001b[2K     \u001b[90m━━━━━━━━━━━━━━━━━━━━━━━━━━━━━━━━━━━━━━━\u001b[0m \u001b[32m709.8/709.8 kB\u001b[0m \u001b[31m7.7 MB/s\u001b[0m eta \u001b[36m0:00:00\u001b[0m\r\n",
      "\u001b[?25h  Preparing metadata (setup.py) ... \u001b[?25l-\b \b\\\b \bdone\r\n",
      "\u001b[?25hCollecting pyramid>1.1.2 (from apex==0.9.10dev->-r requirements.txt (line 1))\r\n",
      "  Downloading pyramid-2.0.2-py3-none-any.whl.metadata (20 kB)\r\n",
      "Collecting pyramid_mailer (from apex==0.9.10dev->-r requirements.txt (line 1))\r\n",
      "  Downloading pyramid_mailer-0.15.1-py2.py3-none-any.whl (19 kB)\r\n",
      "Requirement already satisfied: requests in /opt/conda/lib/python3.10/site-packages (from apex==0.9.10dev->-r requirements.txt (line 1)) (2.31.0)\r\n",
      "Collecting wtforms (from apex==0.9.10dev->-r requirements.txt (line 1))\r\n",
      "  Downloading wtforms-3.1.2-py3-none-any.whl.metadata (5.3 kB)\r\n",
      "Collecting wtforms-recaptcha (from apex==0.9.10dev->-r requirements.txt (line 1))\r\n",
      "  Downloading wtforms_recaptcha-0.3.2-py2.py3-none-any.whl (7.5 kB)\r\n",
      "Requirement already satisfied: six in /opt/conda/lib/python3.10/site-packages (from rouge==1.0.1->-r requirements.txt (line 3)) (1.16.0)\r\n",
      "Requirement already satisfied: filelock in /opt/conda/lib/python3.10/site-packages (from torch==2.1.2->-r requirements.txt (line 4)) (3.13.1)\r\n",
      "Requirement already satisfied: typing-extensions in /opt/conda/lib/python3.10/site-packages (from torch==2.1.2->-r requirements.txt (line 4)) (4.9.0)\r\n",
      "Requirement already satisfied: sympy in /opt/conda/lib/python3.10/site-packages (from torch==2.1.2->-r requirements.txt (line 4)) (1.12)\r\n",
      "Requirement already satisfied: networkx in /opt/conda/lib/python3.10/site-packages (from torch==2.1.2->-r requirements.txt (line 4)) (3.2.1)\r\n",
      "Requirement already satisfied: jinja2 in /opt/conda/lib/python3.10/site-packages (from torch==2.1.2->-r requirements.txt (line 4)) (3.1.2)\r\n",
      "Requirement already satisfied: fsspec in /opt/conda/lib/python3.10/site-packages (from torch==2.1.2->-r requirements.txt (line 4)) (2023.12.2)\r\n",
      "Requirement already satisfied: huggingface-hub<1.0,>=0.19.3 in /opt/conda/lib/python3.10/site-packages (from transformers==4.37.0->-r requirements.txt (line 6)) (0.20.3)\r\n",
      "Requirement already satisfied: packaging>=20.0 in /opt/conda/lib/python3.10/site-packages (from transformers==4.37.0->-r requirements.txt (line 6)) (21.3)\r\n",
      "Requirement already satisfied: pyyaml>=5.1 in /opt/conda/lib/python3.10/site-packages (from transformers==4.37.0->-r requirements.txt (line 6)) (6.0.1)\r\n",
      "Requirement already satisfied: regex!=2019.12.17 in /opt/conda/lib/python3.10/site-packages (from transformers==4.37.0->-r requirements.txt (line 6)) (2023.12.25)\r\n",
      "Requirement already satisfied: tokenizers<0.19,>=0.14 in /opt/conda/lib/python3.10/site-packages (from transformers==4.37.0->-r requirements.txt (line 6)) (0.15.1)\r\n",
      "Requirement already satisfied: safetensors>=0.3.1 in /opt/conda/lib/python3.10/site-packages (from transformers==4.37.0->-r requirements.txt (line 6)) (0.4.2)\r\n",
      "Requirement already satisfied: pyparsing!=3.0.5,>=2.0.2 in /opt/conda/lib/python3.10/site-packages (from packaging>=20.0->transformers==4.37.0->-r requirements.txt (line 6)) (3.1.1)\r\n",
      "Collecting hupper>=1.5 (from pyramid>1.1.2->apex==0.9.10dev->-r requirements.txt (line 1))\r\n",
      "  Downloading hupper-1.12.1-py3-none-any.whl.metadata (3.7 kB)\r\n",
      "Collecting plaster (from pyramid>1.1.2->apex==0.9.10dev->-r requirements.txt (line 1))\r\n",
      "  Downloading plaster-1.1.2-py2.py3-none-any.whl (11 kB)\r\n",
      "Collecting plaster-pastedeploy (from pyramid>1.1.2->apex==0.9.10dev->-r requirements.txt (line 1))\r\n",
      "  Downloading plaster_pastedeploy-1.0.1-py2.py3-none-any.whl (7.8 kB)\r\n",
      "Requirement already satisfied: setuptools in /opt/conda/lib/python3.10/site-packages (from pyramid>1.1.2->apex==0.9.10dev->-r requirements.txt (line 1)) (69.0.3)\r\n",
      "Collecting translationstring>=0.4 (from pyramid>1.1.2->apex==0.9.10dev->-r requirements.txt (line 1))\r\n",
      "  Downloading translationstring-1.4-py2.py3-none-any.whl (15 kB)\r\n",
      "Collecting venusian>=1.0 (from pyramid>1.1.2->apex==0.9.10dev->-r requirements.txt (line 1))\r\n",
      "  Downloading venusian-3.1.0-py3-none-any.whl.metadata (10 kB)\r\n",
      "Collecting webob>=1.8.3 (from pyramid>1.1.2->apex==0.9.10dev->-r requirements.txt (line 1))\r\n",
      "  Downloading WebOb-1.8.7-py2.py3-none-any.whl (114 kB)\r\n",
      "\u001b[2K     \u001b[90m━━━━━━━━━━━━━━━━━━━━━━━━━━━━━━━━━━━━━━━\u001b[0m \u001b[32m115.0/115.0 kB\u001b[0m \u001b[31m7.1 MB/s\u001b[0m eta \u001b[36m0:00:00\u001b[0m\r\n",
      "\u001b[?25hCollecting zope.deprecation>=3.5.0 (from pyramid>1.1.2->apex==0.9.10dev->-r requirements.txt (line 1))\r\n",
      "  Downloading zope.deprecation-5.0-py3-none-any.whl (10 kB)\r\n",
      "Collecting zope.interface>=3.8.0 (from pyramid>1.1.2->apex==0.9.10dev->-r requirements.txt (line 1))\r\n",
      "  Downloading zope.interface-6.1-cp310-cp310-manylinux_2_5_x86_64.manylinux1_x86_64.manylinux_2_17_x86_64.manylinux2014_x86_64.whl.metadata (41 kB)\r\n",
      "\u001b[2K     \u001b[90m━━━━━━━━━━━━━━━━━━━━━━━━━━━━━━━━━━━━━━━━\u001b[0m \u001b[32m41.7/41.7 kB\u001b[0m \u001b[31m2.5 MB/s\u001b[0m eta \u001b[36m0:00:00\u001b[0m\r\n",
      "\u001b[?25hRequirement already satisfied: requests-oauthlib in /opt/conda/lib/python3.10/site-packages (from velruse>=1.0.3->apex==0.9.10dev->-r requirements.txt (line 1)) (1.3.1)\r\n",
      "Collecting anykeystore (from velruse>=1.0.3->apex==0.9.10dev->-r requirements.txt (line 1))\r\n",
      "  Downloading anykeystore-0.2.tar.gz (10 kB)\r\n",
      "  Preparing metadata (setup.py) ... \u001b[?25l-\b \bdone\r\n",
      "\u001b[?25hCollecting python3-openid (from velruse>=1.0.3->apex==0.9.10dev->-r requirements.txt (line 1))\r\n",
      "  Downloading python3_openid-3.2.0-py3-none-any.whl (133 kB)\r\n",
      "\u001b[2K     \u001b[90m━━━━━━━━━━━━━━━━━━━━━━━━━━━━━━━━━━━━━━━\u001b[0m \u001b[32m133.7/133.7 kB\u001b[0m \u001b[31m8.0 MB/s\u001b[0m eta \u001b[36m0:00:00\u001b[0m\r\n",
      "\u001b[?25hCollecting pbkdf2 (from cryptacular->apex==0.9.10dev->-r requirements.txt (line 1))\r\n",
      "  Downloading pbkdf2-1.3.tar.gz (6.4 kB)\r\n",
      "  Preparing metadata (setup.py) ... \u001b[?25l-\b \bdone\r\n",
      "\u001b[?25hRequirement already satisfied: MarkupSafe>=2.0 in /opt/conda/lib/python3.10/site-packages (from jinja2->torch==2.1.2->-r requirements.txt (line 4)) (2.1.3)\r\n",
      "Collecting repoze.sendmail>=4.1 (from pyramid_mailer->apex==0.9.10dev->-r requirements.txt (line 1))\r\n",
      "  Downloading repoze.sendmail-4.4.1-py2.py3-none-any.whl (41 kB)\r\n",
      "\u001b[2K     \u001b[90m━━━━━━━━━━━━━━━━━━━━━━━━━━━━━━━━━━━━━━━━\u001b[0m \u001b[32m41.0/41.0 kB\u001b[0m \u001b[31m2.1 MB/s\u001b[0m eta \u001b[36m0:00:00\u001b[0m\r\n",
      "\u001b[?25hCollecting transaction (from pyramid_mailer->apex==0.9.10dev->-r requirements.txt (line 1))\r\n",
      "  Downloading transaction-4.0-py3-none-any.whl.metadata (14 kB)\r\n",
      "Requirement already satisfied: charset-normalizer<4,>=2 in /opt/conda/lib/python3.10/site-packages (from requests->apex==0.9.10dev->-r requirements.txt (line 1)) (3.3.2)\r\n",
      "Requirement already satisfied: idna<4,>=2.5 in /opt/conda/lib/python3.10/site-packages (from requests->apex==0.9.10dev->-r requirements.txt (line 1)) (3.6)\r\n",
      "Requirement already satisfied: urllib3<3,>=1.21.1 in /opt/conda/lib/python3.10/site-packages (from requests->apex==0.9.10dev->-r requirements.txt (line 1)) (1.26.18)\r\n",
      "Requirement already satisfied: certifi>=2017.4.17 in /opt/conda/lib/python3.10/site-packages (from requests->apex==0.9.10dev->-r requirements.txt (line 1)) (2023.11.17)\r\n",
      "Requirement already satisfied: mpmath>=0.19 in /opt/conda/lib/python3.10/site-packages (from sympy->torch==2.1.2->-r requirements.txt (line 4)) (1.3.0)\r\n",
      "Requirement already satisfied: SQLAlchemy!=1.4.0,!=1.4.1,!=1.4.2,!=1.4.3,!=1.4.4,!=1.4.5,!=1.4.6,>=1.1 in /opt/conda/lib/python3.10/site-packages (from zope.sqlalchemy->apex==0.9.10dev->-r requirements.txt (line 1)) (2.0.25)\r\n",
      "Requirement already satisfied: greenlet!=0.4.17 in /opt/conda/lib/python3.10/site-packages (from SQLAlchemy!=1.4.0,!=1.4.1,!=1.4.2,!=1.4.3,!=1.4.4,!=1.4.5,!=1.4.6,>=1.1->zope.sqlalchemy->apex==0.9.10dev->-r requirements.txt (line 1)) (3.0.3)\r\n",
      "Collecting PasteDeploy>=2.0 (from plaster-pastedeploy->pyramid>1.1.2->apex==0.9.10dev->-r requirements.txt (line 1))\r\n",
      "  Downloading PasteDeploy-3.1.0-py3-none-any.whl.metadata (2.7 kB)\r\n",
      "Requirement already satisfied: defusedxml in /opt/conda/lib/python3.10/site-packages (from python3-openid->velruse>=1.0.3->apex==0.9.10dev->-r requirements.txt (line 1)) (0.7.1)\r\n",
      "Requirement already satisfied: oauthlib>=3.0.0 in /opt/conda/lib/python3.10/site-packages (from requests-oauthlib->velruse>=1.0.3->apex==0.9.10dev->-r requirements.txt (line 1)) (3.2.2)\r\n",
      "Downloading pyramid-2.0.2-py3-none-any.whl (247 kB)\r\n",
      "\u001b[2K   \u001b[90m━━━━━━━━━━━━━━━━━━━━━━━━━━━━━━━━━━━━━━━━\u001b[0m \u001b[32m247.3/247.3 kB\u001b[0m \u001b[31m13.2 MB/s\u001b[0m eta \u001b[36m0:00:00\u001b[0m\r\n",
      "\u001b[?25hDownloading wtforms-3.1.2-py3-none-any.whl (145 kB)\r\n",
      "\u001b[2K   \u001b[90m━━━━━━━━━━━━━━━━━━━━━━━━━━━━━━━━━━━━━━━━\u001b[0m \u001b[32m146.0/146.0 kB\u001b[0m \u001b[31m9.7 MB/s\u001b[0m eta \u001b[36m0:00:00\u001b[0m\r\n",
      "\u001b[?25hDownloading zope.sqlalchemy-3.1-py3-none-any.whl (23 kB)\r\n",
      "Downloading hupper-1.12.1-py3-none-any.whl (22 kB)\r\n",
      "Downloading transaction-4.0-py3-none-any.whl (46 kB)\r\n",
      "\u001b[2K   \u001b[90m━━━━━━━━━━━━━━━━━━━━━━━━━━━━━━━━━━━━━━━━\u001b[0m \u001b[32m46.6/46.6 kB\u001b[0m \u001b[31m2.5 MB/s\u001b[0m eta \u001b[36m0:00:00\u001b[0m\r\n",
      "\u001b[?25hDownloading venusian-3.1.0-py3-none-any.whl (13 kB)\r\n",
      "Downloading zope.interface-6.1-cp310-cp310-manylinux_2_5_x86_64.manylinux1_x86_64.manylinux_2_17_x86_64.manylinux2014_x86_64.whl (247 kB)\r\n",
      "\u001b[2K   \u001b[90m━━━━━━━━━━━━━━━━━━━━━━━━━━━━━━━━━━━━━━━━\u001b[0m \u001b[32m247.1/247.1 kB\u001b[0m \u001b[31m13.0 MB/s\u001b[0m eta \u001b[36m0:00:00\u001b[0m\r\n",
      "\u001b[?25hDownloading PasteDeploy-3.1.0-py3-none-any.whl (16 kB)\r\n",
      "Building wheels for collected packages: apex, velruse, cryptacular, anykeystore, pbkdf2\r\n",
      "  Building wheel for apex (setup.py) ... \u001b[?25l-\b \bdone\r\n",
      "\u001b[?25h  Created wheel for apex: filename=apex-0.9.10.dev0-py3-none-any.whl size=46442 sha256=f863db188a6032ab6b0516ee42c8de202fa9dc7f2605315a1458fb90fec25915\r\n",
      "  Stored in directory: /root/.cache/pip/wheels/6e/62/59/9b100fce7ebd989603b3b7a4ca259150da72c9e107fcaa2a30\r\n",
      "  Building wheel for velruse (setup.py) ... \u001b[?25l-\b \b\\\b \bdone\r\n",
      "\u001b[?25h  Created wheel for velruse: filename=velruse-1.1.1-py3-none-any.whl size=50909 sha256=89bce308e678aa557a9cb6c6d9a4e53f7acf3a5eb4b2f5700e9ec285a2b4d8aa\r\n",
      "  Stored in directory: /root/.cache/pip/wheels/4a/f9/a4/fc4ea7b935ee9c58b9bc772cabd94f6a8560f35444097d948d\r\n",
      "  Building wheel for cryptacular (pyproject.toml) ... \u001b[?25l-\b \b\\\b \b|\b \b/\b \b-\b \bdone\r\n",
      "\u001b[?25h  Created wheel for cryptacular: filename=cryptacular-1.6.2-cp310-cp310-linux_x86_64.whl size=28236 sha256=9a7d411e3cfe65f01c4271e2535f1f8a38d12f3efd8fc000568f8f3b4100b2d9\r\n",
      "  Stored in directory: /root/.cache/pip/wheels/3f/6e/09/a7fba517f95b2a6a36bd01b6d4f4679fa7259615a493b64b8f\r\n",
      "  Building wheel for anykeystore (setup.py) ... \u001b[?25l-\b \bdone\r\n",
      "\u001b[?25h  Created wheel for anykeystore: filename=anykeystore-0.2-py3-none-any.whl size=16813 sha256=5233c2c27081488b32443990c5c3b2a2898d223a97e34f88f36b43282f42ab1f\r\n",
      "  Stored in directory: /root/.cache/pip/wheels/ce/9e/24/35542b7d376b53a6f8426524cc5a3f7998f975037b32d19906\r\n",
      "  Building wheel for pbkdf2 (setup.py) ... \u001b[?25l-\b \b\\\b \bdone\r\n",
      "\u001b[?25h  Created wheel for pbkdf2: filename=pbkdf2-1.3-py3-none-any.whl size=5082 sha256=c0d2f8de6f9cbfbd37c03fe6e91ce6c77db9ca81e710f788fb162f087a561931\r\n",
      "  Stored in directory: /root/.cache/pip/wheels/f6/7d/8b/4269ff90fda80497ec59f6ff7d1e1596cb697c1dc8e9bbe320\r\n",
      "Successfully built apex velruse cryptacular anykeystore pbkdf2\r\n",
      "Installing collected packages: translationstring, pbkdf2, anykeystore, zope.interface, zope.deprecation, wtforms, webob, venusian, rouge, python3-openid, plaster, PasteDeploy, hupper, cryptacular, wtforms-recaptcha, transaction, plaster-pastedeploy, zope.sqlalchemy, repoze.sendmail, pyramid, velruse, pyramid_mailer, apex\r\n",
      "Successfully installed PasteDeploy-3.1.0 anykeystore-0.2 apex-0.9.10.dev0 cryptacular-1.6.2 hupper-1.12.1 pbkdf2-1.3 plaster-1.1.2 plaster-pastedeploy-1.0.1 pyramid-2.0.2 pyramid_mailer-0.15.1 python3-openid-3.2.0 repoze.sendmail-4.4.1 rouge-1.0.1 transaction-4.0 translationstring-1.4 velruse-1.1.1 venusian-3.1.0 webob-1.8.7 wtforms-3.1.2 wtforms-recaptcha-0.3.2 zope.deprecation-5.0 zope.interface-6.1 zope.sqlalchemy-3.1\r\n"
     ]
    }
   ],
   "source": [
    "!pip install -r requirements.txt"
   ]
  },
  {
   "cell_type": "code",
   "execution_count": 8,
   "id": "24dee122",
   "metadata": {
    "execution": {
     "iopub.execute_input": "2024-02-08T21:22:59.609497Z",
     "iopub.status.busy": "2024-02-08T21:22:59.609196Z",
     "iopub.status.idle": "2024-02-08T21:23:18.782726Z",
     "shell.execute_reply": "2024-02-08T21:23:18.781693Z"
    },
    "papermill": {
     "duration": 19.189713,
     "end_time": "2024-02-08T21:23:18.785244",
     "exception": false,
     "start_time": "2024-02-08T21:22:59.595531",
     "status": "completed"
    },
    "tags": []
   },
   "outputs": [
    {
     "name": "stdout",
     "output_type": "stream",
     "text": [
      "Better speed can be achieved with apex installed from https://www.github.com/nvidia/apex.\r\n",
      "{\r\n",
      "  \"lr\": 0.0001,\r\n",
      "  \"model\": \"t5-base\",\r\n",
      "  \"seed\": 1,\r\n",
      "  \"bs\": 8,\r\n",
      "  \"gradient_accumulation_steps\": 1,\r\n",
      "  \"epoch\": 1,\r\n",
      "  \"train_path\": \"./data/obqa/train.jsonl\",\r\n",
      "  \"dev_path\": \"./data/obqa/dev.jsonl\",\r\n",
      "  \"test_path\": \"./data/obqa/test.jsonl\",\r\n",
      "  \"train_size\": 4957,\r\n",
      "  \"dev_size\": 500,\r\n",
      "  \"test_size\": 500,\r\n",
      "  \"num_hidden_layers\": 1,\r\n",
      "  \"external_sent_num\": null,\r\n",
      "  \"alpha\": 0.5,\r\n",
      "  \"beta\": 1\r\n",
      "}\r\n",
      "spiece.model: 100%|██████████████████████████| 792k/792k [00:00<00:00, 14.8MB/s]\r\n",
      "tokenizer.json: 100%|██████████████████████| 1.39M/1.39M [00:00<00:00, 12.0MB/s]\r\n",
      "config.json: 100%|█████████████████████████| 1.21k/1.21k [00:00<00:00, 7.04MB/s]\r\n",
      "/opt/conda/lib/python3.10/site-packages/transformers/models/t5/tokenization_t5.py:240: FutureWarning: This tokenizer was incorrectly instantiated with a model max length of 512 which will be corrected in Transformers v5.\r\n",
      "For now, this behavior is kept to avoid breaking backwards compatibility when padding/encoding with `truncation is True`.\r\n",
      "- Be aware that you SHOULD NOT rely on t5-base automatically truncating your input to 512 when padding/encoding.\r\n",
      "- If you want to encode/pad to sequences longer than 512 you can either instantiate this tokenizer with `model_max_length` or pass `max_length` when encoding/padding.\r\n",
      "- To avoid this warning, please instantiate this tokenizer with `model_max_length` set to your preferred value.\r\n",
      "  warnings.warn(\r\n",
      "You are using the default legacy behaviour of the <class 'transformers.models.t5.tokenization_t5.T5Tokenizer'>. This is expected, and simply means that the `legacy` (previous) behavior will be used so nothing changes for you. If you want to use the new behaviour, set `legacy=False`. This should only be set if you understand what it means, and thoroughly read the reason why this was added as explained in https://github.com/huggingface/transformers/pull/24565\r\n",
      "Special tokens have been added in the vocabulary, make sure the associated word embeddings are fine-tuned or trained.\r\n",
      "model.safetensors: 100%|██████████████████████| 892M/892M [00:04<00:00, 207MB/s]\r\n",
      "generation_config.json: 100%|███████████████████| 147/147 [00:00<00:00, 985kB/s]\r\n",
      "Traceback (most recent call last):\r\n",
      "  File \"/opt/conda/lib/python3.10/site-packages/torch/cuda/__init__.py\", line 311, in _lazy_init\r\n",
      "    queued_call()\r\n",
      "  File \"/opt/conda/lib/python3.10/site-packages/torch/cuda/__init__.py\", line 180, in _check_capability\r\n",
      "    capability = get_device_capability(d)\r\n",
      "  File \"/opt/conda/lib/python3.10/site-packages/torch/cuda/__init__.py\", line 435, in get_device_capability\r\n",
      "    prop = get_device_properties(device)\r\n",
      "  File \"/opt/conda/lib/python3.10/site-packages/torch/cuda/__init__.py\", line 453, in get_device_properties\r\n",
      "    return _get_device_properties(device)  # type: ignore[name-defined]\r\n",
      "RuntimeError: device >= 0 && device < num_gpus INTERNAL ASSERT FAILED at \"/usr/local/src/pytorch/aten/src/ATen/cuda/CUDAContext.cpp\":50, please report a bug to PyTorch. device=1, num_gpus=\u0001\r\n",
      "\r\n",
      "The above exception was the direct cause of the following exception:\r\n",
      "\r\n",
      "Traceback (most recent call last):\r\n",
      "  File \"/kaggle/working/CSE447_Project/GenMC/run_genmc.py\", line 232, in <module>\r\n",
      "    model = GenMC(args.model_path, args.num_hidden_layers, args.alpha, args.beta)\r\n",
      "  File \"/kaggle/working/CSE447_Project/GenMC/model/modeling_genmc.py\", line 18, in __init__\r\n",
      "    self.option_linear = nn.Linear(dim, 1).to(device)\r\n",
      "  File \"/opt/conda/lib/python3.10/site-packages/torch/nn/modules/module.py\", line 1160, in to\r\n",
      "    return self._apply(convert)\r\n",
      "  File \"/opt/conda/lib/python3.10/site-packages/torch/nn/modules/module.py\", line 833, in _apply\r\n",
      "    param_applied = fn(param)\r\n",
      "  File \"/opt/conda/lib/python3.10/site-packages/torch/nn/modules/module.py\", line 1158, in convert\r\n",
      "    return t.to(device, dtype if t.is_floating_point() or t.is_complex() else None, non_blocking)\r\n",
      "  File \"/opt/conda/lib/python3.10/site-packages/torch/cuda/__init__.py\", line 317, in _lazy_init\r\n",
      "    raise DeferredCudaCallError(msg) from e\r\n",
      "torch.cuda.DeferredCudaCallError: CUDA call failed lazily at initialization with error: device >= 0 && device < num_gpus INTERNAL ASSERT FAILED at \"/usr/local/src/pytorch/aten/src/ATen/cuda/CUDAContext.cpp\":50, please report a bug to PyTorch. device=1, num_gpus=\u0001\r\n",
      "\r\n",
      "CUDA call was originally invoked at:\r\n",
      "\r\n",
      "  File \"/kaggle/working/CSE447_Project/GenMC/run_genmc.py\", line 2, in <module>\r\n",
      "    from transformers import T5Tokenizer\r\n",
      "  File \"<frozen importlib._bootstrap>\", line 1027, in _find_and_load\r\n",
      "  File \"<frozen importlib._bootstrap>\", line 1006, in _find_and_load_unlocked\r\n",
      "  File \"<frozen importlib._bootstrap>\", line 688, in _load_unlocked\r\n",
      "  File \"<frozen importlib._bootstrap_external>\", line 883, in exec_module\r\n",
      "  File \"<frozen importlib._bootstrap>\", line 241, in _call_with_frames_removed\r\n",
      "  File \"/opt/conda/lib/python3.10/site-packages/transformers/__init__.py\", line 26, in <module>\r\n",
      "    from . import dependency_versions_check\r\n",
      "  File \"<frozen importlib._bootstrap>\", line 1078, in _handle_fromlist\r\n",
      "  File \"<frozen importlib._bootstrap>\", line 241, in _call_with_frames_removed\r\n",
      "  File \"<frozen importlib._bootstrap>\", line 1027, in _find_and_load\r\n",
      "  File \"<frozen importlib._bootstrap>\", line 1006, in _find_and_load_unlocked\r\n",
      "  File \"<frozen importlib._bootstrap>\", line 688, in _load_unlocked\r\n",
      "  File \"<frozen importlib._bootstrap_external>\", line 883, in exec_module\r\n",
      "  File \"<frozen importlib._bootstrap>\", line 241, in _call_with_frames_removed\r\n",
      "  File \"/opt/conda/lib/python3.10/site-packages/transformers/dependency_versions_check.py\", line 16, in <module>\r\n",
      "    from .utils.versions import require_version, require_version_core\r\n",
      "  File \"<frozen importlib._bootstrap>\", line 1027, in _find_and_load\r\n",
      "  File \"<frozen importlib._bootstrap>\", line 992, in _find_and_load_unlocked\r\n",
      "  File \"<frozen importlib._bootstrap>\", line 241, in _call_with_frames_removed\r\n",
      "  File \"<frozen importlib._bootstrap>\", line 1027, in _find_and_load\r\n",
      "  File \"<frozen importlib._bootstrap>\", line 1006, in _find_and_load_unlocked\r\n",
      "  File \"<frozen importlib._bootstrap>\", line 688, in _load_unlocked\r\n",
      "  File \"<frozen importlib._bootstrap_external>\", line 883, in exec_module\r\n",
      "  File \"<frozen importlib._bootstrap>\", line 241, in _call_with_frames_removed\r\n",
      "  File \"/opt/conda/lib/python3.10/site-packages/transformers/utils/__init__.py\", line 32, in <module>\r\n",
      "    from .generic import (\r\n",
      "  File \"<frozen importlib._bootstrap>\", line 1027, in _find_and_load\r\n",
      "  File \"<frozen importlib._bootstrap>\", line 1006, in _find_and_load_unlocked\r\n",
      "  File \"<frozen importlib._bootstrap>\", line 688, in _load_unlocked\r\n",
      "  File \"<frozen importlib._bootstrap_external>\", line 883, in exec_module\r\n",
      "  File \"<frozen importlib._bootstrap>\", line 241, in _call_with_frames_removed\r\n",
      "  File \"/opt/conda/lib/python3.10/site-packages/transformers/utils/generic.py\", line 432, in <module>\r\n",
      "    import torch.utils._pytree as _torch_pytree\r\n",
      "  File \"<frozen importlib._bootstrap>\", line 1027, in _find_and_load\r\n",
      "  File \"<frozen importlib._bootstrap>\", line 992, in _find_and_load_unlocked\r\n",
      "  File \"<frozen importlib._bootstrap>\", line 241, in _call_with_frames_removed\r\n",
      "  File \"<frozen importlib._bootstrap>\", line 1027, in _find_and_load\r\n",
      "  File \"<frozen importlib._bootstrap>\", line 992, in _find_and_load_unlocked\r\n",
      "  File \"<frozen importlib._bootstrap>\", line 241, in _call_with_frames_removed\r\n",
      "  File \"<frozen importlib._bootstrap>\", line 1027, in _find_and_load\r\n",
      "  File \"<frozen importlib._bootstrap>\", line 1006, in _find_and_load_unlocked\r\n",
      "  File \"<frozen importlib._bootstrap>\", line 688, in _load_unlocked\r\n",
      "  File \"<frozen importlib._bootstrap_external>\", line 883, in exec_module\r\n",
      "  File \"<frozen importlib._bootstrap>\", line 241, in _call_with_frames_removed\r\n",
      "  File \"/opt/conda/lib/python3.10/site-packages/torch/__init__.py\", line 1332, in <module>\r\n",
      "    _C._initExtension(manager_path())\r\n",
      "  File \"<frozen importlib._bootstrap>\", line 1027, in _find_and_load\r\n",
      "  File \"<frozen importlib._bootstrap>\", line 1006, in _find_and_load_unlocked\r\n",
      "  File \"<frozen importlib._bootstrap>\", line 688, in _load_unlocked\r\n",
      "  File \"<frozen importlib._bootstrap_external>\", line 883, in exec_module\r\n",
      "  File \"<frozen importlib._bootstrap>\", line 241, in _call_with_frames_removed\r\n",
      "  File \"/opt/conda/lib/python3.10/site-packages/torch/cuda/__init__.py\", line 244, in <module>\r\n",
      "    _lazy_call(_check_capability)\r\n",
      "  File \"/opt/conda/lib/python3.10/site-packages/torch/cuda/__init__.py\", line 241, in _lazy_call\r\n",
      "    _queued_calls.append((callable, traceback.format_stack()))\r\n",
      "\r\n"
     ]
    }
   ],
   "source": [
    "!python run_genmc.py --epoch_num 1 --model_path t5-base --choice_num 5 --data_path_train ./data/obqa/train.jsonl --data_path_dev ./data/obqa/dev.jsonl --data_path_test ./data/obqa/test.jsonl "
   ]
  },
  {
   "cell_type": "code",
   "execution_count": null,
   "id": "f24dd436",
   "metadata": {
    "papermill": {
     "duration": 0.016784,
     "end_time": "2024-02-08T21:23:18.818757",
     "exception": false,
     "start_time": "2024-02-08T21:23:18.801973",
     "status": "completed"
    },
    "tags": []
   },
   "outputs": [],
   "source": []
  }
 ],
 "metadata": {
  "kaggle": {
   "accelerator": "nvidiaTeslaT4",
   "dataSources": [],
   "dockerImageVersionId": 30648,
   "isGpuEnabled": true,
   "isInternetEnabled": true,
   "language": "python",
   "sourceType": "notebook"
  },
  "kernelspec": {
   "display_name": "Python 3",
   "language": "python",
   "name": "python3"
  },
  "language_info": {
   "codemirror_mode": {
    "name": "ipython",
    "version": 3
   },
   "file_extension": ".py",
   "mimetype": "text/x-python",
   "name": "python",
   "nbconvert_exporter": "python",
   "pygments_lexer": "ipython3",
   "version": "3.10.13"
  },
  "papermill": {
   "default_parameters": {},
   "duration": 76.051651,
   "end_time": "2024-02-08T21:23:19.154863",
   "environment_variables": {},
   "exception": null,
   "input_path": "__notebook__.ipynb",
   "output_path": "__notebook__.ipynb",
   "parameters": {},
   "start_time": "2024-02-08T21:22:03.103212",
   "version": "2.5.0"
  }
 },
 "nbformat": 4,
 "nbformat_minor": 5
}
