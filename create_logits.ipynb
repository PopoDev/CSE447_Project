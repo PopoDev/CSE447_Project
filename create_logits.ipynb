{
 "cells": [
  {
   "cell_type": "code",
   "execution_count": 19,
   "metadata": {
    "collapsed": true,
    "ExecuteTime": {
     "start_time": "2024-02-14T22:00:06.261813Z",
     "end_time": "2024-02-14T22:00:06.265276Z"
    }
   },
   "outputs": [
    {
     "ename": "ImportError",
     "evalue": "cannot import name 'compute_rouges' from 'utils' (C:\\Users\\davse\\anaconda3\\lib\\site-packages\\utils\\__init__.py)",
     "output_type": "error",
     "traceback": [
      "\u001B[1;31m---------------------------------------------------------------------------\u001B[0m",
      "\u001B[1;31mImportError\u001B[0m                               Traceback (most recent call last)",
      "Input \u001B[1;32mIn [19]\u001B[0m, in \u001B[0;36m<cell line: 8>\u001B[1;34m()\u001B[0m\n\u001B[0;32m      6\u001B[0m \u001B[38;5;28;01mfrom\u001B[39;00m \u001B[38;5;21;01mGenMC\u001B[39;00m\u001B[38;5;21;01m.\u001B[39;00m\u001B[38;5;21;01mutils\u001B[39;00m \u001B[38;5;28;01mimport\u001B[39;00m read_dataset, save_dataset, read_dataset, set_seed, save_model\n\u001B[0;32m      7\u001B[0m \u001B[38;5;28;01mfrom\u001B[39;00m \u001B[38;5;21;01mGenMC\u001B[39;00m\u001B[38;5;21;01m.\u001B[39;00m\u001B[38;5;21;01mmodel\u001B[39;00m\u001B[38;5;21;01m.\u001B[39;00m\u001B[38;5;21;01mmodeling_genmc\u001B[39;00m \u001B[38;5;28;01mimport\u001B[39;00m GenMC\n\u001B[1;32m----> 8\u001B[0m \u001B[38;5;28;01mfrom\u001B[39;00m \u001B[38;5;21;01mGenMC\u001B[39;00m\u001B[38;5;21;01m.\u001B[39;00m\u001B[38;5;21;01mrun_genmc\u001B[39;00m \u001B[38;5;28;01mimport\u001B[39;00m get_input_feature\n\u001B[0;32m      9\u001B[0m \u001B[38;5;28;01mimport\u001B[39;00m \u001B[38;5;21;01mjson\u001B[39;00m\n\u001B[0;32m     10\u001B[0m \u001B[38;5;28;01mimport\u001B[39;00m \u001B[38;5;21;01margparse\u001B[39;00m\n",
      "File \u001B[1;32m~\\Documents\\College Work\\AMATH 422\\CSE447_Project\\GenMC\\run_genmc.py:7\u001B[0m, in \u001B[0;36m<module>\u001B[1;34m\u001B[0m\n\u001B[0;32m      5\u001B[0m \u001B[38;5;28;01mimport\u001B[39;00m \u001B[38;5;21;01mrandom\u001B[39;00m\n\u001B[0;32m      6\u001B[0m \u001B[38;5;28;01mimport\u001B[39;00m \u001B[38;5;21;01mtorch\u001B[39;00m\n\u001B[1;32m----> 7\u001B[0m \u001B[38;5;28;01mfrom\u001B[39;00m \u001B[38;5;21;01mutils\u001B[39;00m \u001B[38;5;28;01mimport\u001B[39;00m compute_rouges, save_dataset, read_dataset, set_seed, save_model\n\u001B[0;32m      8\u001B[0m \u001B[38;5;28;01mfrom\u001B[39;00m \u001B[38;5;21;01mmodel\u001B[39;00m\u001B[38;5;21;01m.\u001B[39;00m\u001B[38;5;21;01mmodeling_genmc\u001B[39;00m \u001B[38;5;28;01mimport\u001B[39;00m GenMC\n\u001B[0;32m      9\u001B[0m \u001B[38;5;28;01mimport\u001B[39;00m \u001B[38;5;21;01mjson\u001B[39;00m\n",
      "\u001B[1;31mImportError\u001B[0m: cannot import name 'compute_rouges' from 'utils' (C:\\Users\\davse\\anaconda3\\lib\\site-packages\\utils\\__init__.py)"
     ]
    }
   ],
   "source": [
    "from transformers import T5Tokenizer\n",
    "from tqdm import trange\n",
    "import os\n",
    "import random\n",
    "import torch\n",
    "from GenMC.utils import read_dataset, save_dataset, read_dataset, set_seed, save_model\n",
    "from GenMC.model.modeling_genmc import GenMC\n",
    "from GenMC.run_genmc import get_input_feature\n",
    "import json\n",
    "import argparse\n",
    "\n",
    "# device = torch.device(\"cuda:0\")"
   ]
  },
  {
   "cell_type": "code",
   "execution_count": 4,
   "outputs": [],
   "source": [
    "output_path = \"data_with_logits/\"\n",
    "input_path = \"GenMC/data/obqa/\""
   ],
   "metadata": {
    "collapsed": false,
    "ExecuteTime": {
     "start_time": "2024-02-14T22:00:33.309928Z",
     "end_time": "2024-02-14T22:00:33.319258Z"
    }
   }
  },
  {
   "cell_type": "code",
   "execution_count": 5,
   "outputs": [
    {
     "data": {
      "text/plain": "4957"
     },
     "execution_count": 5,
     "metadata": {},
     "output_type": "execute_result"
    }
   ],
   "source": [
    "dataset = read_dataset(input_path+\"train.jsonl\")\n",
    "len(dataset)"
   ],
   "metadata": {
    "collapsed": false,
    "ExecuteTime": {
     "start_time": "2024-02-14T22:01:27.101522Z",
     "end_time": "2024-02-14T22:01:27.618605Z"
    }
   }
  },
  {
   "cell_type": "code",
   "execution_count": 13,
   "outputs": [
    {
     "data": {
      "text/plain": "list"
     },
     "execution_count": 13,
     "metadata": {},
     "output_type": "execute_result"
    }
   ],
   "source": [
    "model = GenMC(\"t5-large\", 1, 0.5, 1)\n",
    "checkpoint = torch.load(\"GenMC/trained_models/t5-large lr 1e-4 bs 8 epochs 20/pytorch_model.bin\")\n",
    "model.load_state_dict(checkpoint['model_state_dict'])"
   ],
   "metadata": {
    "collapsed": false,
    "ExecuteTime": {
     "start_time": "2024-02-14T22:09:24.859595Z",
     "end_time": "2024-02-14T22:09:24.864051Z"
    }
   }
  },
  {
   "cell_type": "code",
   "execution_count": null,
   "outputs": [],
   "source": [
    "\n",
    "choice_num = 5\n",
    "model.eval()\n",
    "eval_batch_size = 128\n",
    "step_count = len(dataset) // eval_batch_size\n",
    "if step_count * eval_batch_size < len(dataset):\n",
    "    step_count += 1\n",
    "for i in range(step_count):\n",
    "    beg_index = i * eval_batch_size\n",
    "    end_index = min((i + 1) * eval_batch_size, len(dataset))\n",
    "    batch_example = [example for example in dataset[beg_index:end_index]]\n",
    "\n",
    "    q_ids, q_mask, qo_ids, qo_mask, clue_ids, answers, output_clue = get_input_feature(\n",
    "                    batch_example,\n",
    "                    max_source_length=256,\n",
    "                    max_len_gen=64,\n",
    "                    choice_num=choice_num,\n",
    "                    external_sent_num=None)\n",
    "    scores, output_sequences, decoder_qo = model(q_ids, q_mask, qo_ids, qo_mask, choice_num, get_decoderqo = True)\n",
    "\n",
    "    scores = scores.cpu().detach().tolist()\n",
    "    decoder_qo = decoder_qo.cpu().detach().tolist()\n",
    "    for idx, j in enumerate(range(beg_index, end_index)):\n",
    "        dataset[i][\"logits\"] = scores[idx]\n",
    "        dataset[i][\"H_QC\"] = decoder_qo[idx]\n"
   ],
   "metadata": {
    "collapsed": false
   }
  },
  {
   "cell_type": "code",
   "execution_count": 12,
   "outputs": [
    {
     "data": {
      "text/plain": "dict_keys(['stem', 'choices'])"
     },
     "execution_count": 12,
     "metadata": {},
     "output_type": "execute_result"
    }
   ],
   "source": [
    "save_dataset(output_path+ \"train.jsonl\",dataset)\n"
   ],
   "metadata": {
    "collapsed": false,
    "ExecuteTime": {
     "start_time": "2024-02-14T22:09:14.593822Z",
     "end_time": "2024-02-14T22:09:14.600656Z"
    }
   }
  },
  {
   "cell_type": "code",
   "execution_count": 18,
   "outputs": [
    {
     "ename": "NameError",
     "evalue": "name 'scores' is not defined",
     "output_type": "error",
     "traceback": [
      "\u001B[1;31m---------------------------------------------------------------------------\u001B[0m",
      "\u001B[1;31mNameError\u001B[0m                                 Traceback (most recent call last)",
      "Input \u001B[1;32mIn [18]\u001B[0m, in \u001B[0;36m<cell line: 1>\u001B[1;34m()\u001B[0m\n\u001B[0;32m      1\u001B[0m \u001B[38;5;28;01mfor\u001B[39;00m i \u001B[38;5;129;01min\u001B[39;00m \u001B[38;5;28mrange\u001B[39m(\u001B[38;5;28mlen\u001B[39m(dataset)): \n\u001B[1;32m----> 2\u001B[0m     dataset[i][\u001B[38;5;124m\"\u001B[39m\u001B[38;5;124mlogits\u001B[39m\u001B[38;5;124m\"\u001B[39m] \u001B[38;5;241m=\u001B[39m \u001B[43mscores\u001B[49m[i]\n",
      "\u001B[1;31mNameError\u001B[0m: name 'scores' is not defined"
     ]
    }
   ],
   "source": [
    "\n"
   ],
   "metadata": {
    "collapsed": false
   }
  },
  {
   "cell_type": "code",
   "execution_count": null,
   "outputs": [],
   "source": [],
   "metadata": {
    "collapsed": false
   }
  }
 ],
 "metadata": {
  "kernelspec": {
   "display_name": "Python 3",
   "language": "python",
   "name": "python3"
  },
  "language_info": {
   "codemirror_mode": {
    "name": "ipython",
    "version": 2
   },
   "file_extension": ".py",
   "mimetype": "text/x-python",
   "name": "python",
   "nbconvert_exporter": "python",
   "pygments_lexer": "ipython2",
   "version": "2.7.6"
  }
 },
 "nbformat": 4,
 "nbformat_minor": 0
}
